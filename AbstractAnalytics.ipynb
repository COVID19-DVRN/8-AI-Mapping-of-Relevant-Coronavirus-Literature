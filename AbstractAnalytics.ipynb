{
 "cells": [
  {
   "cell_type": "code",
   "execution_count": 128,
   "metadata": {},
   "outputs": [],
   "source": [
    "import pandas as pd\n",
    "import numpy as np\n",
    "import matplotlib.pyplot as plt\n",
    "import time\n",
    "from sklearn.decomposition import PCA\n",
    "from sklearn.decomposition import TruncatedSVD"
   ]
  },
  {
   "cell_type": "markdown",
   "metadata": {},
   "source": [
    "# Read in Small Data (metadata)"
   ]
  },
  {
   "cell_type": "code",
   "execution_count": 174,
   "metadata": {},
   "outputs": [],
   "source": [
    "metadata = pd.read_csv('big_data/metadata.csv')\n",
    "metadata = metadata[pd.isnull(metadata['abstract']) == False].reset_index(drop=True)"
   ]
  },
  {
   "cell_type": "code",
   "execution_count": 175,
   "metadata": {
    "scrolled": true
   },
   "outputs": [
    {
     "name": "stdout",
     "output_type": "stream",
     "text": [
      "There are 905 articles mentioning COVID, which likely refers to COVID-19.\n",
      "There are 881 articles mentioning COVID-19.\n",
      "There are 881 articles mentioning COVID and COVID-19.\n"
     ]
    }
   ],
   "source": [
    "count = sum(metadata['abstract'].str.contains('COVID'))\n",
    "print('There are ' + str(count) + ' articles mentioning COVID, which likely refers to COVID-19.')\n",
    "\n",
    "count = sum(metadata['abstract'].str.contains('COVID-19'))\n",
    "print('There are ' + str(count) + ' articles mentioning COVID-19.')\n",
    "\n",
    "count = sum(metadata['abstract'].str.contains('COVID-19')[(pd.isnull(metadata['abstract']) == False) & \n",
    "                                                          (metadata['abstract'].str.contains('COVID-19'))\n",
    "                                                         ] \n",
    "           )\n",
    "print('There are ' + str(count) + ' articles mentioning COVID and COVID-19.')"
   ]
  },
  {
   "cell_type": "code",
   "execution_count": 176,
   "metadata": {},
   "outputs": [
    {
     "name": "stderr",
     "output_type": "stream",
     "text": [
      "C:\\Users\\vldoa\\Anaconda3\\lib\\site-packages\\numpy\\core\\fromnumeric.py:56: FutureWarning: Series.nonzero() is deprecated and will be removed in a future version.Use Series.to_numpy().nonzero() instead\n",
      "  bound = getattr(obj, method, None)\n"
     ]
    }
   ],
   "source": [
    "covid_article_indexes = np.argwhere(metadata['abstract'].str.contains('COVID')).T[0]"
   ]
  },
  {
   "cell_type": "markdown",
   "metadata": {},
   "source": [
    "# SciBERT Implementation"
   ]
  },
  {
   "cell_type": "code",
   "execution_count": 177,
   "metadata": {
    "scrolled": false
   },
   "outputs": [],
   "source": [
    "# from transformers import *\n",
    "\n",
    "# tokenizer = AutoTokenizer.from_pretrained('big_data/allenai/scibert_scivocab_uncased')\n",
    "# model = AutoModel.from_pretrained('big_data/allenai/scibert_scivocab_uncased')"
   ]
  },
  {
   "cell_type": "markdown",
   "metadata": {},
   "source": [
    "# Traditional ML"
   ]
  },
  {
   "cell_type": "markdown",
   "metadata": {},
   "source": [
    "## Preprocessing"
   ]
  },
  {
   "cell_type": "code",
   "execution_count": 178,
   "metadata": {},
   "outputs": [],
   "source": [
    "# metadata['abstract_processed'] = metadata['abstract'].str.lower()\n",
    "# metadata[\"abstract_processed\"] = metadata['abstract_processed'].str.replace('[^\\w\\s]','')"
   ]
  },
  {
   "cell_type": "code",
   "execution_count": 179,
   "metadata": {},
   "outputs": [],
   "source": [
    "import gensim\n",
    "from gensim.utils import simple_preprocess\n",
    "from gensim.parsing.preprocessing import STOPWORDS\n",
    "from nltk.stem import WordNetLemmatizer, SnowballStemmer\n",
    "from nltk.stem.porter import *\n",
    "import numpy as np\n",
    "import nltk\n",
    "# nltk.download('wordnet')\n",
    "from nltk.corpus import wordnet\n",
    "\n",
    "stemmer = SnowballStemmer('english')"
   ]
  },
  {
   "cell_type": "code",
   "execution_count": 180,
   "metadata": {},
   "outputs": [],
   "source": [
    "# function to perform lemmatize and stem preprocessing steps on the data set.\n",
    "\n",
    "def lemmatize_stemming(text):\n",
    "    return stemmer.stem(WordNetLemmatizer().lemmatize(text, pos='v'))\n",
    "def preprocess(text):\n",
    "    result = []\n",
    "    for token in gensim.utils.simple_preprocess(text):\n",
    "        if token not in gensim.parsing.preprocessing.STOPWORDS and len(token) > 3:\n",
    "            result.append(lemmatize_stemming(token))\n",
    "    return result"
   ]
  },
  {
   "cell_type": "code",
   "execution_count": 181,
   "metadata": {},
   "outputs": [
    {
     "name": "stdout",
     "output_type": "stream",
     "text": [
      "191.2261552810669\n"
     ]
    }
   ],
   "source": [
    "t = time.time()\n",
    "metadata['gensim_abstract_processed'] = metadata['abstract'].map(preprocess)\n",
    "print(time.time() - t)"
   ]
  },
  {
   "cell_type": "markdown",
   "metadata": {},
   "source": [
    "Remove additional stop words"
   ]
  },
  {
   "cell_type": "code",
   "execution_count": 182,
   "metadata": {},
   "outputs": [],
   "source": [
    "stop = ['abstract']\n",
    "metadata['gensim_abstract_processed'] = metadata['gensim_abstract_processed'].apply(\n",
    "    lambda x: [item for item in x if item not in stop])"
   ]
  },
  {
   "cell_type": "markdown",
   "metadata": {},
   "source": [
    "Create a dictionary for word counts"
   ]
  },
  {
   "cell_type": "code",
   "execution_count": 183,
   "metadata": {},
   "outputs": [
    {
     "name": "stdout",
     "output_type": "stream",
     "text": [
      "0 abnorm\n",
      "1 addit\n",
      "2 agent\n",
      "3 allow\n",
      "4 anim\n",
      "5 antivir\n",
      "6 appear\n",
      "7 area\n",
      "8 associ\n",
      "9 basi\n",
      "10 birth\n",
      "55192 unique words\n"
     ]
    }
   ],
   "source": [
    "dictionary = gensim.corpora.Dictionary(metadata['gensim_abstract_processed'])\n",
    "count = 0\n",
    "for k, v in dictionary.iteritems():\n",
    "    print(k, v)\n",
    "    count += 1\n",
    "    if count > 10:\n",
    "        break\n",
    "print(str(len(dictionary)) + ' unique words')"
   ]
  },
  {
   "cell_type": "code",
   "execution_count": 184,
   "metadata": {},
   "outputs": [
    {
     "name": "stdout",
     "output_type": "stream",
     "text": [
      "25794 unique words\n"
     ]
    }
   ],
   "source": [
    "# Select which words in the dict to keep\n",
    "dictionary.filter_extremes(no_below=2,\n",
    "                           #no_above=0.5, \n",
    "                           #keep_n=100000\n",
    "                          )\n",
    "print(str(len(dictionary)) + ' unique words')"
   ]
  },
  {
   "cell_type": "code",
   "execution_count": 185,
   "metadata": {},
   "outputs": [
    {
     "name": "stdout",
     "output_type": "stream",
     "text": [
      "Word 16 (\"cell\") appears 2 time.\n",
      "Word 61 (\"major\") appears 1 time.\n",
      "Word 228 (\"rhinovirus\") appears 1 time.\n",
      "Word 229 (\"serotyp\") appears 1 time.\n",
      "Word 240 (\"unit\") appears 1 time.\n",
      "Word 446 (\"resolut\") appears 1 time.\n",
      "Word 517 (\"human\") appears 1 time.\n",
      "Word 533 (\"termin\") appears 1 time.\n",
      "Word 553 (\"molecul\") appears 2 time.\n",
      "Word 587 (\"probabl\") appears 1 time.\n",
      "Word 686 (\"group\") appears 2 time.\n",
      "Word 1086 (\"intercellular\") appears 1 time.\n",
      "Word 1109 (\"space\") appears 1 time.\n",
      "Word 1169 (\"domain\") appears 1 time.\n",
      "Word 1195 (\"receptor\") appears 1 time.\n",
      "Word 2046 (\"adhes\") appears 1 time.\n",
      "Word 2047 (\"crystal\") appears 2 time.\n",
      "Word 2048 (\"diffract\") appears 1 time.\n",
      "Word 2049 (\"dimens\") appears 1 time.\n",
      "Word 2050 (\"trigon\") appears 1 time.\n"
     ]
    }
   ],
   "source": [
    "# Create corpus\n",
    "bow_corpus = [dictionary.doc2bow(doc) for doc in metadata['gensim_abstract_processed']]\n",
    "\n",
    "# Preview the corpus\n",
    "bow_doc_4310 = bow_corpus[100]\n",
    "for i in range(len(bow_doc_4310)):\n",
    "    print(\"Word {} (\\\"{}\\\") appears {} time.\".format(bow_doc_4310[i][0], \n",
    "                                               dictionary[bow_doc_4310[i][0]], \n",
    "bow_doc_4310[i][1]))"
   ]
  },
  {
   "cell_type": "code",
   "execution_count": 186,
   "metadata": {},
   "outputs": [
    {
     "name": "stdout",
     "output_type": "stream",
     "text": [
      "[(0, 0.057132458636599624),\n",
      " (1, 0.025289935059486072),\n",
      " (2, 0.06406245672763695),\n",
      " (3, 0.03777505840690098),\n",
      " (4, 0.02891652922384414),\n",
      " (5, 0.031724717871507484),\n",
      " (6, 0.03869818383959291),\n",
      " (7, 0.037986946374660956),\n",
      " (8, 0.06116698934085502),\n",
      " (9, 0.046571462910656274),\n",
      " (10, 0.062236120171326625),\n",
      " (11, 0.044473855799772026),\n",
      " (12, 0.06940385977583172),\n",
      " (13, 0.06736539666029824),\n",
      " (14, 0.02522041798279582),\n",
      " (15, 0.0533714961901252),\n",
      " (16, 0.044669666994347074),\n",
      " (17, 0.04965747190862404),\n",
      " (18, 0.0765167769266904),\n",
      " (19, 0.06919890462220024),\n",
      " (20, 0.02241579825103641),\n",
      " (21, 0.5916613179855027),\n",
      " (22, 0.036517877495472854),\n",
      " (23, 0.022069462328089564),\n",
      " (24, 0.09209044548272646),\n",
      " (25, 0.028968959032340005),\n",
      " (26, 0.09821638133561973),\n",
      " (27, 0.03557295164530385),\n",
      " (28, 0.15901727287138065),\n",
      " (29, 0.03105123241473796),\n",
      " (30, 0.06591235707237193),\n",
      " (31, 0.06985989373798382),\n",
      " (32, 0.08494902996098504),\n",
      " (33, 0.07415307506918753),\n",
      " (34, 0.03345697283048187),\n",
      " (35, 0.03694682516024569),\n",
      " (36, 0.11794704250893985),\n",
      " (37, 0.06591235707237193),\n",
      " (38, 0.03619726345297082),\n",
      " (39, 0.1423167358963776),\n",
      " (40, 0.03166827747326533),\n",
      " (41, 0.04004064325004452),\n",
      " (42, 0.07954075852087852),\n",
      " (43, 0.07366983409294024),\n",
      " (44, 0.037466541607655765),\n",
      " (45, 0.05234123604116127),\n",
      " (46, 0.07594146359095934),\n",
      " (47, 0.04217483556652232),\n",
      " (48, 0.42454142807064316),\n",
      " (49, 0.02001557990542867),\n",
      " (50, 0.07018362633370316),\n",
      " (51, 0.025392388628912545),\n",
      " (52, 0.10888732639658892),\n",
      " (53, 0.03900438257511389),\n",
      " (54, 0.06446234376666657),\n",
      " (55, 0.1910774852493219),\n",
      " (56, 0.07719856789571825),\n",
      " (57, 0.031221292078449817),\n",
      " (58, 0.03078509008004047),\n",
      " (59, 0.050576451442272845),\n",
      " (60, 0.025768935753294114),\n",
      " (61, 0.027671801088252044),\n",
      " (62, 0.06575448199913013),\n",
      " (63, 0.026045337440189192),\n",
      " (64, 0.02445307707182635),\n",
      " (65, 0.0849284419725695),\n",
      " (66, 0.027668823460821973),\n",
      " (67, 0.120912098674627),\n",
      " (68, 0.08144223421333244),\n",
      " (69, 0.05106958827624888),\n",
      " (70, 0.03834777892903539),\n",
      " (71, 0.043815508781540384),\n",
      " (72, 0.08875106421577164),\n",
      " (73, 0.022571093332920702),\n",
      " (74, 0.06828215064124925),\n",
      " (75, 0.02928459530667457),\n",
      " (76, 0.08584519595352051),\n",
      " (77, 0.04939525764235661),\n",
      " (78, 0.034925158437315064),\n",
      " (79, 0.047772622682531),\n",
      " (80, 0.023456006696117207),\n",
      " (81, 0.031311060736535445),\n",
      " (82, 0.054959259932854616),\n",
      " (83, 0.03502234435174493),\n",
      " (84, 0.23997369267816934),\n",
      " (85, 0.05298573100003112),\n",
      " (86, 0.04639969018346747),\n",
      " (87, 0.07787763293850403),\n",
      " (88, 0.049153106752328805),\n",
      " (89, 0.021979644382233498),\n",
      " (90, 0.0399728296856983),\n",
      " (91, 0.0628440130779679),\n",
      " (92, 0.062116230675139605),\n",
      " (93, 0.04496803762665894),\n",
      " (94, 0.026381549243194958),\n",
      " (95, 0.1063141095280429),\n",
      " (96, 0.023031362801949992),\n",
      " (97, 0.024729396723364425),\n",
      " (98, 0.08428013474503167),\n",
      " (99, 0.02773448589716527),\n",
      " (100, 0.027400614893049752),\n",
      " (101, 0.04513324069560558),\n",
      " (102, 0.06989475273176131),\n",
      " (103, 0.06926687235275215),\n",
      " (104, 0.015702918937956438),\n",
      " (105, 0.05469161659469198),\n",
      " (106, 0.06538056495352071),\n",
      " (107, 0.08386486149933625)]\n"
     ]
    }
   ],
   "source": [
    "# Creating tf-idf matrix from bow (not clear if needed)\n",
    "\n",
    "from gensim import corpora, models\n",
    "tfidf = models.TfidfModel(bow_corpus)\n",
    "corpus_tfidf = tfidf[bow_corpus]\n",
    "from pprint import pprint\n",
    "for doc in corpus_tfidf:\n",
    "    pprint(doc)\n",
    "    break"
   ]
  },
  {
   "cell_type": "markdown",
   "metadata": {},
   "source": [
    "## PCA"
   ]
  },
  {
   "cell_type": "markdown",
   "metadata": {},
   "source": [
    "## Implementation"
   ]
  },
  {
   "cell_type": "code",
   "execution_count": 187,
   "metadata": {},
   "outputs": [],
   "source": [
    "# .T to transpose since it's a word-doc matrix, not doc-word matrix\n",
    "tfidf_sparse = gensim.matutils.corpus2csc(corpus_tfidf, printprogress=500).T"
   ]
  },
  {
   "cell_type": "code",
   "execution_count": 188,
   "metadata": {},
   "outputs": [],
   "source": [
    "from sklearn.preprocessing import normalize\n",
    "tfidf_sparse_norm = normalize(tfidf_sparse, norm='l1', axis=1)"
   ]
  },
  {
   "cell_type": "code",
   "execution_count": 189,
   "metadata": {},
   "outputs": [
    {
     "data": {
      "text/plain": [
       "(0, 1.01)"
      ]
     },
     "execution_count": 189,
     "metadata": {},
     "output_type": "execute_result"
    },
    {
     "data": {
      "image/png": "[encoded data removed]",
      "text/plain": [
       "<Figure size 432x288 with 1 Axes>"
      ]
     },
     "metadata": {
      "needs_background": "light"
     },
     "output_type": "display_data"
    }
   ],
   "source": [
    "truncatedsvd = TruncatedSVD(n_components = 30, algorithm = 'randomized', random_state = 20)\n",
    "\n",
    "transformed = truncatedsvd.fit_transform(tfidf_sparse_norm)\n",
    "\n",
    "plt.title('Explained Variance Ratio')\n",
    "plt.plot(np.cumsum(truncatedsvd.explained_variance_ratio_)[0:10])\n",
    "plt.ylim(0, 1.01)"
   ]
  },
  {
   "cell_type": "code",
   "execution_count": 190,
   "metadata": {},
   "outputs": [
    {
     "data": {
      "image/png": "[encoded data removed]",
      "text/plain": [
       "<Figure size 432x288 with 1 Axes>"
      ]
     },
     "metadata": {
      "needs_background": "light"
     },
     "output_type": "display_data"
    }
   ],
   "source": [
    "xscale_log_addition = 0.1\n",
    "\n",
    "not_covid = (np.isin(np.array(list(range(len(transformed)))), covid_article_indexes) == False)\n",
    "plt.scatter(transformed[not_covid,0] + xscale_log_addition,\n",
    "            transformed[not_covid,1], alpha=0.1)\n",
    "\n",
    "plt.scatter(transformed[covid_article_indexes,0] + xscale_log_addition,\n",
    "            transformed[covid_article_indexes,1], alpha=0.1)\n",
    "# plt.yscale('log')\n",
    "plt.xscale('log')"
   ]
  },
  {
   "cell_type": "markdown",
   "metadata": {},
   "source": [
    "## Analysis"
   ]
  },
  {
   "cell_type": "code",
   "execution_count": 201,
   "metadata": {
    "scrolled": true
   },
   "outputs": [
    {
     "data": {
      "text/plain": [
       "[('unknown', 0.9999998590864289),\n",
       " ('sar', 9.564383939883364e-05),\n",
       " ('virus', 8.705889741094843e-05),\n",
       " ('protein', 7.751716340018182e-05),\n",
       " ('cell', 7.479889863047164e-05),\n",
       " ('infect', 7.168677154854787e-05),\n",
       " ('coronavirus', 6.759051352990616e-05),\n",
       " ('patient', 6.578549514712586e-05),\n",
       " ('viral', 6.165543339278458e-05),\n",
       " ('sequenc', 6.137787216261877e-05),\n",
       " ('human', 6.111701867293777e-05),\n",
       " ('outbreak', 5.5175754861927814e-05),\n",
       " ('diseas', 5.495407507268519e-05),\n",
       " ('respiratori', 5.344427484550256e-05),\n",
       " ('etiolog', 5.333025284749956e-05),\n",
       " ('replic', 5.0146661743935145e-05),\n",
       " ('caus', 4.937873580082705e-05),\n",
       " ('case', 4.912768694654542e-05),\n",
       " ('genom', 4.718719583121541e-05),\n",
       " ('pneumonia', 4.7117383440803634e-05),\n",
       " ('identifi', 4.59243444905858e-05),\n",
       " ('detect', 4.5397415403699e-05),\n",
       " ('express', 4.488824922399317e-05),\n",
       " ('pathogen', 4.361672626152448e-05),\n",
       " ('respons', 4.2740169727610975e-05),\n",
       " ('report', 4.24582001686532e-05),\n",
       " ('host', 4.22504705841878e-05),\n",
       " ('china', 4.217986051231846e-05),\n",
       " ('activ', 4.146728283195068e-05),\n",
       " ('bat', 4.1148440980931296e-05),\n",
       " ('novel', 4.111648170262131e-05),\n",
       " ('remain', 4.0726324648377e-05),\n",
       " ('gene', 4.045019648486441e-05),\n",
       " ('mer', 3.9632122326057164e-05),\n",
       " ('function', 3.903007814674715e-05),\n",
       " ('transmiss', 3.827257216263701e-05),\n",
       " ('emerg', 3.8079634822338135e-05),\n",
       " ('associ', 3.707832123906763e-05),\n",
       " ('sever', 3.705088846041244e-05),\n",
       " ('induc', 3.703695999870346e-05),\n",
       " ('role', 3.6636911831889575e-05),\n",
       " ('wuhan', 3.606830702522299e-05),\n",
       " ('mechan', 3.584717579589006e-05),\n",
       " ('immun', 3.579414717816024e-05),\n",
       " ('syndrom', 3.521923627224309e-05),\n",
       " ('structur', 3.4976892940228817e-05),\n",
       " ('sampl', 3.4479597956247274e-05),\n",
       " ('previous', 3.4403098258229883e-05),\n",
       " ('acut', 3.357481341737056e-05),\n",
       " ('isol', 3.3416679493461734e-05),\n",
       " ('infecti', 3.337617593851452e-05),\n",
       " ('strain', 3.3336460494827255e-05),\n",
       " ('influenza', 3.3201498843265384e-05),\n",
       " ('regul', 3.227600471117905e-05),\n",
       " ('studi', 3.211345887243611e-05),\n",
       " ('suggest', 3.1777355329343685e-05),\n",
       " ('domain', 3.150491869167164e-05),\n",
       " ('know', 3.1471059422937475e-05),\n",
       " ('vaccin', 3.0991000229628676e-05),\n",
       " ('health', 3.095114951638003e-05),\n",
       " ('agent', 3.032011268887595e-05),\n",
       " ('potenti', 2.9748701896488302e-05),\n",
       " ('specif', 2.955744567595063e-05),\n",
       " ('receptor', 2.8758774223991993e-05),\n",
       " ('larg', 2.839836540889233e-05),\n",
       " ('show', 2.818543889281587e-05),\n",
       " ('bind', 2.805562825918178e-05),\n",
       " ('interact', 2.757235038585102e-05),\n",
       " ('like', 2.739471674466634e-05),\n",
       " ('type', 2.736818253610464e-05),\n",
       " ('control', 2.708023184592919e-05),\n",
       " ('clinic', 2.699593253938799e-05),\n",
       " ('children', 2.697471630534521e-05),\n",
       " ('present', 2.686406939573064e-05),\n",
       " ('result', 2.6665408166966754e-05),\n",
       " ('differ', 2.6606921770040338e-05),\n",
       " ('factor', 2.631406166064817e-05),\n",
       " ('decemb', 2.6265225662775667e-05),\n",
       " ('model', 2.617854372735093e-05),\n",
       " ('high', 2.617543143729863e-05),\n",
       " ('speci', 2.5581609561184878e-05),\n",
       " ('cluster', 2.5372711534516118e-05),\n",
       " ('import', 2.5242547454620113e-05),\n",
       " ('anim', 2.5213534914893752e-05),\n",
       " ('posit', 2.5121682156934647e-05),\n",
       " ('covid', 2.499861200792691e-05),\n",
       " ('relat', 2.4901341395525484e-05),\n",
       " ('test', 2.4797597243989128e-05),\n",
       " ('develop', 2.4646536157495562e-05),\n",
       " ('demonstr', 2.4512579796167283e-05),\n",
       " ('data', 2.407380050340084e-05),\n",
       " ('transcript', 2.3905207160403397e-05),\n",
       " ('analysi', 2.3882125727711787e-05),\n",
       " ('inhibit', 2.384980170461496e-05),\n",
       " ('group', 2.3765455438700198e-05),\n",
       " ('similar', 2.3588368620877836e-05),\n",
       " ('reveal', 2.3536430008674345e-05),\n",
       " ('tissu', 2.3407691449388785e-05),\n",
       " ('determin', 2.3397927564196827e-05),\n",
       " ('antivir', 2.336777741185073e-05)]"
      ]
     },
     "execution_count": 201,
     "metadata": {},
     "output_type": "execute_result"
    }
   ],
   "source": [
    "word_ids_sorted = np.argsort(np.abs(truncatedsvd.components_[0]))[::-1]\n",
    "[(dictionary[word_ids_sorted[i]], truncatedsvd.components_[0, word_ids_sorted[i]]) for i in range(100)]"
   ]
  },
  {
   "cell_type": "code",
   "execution_count": 217,
   "metadata": {},
   "outputs": [],
   "source": [
    "metadata['component_0'] = transformed[:,0] * 10**6\n",
    "metadata['component_1'] = transformed[:,1] * 10**6\n",
    "\n",
    "metadata['component_0_percentile'] = metadata['component_0'].rank(pct=True)\n",
    "metadata['component_1_percentile'] = metadata['component_1'].rank(pct=True)"
   ]
  },
  {
   "cell_type": "code",
   "execution_count": 220,
   "metadata": {},
   "outputs": [],
   "source": [
    "metadata['abstract_COVID'] = metadata['abstract'].str.contains('COVID')"
   ]
  },
  {
   "cell_type": "code",
   "execution_count": 223,
   "metadata": {},
   "outputs": [
    {
     "data": {
      "text/plain": [
       "Index(['sha', 'source_x', 'title', 'doi', 'pmcid', 'pubmed_id', 'license',\n",
       "       'abstract', 'publish_time', 'authors', 'journal',\n",
       "       'Microsoft Academic Paper ID', 'WHO #Covidence', 'has_full_text',\n",
       "       'full_text_file', 'gensim_abstract_processed', 'component_0',\n",
       "       'component_1', 'component_0_percentile', 'component_1_percentile',\n",
       "       'abstract_COVID'],\n",
       "      dtype='object')"
      ]
     },
     "execution_count": 223,
     "metadata": {},
     "output_type": "execute_result"
    }
   ],
   "source": [
    "metadata.columns"
   ]
  },
  {
   "cell_type": "code",
   "execution_count": 226,
   "metadata": {},
   "outputs": [],
   "source": [
    "metadata_small = metadata[[\n",
    "    'title', 'doi', 'pmcid', 'pubmed_id', 'abstract', 'publish_time', 'journal', \n",
    "    \n",
    "    'component_0', 'component_1', 'component_0_percentile', 'component_1_percentile', 'abstract_COVID'\n",
    "]]\n",
    "metadata_small.to_csv('big_data/metadata_PCAed.csv', sep='|')"
   ]
  }
 ],
 "metadata": {
  "kernelspec": {
   "display_name": "Python 3",
   "language": "python",
   "name": "python3"
  },
  "language_info": {
   "codemirror_mode": {
    "name": "ipython",
    "version": 3
   },
   "file_extension": ".py",
   "mimetype": "text/x-python",
   "name": "python",
   "nbconvert_exporter": "python",
   "pygments_lexer": "ipython3",
   "version": "3.7.3"
  }
 },
 "nbformat": 4,
 "nbformat_minor": 2
}
