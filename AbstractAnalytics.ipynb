{
 "cells": [
  {
   "cell_type": "code",
   "execution_count": 1,
   "metadata": {},
   "outputs": [],
   "source": [
    "import pandas as pd\n",
    "import numpy as np"
   ]
  },
  {
   "cell_type": "markdown",
   "metadata": {},
   "source": [
    "# Read in Small Data (metadata)"
   ]
  },
  {
   "cell_type": "code",
   "execution_count": 2,
   "metadata": {},
   "outputs": [],
   "source": [
    "metadata = pd.read_csv('big_data/metadata.csv')"
   ]
  },
  {
   "cell_type": "code",
   "execution_count": 32,
   "metadata": {},
   "outputs": [
    {
     "name": "stdout",
     "output_type": "stream",
     "text": [
      "There are 905 articles mentioning COVID, which likely refers to COVID-19.\n",
      "There are 881 articles mentioning COVID-19.\n",
      "There are 881 articles mentioning COVID and COVID-19.\n"
     ]
    }
   ],
   "source": [
    "count = sum(metadata['abstract'].str.contains('COVID')[pd.isnull(metadata['abstract']) == False])\n",
    "print('There are ' + str(count) + ' articles mentioning COVID, which likely refers to COVID-19.')\n",
    "\n",
    "count = sum(metadata['abstract'].str.contains('COVID-19')[pd.isnull(metadata['abstract']) == False])\n",
    "print('There are ' + str(count) + ' articles mentioning COVID-19.')\n",
    "\n",
    "count = sum(metadata['abstract'].str.contains('COVID-19')[(pd.isnull(metadata['abstract']) == False) & \n",
    "                                                          (metadata['abstract'].str.contains('COVID-19'))\n",
    "                                                         ] \n",
    "           )\n",
    "print('There are ' + str(count) + ' articles mentioning COVID and COVID-19.')"
   ]
  }
 ],
 "metadata": {
  "kernelspec": {
   "display_name": "Python 3",
   "language": "python",
   "name": "python3"
  },
  "language_info": {
   "codemirror_mode": {
    "name": "ipython",
    "version": 3
   },
   "file_extension": ".py",
   "mimetype": "text/x-python",
   "name": "python",
   "nbconvert_exporter": "python",
   "pygments_lexer": "ipython3",
   "version": "3.7.3"
  }
 },
 "nbformat": 4,
 "nbformat_minor": 2
}
