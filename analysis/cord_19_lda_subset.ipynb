{
 "cells": [
  {
   "cell_type": "code",
   "execution_count": 1,
   "metadata": {},
   "outputs": [],
   "source": [
    "import os\n",
    "os.chdir('..')\n",
    "metadata_path = 'big_data/metadata_20-04-03.csv'"
   ]
  },
  {
   "cell_type": "code",
   "execution_count": 2,
   "metadata": {},
   "outputs": [],
   "source": [
    "import datetime\n",
    "data_datetime = datetime.datetime(2020, 4, 5)"
   ]
  },
  {
   "cell_type": "markdown",
   "metadata": {},
   "source": [
    "# Packages and presets"
   ]
  },
  {
   "cell_type": "code",
   "execution_count": 3,
   "metadata": {},
   "outputs": [
    {
     "name": "stderr",
     "output_type": "stream",
     "text": [
      "C:\\Users\\vldoa\\Anaconda3\\lib\\site-packages\\statsmodels\\tools\\_testing.py:19: FutureWarning: pandas.util.testing is deprecated. Use the functions in the public API at pandas.testing instead.\n",
      "  import pandas.util.testing as tm\n"
     ]
    }
   ],
   "source": [
    "import gensim\n",
    "\n",
    "# for preprocessing\n",
    "from gensim.utils import simple_preprocess\n",
    "from gensim.parsing.preprocessing import STOPWORDS\n",
    "from nltk.stem import WordNetLemmatizer, SnowballStemmer\n",
    "\n",
    "# for bigrams\n",
    "from gensim.models import Phrases\n",
    "from gensim.models.phrases import Phraser\n",
    "from nltk.stem.porter import *\n",
    "import nltk\n",
    "\n",
    "# nltk.download('wordnet')\n",
    "from nltk.corpus import wordnet\n",
    "from gensim import corpora, models\n",
    "from pprint import pprint\n",
    "\n",
    "# auxiliary\n",
    "import numpy as np\n",
    "import pandas as pd\n",
    "pd.set_option('display.max_rows', 8)\n",
    "import copy\n",
    "# !date\n",
    "\n",
    "#Plotting\n",
    "import matplotlib.pyplot as plt\n",
    "import seaborn as sns"
   ]
  },
  {
   "cell_type": "markdown",
   "metadata": {},
   "source": [
    "# Functions"
   ]
  },
  {
   "cell_type": "code",
   "execution_count": 23,
   "metadata": {},
   "outputs": [],
   "source": [
    "import nlp.preprocessing as prep\n",
    "\n",
    "dpi = 300 # figure resolution"
   ]
  },
  {
   "cell_type": "markdown",
   "metadata": {},
   "source": [
    "# Load, preprocess data"
   ]
  },
  {
   "cell_type": "code",
   "execution_count": 5,
   "metadata": {
    "scrolled": true
   },
   "outputs": [
    {
     "name": "stderr",
     "output_type": "stream",
     "text": [
      "C:\\Users\\vldoa\\Anaconda3\\lib\\site-packages\\IPython\\core\\interactiveshell.py:3057: DtypeWarning: Columns (13) have mixed types.Specify dtype option on import or set low_memory=False.\n",
      "  interactivity=interactivity, compiler=compiler, result=result)\n"
     ]
    }
   ],
   "source": [
    "df = pd.read_csv(metadata_path)\n",
    "df = df[pd.isnull(df['abstract']) == False].reset_index(drop=True)"
   ]
  },
  {
   "cell_type": "code",
   "execution_count": 6,
   "metadata": {},
   "outputs": [],
   "source": [
    "df = df[df['abstract'].str.lower().str.contains(\n",
    "     \"covid-19|coronavirus|coronavirus|corona virus|2019-ncov|sars-cov|mers-cov|severe acute respiratory syndrome|middle east respiratory syndrome\") | \n",
    "         df['abstract'].str.contains(\"MERS\")\n",
    "         ]"
   ]
  },
  {
   "cell_type": "code",
   "execution_count": 7,
   "metadata": {},
   "outputs": [],
   "source": [
    "covid_article_indexes = np.argwhere(np.array(df['abstract'].str.contains('COVID|2019-nCoV|SARS-CoV-2'))).T[0]\n",
    "df['abstract_COVID'] = df['abstract'].str.contains('COVID|2019-nCoV|SARS-CoV-2')\n",
    "mers_article_indexes = np.argwhere(np.array(df['abstract'].str.contains('MER|middle east| Middle East'))).T[0]\n",
    "sars_article_indexes = np.argwhere(np.array(df['abstract'].str.contains('SARS'))).T[0]\n",
    "df['abstract'] =df['abstract'].str.lower()\n",
    "df['abstract'] = df['abstract'].str.replace('[^\\w\\s]','')\n",
    "df.reset_index(drop=True, inplace=True)"
   ]
  },
  {
   "cell_type": "code",
   "execution_count": 8,
   "metadata": {},
   "outputs": [
    {
     "data": {
      "text/plain": [
       "2000"
      ]
     },
     "execution_count": 8,
     "metadata": {},
     "output_type": "execute_result"
    }
   ],
   "source": [
    "count = sum(df['abstract_COVID'] )\n",
    "count"
   ]
  },
  {
   "cell_type": "markdown",
   "metadata": {},
   "source": [
    "# NLP Gensim"
   ]
  },
  {
   "cell_type": "markdown",
   "metadata": {},
   "source": [
    "**Notes**: Working LDA guide pulled from this website (https://towardsdatascience.com/topic-modeling-and-latent-dirichlet-allocation-in-python-9bf156893c24 ). Sklearn's LDA perplexity metric has a bug that makes it unusable."
   ]
  },
  {
   "cell_type": "markdown",
   "metadata": {},
   "source": [
    "## Data prep"
   ]
  },
  {
   "cell_type": "code",
   "execution_count": 9,
   "metadata": {},
   "outputs": [],
   "source": [
    "# function to perform lemmatize and stem preprocessing steps on the data set.\n",
    "preprocessor = prep.Preprocessor(df['abstract'])\n",
    "preprocessor.preprocess(lemmatize=True, stopwords=['abstract'], min_token_length=3)"
   ]
  },
  {
   "cell_type": "code",
   "execution_count": 10,
   "metadata": {},
   "outputs": [],
   "source": [
    "preprocessor.get_bigrams_from_preprocessed()"
   ]
  },
  {
   "cell_type": "code",
   "execution_count": 11,
   "metadata": {
    "scrolled": true
   },
   "outputs": [
    {
     "name": "stdout",
     "output_type": "stream",
     "text": [
      "0 canin_coronavirus\n",
      "1 common\n",
      "2 competit_elisa\n",
      "3 describ\n",
      "4 direct\n",
      "5 epitop\n",
      "6 felin\n",
      "7 peplom_protein\n",
      "8 relat\n",
      "9 tgev_prcv\n",
      "10 util\n",
      "\n",
      " 126390 unique words. \n",
      "\n",
      "23526 unique words after extremes filtered. \n",
      "\n",
      "\n",
      "Word 16 (\"coronavirus\") appears 2 time.\n",
      "Word 28 (\"infect\") appears 5 time.\n",
      "Word 30 (\"lead\") appears 3 time.\n",
      "Word 41 (\"virus\") appears 5 time.\n",
      "Word 48 (\"cell\") appears 11 time.\n",
      "Word 64 (\"interact\") appears 1 time.\n",
      "Word 66 (\"investig\") appears 1 time.\n",
      "Word 77 (\"present\") appears 1 time.\n",
      "Word 81 (\"result\") appears 5 time.\n",
      "Word 103 (\"express\") appears 3 time.\n",
      "Word 111 (\"observ\") appears 1 time.\n",
      "Word 142 (\"protein\") appears 5 time.\n",
      "Word 158 (\"genom\") appears 1 time.\n",
      "Word 165 (\"murin_hepat\") appears 1 time.\n",
      "Word 177 (\"specif\") appears 1 time.\n",
      "Word 207 (\"short\") appears 1 time.\n",
      "Word 389 (\"spike_protein\") appears 1 time.\n",
      "Word 502 (\"inocul\") appears 3 time.\n",
      "Word 521 (\"furthermor\") appears 1 time.\n",
      "Word 540 (\"abl\") appears 1 time.\n",
      "Word 575 (\"human\") appears 5 time.\n",
      "Word 642 (\"rapid\") appears 2 time.\n",
      "Word 675 (\"peptid\") appears 1 time.\n",
      "Word 739 (\"link\") appears 1 time.\n",
      "Word 746 (\"receptor\") appears 3 time.\n",
      "Word 751 (\"addit\") appears 1 time.\n",
      "Word 791 (\"lack\") appears 1 time.\n",
      "Word 893 (\"murin\") appears 2 time.\n",
      "Word 908 (\"gene_encod\") appears 1 time.\n",
      "Word 922 (\"mhva\") appears 1 time.\n",
      "Word 980 (\"provid\") appears 1 time.\n",
      "Word 996 (\"recombin\") appears 2 time.\n",
      "Word 1080 (\"target\") appears 6 time.\n",
      "Word 1097 (\"suscept\") appears 1 time.\n",
      "Word 1102 (\"depend\") appears 1 time.\n",
      "Word 1275 (\"cellular_receptor\") appears 1 time.\n",
      "Word 1395 (\"subsequ\") appears 3 time.\n",
      "Word 1495 (\"product_progeni\") appears 1 time.\n",
      "Word 1519 (\"interest\") appears 1 time.\n",
      "Word 1549 (\"consequ\") appears 1 time.\n",
      "Word 1776 (\"adapt\") appears 2 time.\n",
      "Word 2357 (\"death\") appears 1 time.\n",
      "Word 3714 (\"cellcel_fusion\") appears 1 time.\n",
      "Word 3757 (\"incorpor\") appears 1 time.\n",
      "Word 4690 (\"kill\") appears 1 time.\n",
      "Word 5042 (\"mceacam\") appears 1 time.\n",
      "Word 8474 (\"express_cassett\") appears 1 time.\n",
      "Word 16574 (\"nonsuscept_cell\") appears 1 time.\n",
      "Word 18849 (\"artifici\") appears 1 time.\n",
      "Word 19659 (\"bind_mceacam\") appears 1 time.\n",
      "Word 19660 (\"bispecif_adapt\") appears 1 time.\n",
      "Word 19661 (\"domain_mceacam\") appears 1 time.\n",
      "Word 19662 (\"generat_selftarget\") appears 1 time.\n",
      "\n",
      " Corpus TF-IDF preview:\n",
      "[(0, 0.28120428487293986),\n",
      " (1, 0.15963428760488155),\n",
      " (2, 0.47139627757842),\n",
      " (3, 0.20494430960415644),\n",
      " (4, 0.18437929286605437),\n",
      " (5, 0.2496432458746165),\n",
      " (6, 0.2931412133669687),\n",
      " (7, 0.4364004535293414),\n",
      " (8, 0.14228378920159726),\n",
      " (9, 0.42191224730005555),\n",
      " (10, 0.2455100854980164)]\n"
     ]
    }
   ],
   "source": [
    "preprocessor.create_nlp_items_from_preprocessed_df(no_below=2, verbose=True)\n",
    "\n",
    "dictionary, bow_corpus, tfidf, corpus_tfidf, tfidf_sparse = (preprocessor.dictionary_,\n",
    "                                                             preprocessor.bow_corpus_,\n",
    "                                                             preprocessor.tfidf_,\n",
    "                                                             preprocessor.corpus_tfidf_,\n",
    "                                                             preprocessor.tfidf_sparse_)"
   ]
  },
  {
   "cell_type": "markdown",
   "metadata": {},
   "source": [
    "## Topic model testing"
   ]
  },
  {
   "cell_type": "code",
   "execution_count": 12,
   "metadata": {},
   "outputs": [],
   "source": [
    "bow_corpus_np = np.array(bow_corpus)"
   ]
  },
  {
   "cell_type": "code",
   "execution_count": 13,
   "metadata": {},
   "outputs": [],
   "source": [
    "def cross_validate_topic_models(bow_corpus_np, dictionary, topic_range, n_splits):\n",
    "    from gensim.models.coherencemodel import CoherenceModel\n",
    "    # Cross-validate perplexity\n",
    "    perplexities, coherences = [], []\n",
    "    for n in topic_range:\n",
    "        splits = np.random.choice(range(n_splits), size=len(bow_corpus_np))\n",
    "\n",
    "        perplexities_n, coherences_n = [], []\n",
    "        print(n)\n",
    "        for s in range(n_splits):\n",
    "            training = bow_corpus_np[np.argwhere(splits != s).T[0]]\n",
    "            test = bow_corpus_np[np.argwhere(splits == s).T[0]]\n",
    "\n",
    "            lda_model = gensim.models.LdaMulticore(\n",
    "                            training, num_topics=n,\n",
    "                            id2word=dictionary, passes=2\n",
    "                        )\n",
    "            \n",
    "            perplexity = lda_model.log_perplexity(test)\n",
    "            cm = CoherenceModel(model=lda_model, texts=test, dictionary=dictionary, coherence='c_v')\n",
    "            coherence = cm.get_coherence()\n",
    "\n",
    "            perplexities_n.append(perplexity); coherences_n.append(coherence)\n",
    "            print('-')\n",
    "            \n",
    "        perplexities.append(perplexities_n); coherences.append(coherences_n)\n",
    "        print('Perplexities: ' + str(np.mean(perplexities_n)) + ' +/- ' + \n",
    "              str(np.std(perplexities_n) / n_splits ** 0.5))\n",
    "        print('Coherences: ' + str(np.mean(coherences_n)) + ' +/- ' + \n",
    "              str(np.std(coherences_n) / n_splits ** 0.5))\n",
    "\n",
    "    return np.array(perplexities), np.array(coherences)"
   ]
  },
  {
   "cell_type": "code",
   "execution_count": 244,
   "metadata": {},
   "outputs": [],
   "source": [
    "min_topics = 5\n",
    "max_topics = 100\n",
    "step = 10\n",
    "topic_range = range(min_topics, max_topics, step)"
   ]
  },
  {
   "cell_type": "code",
   "execution_count": 245,
   "metadata": {
    "scrolled": true
   },
   "outputs": [
    {
     "name": "stdout",
     "output_type": "stream",
     "text": [
      "5\n"
     ]
    },
    {
     "name": "stderr",
     "output_type": "stream",
     "text": [
      "/anaconda3/lib/python3.6/site-packages/gensim/topic_coherence/direct_confirmation_measure.py:202: RuntimeWarning: invalid value encountered in true_divide\n",
      "  numerator = (co_occur_count / num_docs) + EPSILON\n",
      "/anaconda3/lib/python3.6/site-packages/gensim/topic_coherence/direct_confirmation_measure.py:203: RuntimeWarning: invalid value encountered in true_divide\n",
      "  denominator = (w_prime_count / num_docs) * (w_star_count / num_docs)\n",
      "/anaconda3/lib/python3.6/site-packages/gensim/topic_coherence/direct_confirmation_measure.py:198: RuntimeWarning: invalid value encountered in true_divide\n",
      "  co_doc_prob = co_occur_count / num_docs\n"
     ]
    },
    {
     "name": "stdout",
     "output_type": "stream",
     "text": [
      "-\n",
      "-\n"
     ]
    },
    {
     "ename": "KeyboardInterrupt",
     "evalue": "",
     "output_type": "error",
     "traceback": [
      "\u001b[0;31m---------------------------------------------------------------------------\u001b[0m",
      "\u001b[0;31mKeyboardInterrupt\u001b[0m                         Traceback (most recent call last)",
      "\u001b[0;32m<ipython-input-245-a24a9a705f55>\u001b[0m in \u001b[0;36m<module>\u001b[0;34m()\u001b[0m\n\u001b[1;32m      2\u001b[0m                                      \u001b[0mdictionary\u001b[0m\u001b[0;34m=\u001b[0m\u001b[0mdictionary\u001b[0m\u001b[0;34m,\u001b[0m\u001b[0;34m\u001b[0m\u001b[0;34m\u001b[0m\u001b[0m\n\u001b[1;32m      3\u001b[0m                                      \u001b[0mtopic_range\u001b[0m\u001b[0;34m=\u001b[0m\u001b[0mtopic_range\u001b[0m\u001b[0;34m,\u001b[0m\u001b[0;34m\u001b[0m\u001b[0;34m\u001b[0m\u001b[0m\n\u001b[0;32m----> 4\u001b[0;31m                                      \u001b[0mn_splits\u001b[0m\u001b[0;34m=\u001b[0m\u001b[0;36m5\u001b[0m\u001b[0;34m\u001b[0m\u001b[0;34m\u001b[0m\u001b[0m\n\u001b[0m\u001b[1;32m      5\u001b[0m                                     )\n",
      "\u001b[0;32m<ipython-input-243-2d6de70fa9a2>\u001b[0m in \u001b[0;36mcross_validate_topic_models\u001b[0;34m(bow_corpus_np, dictionary, topic_range, n_splits)\u001b[0m\n\u001b[1;32m     14\u001b[0m             lda_model = gensim.models.ldamodel.LdaModel(corpus=training,\n\u001b[1;32m     15\u001b[0m                             \u001b[0mnum_topics\u001b[0m\u001b[0;34m=\u001b[0m\u001b[0mn\u001b[0m\u001b[0;34m,\u001b[0m\u001b[0;34m\u001b[0m\u001b[0;34m\u001b[0m\u001b[0m\n\u001b[0;32m---> 16\u001b[0;31m                             id2word=dictionary, passes=2)\n\u001b[0m\u001b[1;32m     17\u001b[0m \u001b[0;34m\u001b[0m\u001b[0m\n\u001b[1;32m     18\u001b[0m             \u001b[0mperplexity\u001b[0m \u001b[0;34m=\u001b[0m \u001b[0mlda_model\u001b[0m\u001b[0;34m.\u001b[0m\u001b[0mlog_perplexity\u001b[0m\u001b[0;34m(\u001b[0m\u001b[0mtest\u001b[0m\u001b[0;34m)\u001b[0m\u001b[0;34m\u001b[0m\u001b[0;34m\u001b[0m\u001b[0m\n",
      "\u001b[0;32m/anaconda3/lib/python3.6/site-packages/gensim/models/ldamodel.py\u001b[0m in \u001b[0;36m__init__\u001b[0;34m(self, corpus, num_topics, id2word, distributed, chunksize, passes, update_every, alpha, eta, decay, offset, eval_every, iterations, gamma_threshold, minimum_probability, random_state, ns_conf, minimum_phi_value, per_word_topics, callbacks, dtype)\u001b[0m\n\u001b[1;32m    517\u001b[0m         \u001b[0;32mif\u001b[0m \u001b[0mcorpus\u001b[0m \u001b[0;32mis\u001b[0m \u001b[0;32mnot\u001b[0m \u001b[0;32mNone\u001b[0m\u001b[0;34m:\u001b[0m\u001b[0;34m\u001b[0m\u001b[0;34m\u001b[0m\u001b[0m\n\u001b[1;32m    518\u001b[0m             \u001b[0muse_numpy\u001b[0m \u001b[0;34m=\u001b[0m \u001b[0mself\u001b[0m\u001b[0;34m.\u001b[0m\u001b[0mdispatcher\u001b[0m \u001b[0;32mis\u001b[0m \u001b[0;32mnot\u001b[0m \u001b[0;32mNone\u001b[0m\u001b[0;34m\u001b[0m\u001b[0;34m\u001b[0m\u001b[0m\n\u001b[0;32m--> 519\u001b[0;31m             \u001b[0mself\u001b[0m\u001b[0;34m.\u001b[0m\u001b[0mupdate\u001b[0m\u001b[0;34m(\u001b[0m\u001b[0mcorpus\u001b[0m\u001b[0;34m,\u001b[0m \u001b[0mchunks_as_numpy\u001b[0m\u001b[0;34m=\u001b[0m\u001b[0muse_numpy\u001b[0m\u001b[0;34m)\u001b[0m\u001b[0;34m\u001b[0m\u001b[0;34m\u001b[0m\u001b[0m\n\u001b[0m\u001b[1;32m    520\u001b[0m \u001b[0;34m\u001b[0m\u001b[0m\n\u001b[1;32m    521\u001b[0m     \u001b[0;32mdef\u001b[0m \u001b[0minit_dir_prior\u001b[0m\u001b[0;34m(\u001b[0m\u001b[0mself\u001b[0m\u001b[0;34m,\u001b[0m \u001b[0mprior\u001b[0m\u001b[0;34m,\u001b[0m \u001b[0mname\u001b[0m\u001b[0;34m)\u001b[0m\u001b[0;34m:\u001b[0m\u001b[0;34m\u001b[0m\u001b[0;34m\u001b[0m\u001b[0m\n",
      "\u001b[0;32m/anaconda3/lib/python3.6/site-packages/gensim/models/ldamodel.py\u001b[0m in \u001b[0;36mupdate\u001b[0;34m(self, corpus, chunksize, decay, offset, passes, update_every, eval_every, iterations, gamma_threshold, chunks_as_numpy)\u001b[0m\n\u001b[1;32m    978\u001b[0m                         \u001b[0mpass_\u001b[0m\u001b[0;34m,\u001b[0m \u001b[0mchunk_no\u001b[0m \u001b[0;34m*\u001b[0m \u001b[0mchunksize\u001b[0m \u001b[0;34m+\u001b[0m \u001b[0mlen\u001b[0m\u001b[0;34m(\u001b[0m\u001b[0mchunk\u001b[0m\u001b[0;34m)\u001b[0m\u001b[0;34m,\u001b[0m \u001b[0mlencorpus\u001b[0m\u001b[0;34m\u001b[0m\u001b[0;34m\u001b[0m\u001b[0m\n\u001b[1;32m    979\u001b[0m                     )\n\u001b[0;32m--> 980\u001b[0;31m                     \u001b[0mgammat\u001b[0m \u001b[0;34m=\u001b[0m \u001b[0mself\u001b[0m\u001b[0;34m.\u001b[0m\u001b[0mdo_estep\u001b[0m\u001b[0;34m(\u001b[0m\u001b[0mchunk\u001b[0m\u001b[0;34m,\u001b[0m \u001b[0mother\u001b[0m\u001b[0;34m)\u001b[0m\u001b[0;34m\u001b[0m\u001b[0;34m\u001b[0m\u001b[0m\n\u001b[0m\u001b[1;32m    981\u001b[0m \u001b[0;34m\u001b[0m\u001b[0m\n\u001b[1;32m    982\u001b[0m                     \u001b[0;32mif\u001b[0m \u001b[0mself\u001b[0m\u001b[0;34m.\u001b[0m\u001b[0moptimize_alpha\u001b[0m\u001b[0;34m:\u001b[0m\u001b[0;34m\u001b[0m\u001b[0;34m\u001b[0m\u001b[0m\n",
      "\u001b[0;32m/anaconda3/lib/python3.6/site-packages/gensim/models/ldamodel.py\u001b[0m in \u001b[0;36mdo_estep\u001b[0;34m(self, chunk, state)\u001b[0m\n\u001b[1;32m    740\u001b[0m         \u001b[0;32mif\u001b[0m \u001b[0mstate\u001b[0m \u001b[0;32mis\u001b[0m \u001b[0;32mNone\u001b[0m\u001b[0;34m:\u001b[0m\u001b[0;34m\u001b[0m\u001b[0;34m\u001b[0m\u001b[0m\n\u001b[1;32m    741\u001b[0m             \u001b[0mstate\u001b[0m \u001b[0;34m=\u001b[0m \u001b[0mself\u001b[0m\u001b[0;34m.\u001b[0m\u001b[0mstate\u001b[0m\u001b[0;34m\u001b[0m\u001b[0;34m\u001b[0m\u001b[0m\n\u001b[0;32m--> 742\u001b[0;31m         \u001b[0mgamma\u001b[0m\u001b[0;34m,\u001b[0m \u001b[0msstats\u001b[0m \u001b[0;34m=\u001b[0m \u001b[0mself\u001b[0m\u001b[0;34m.\u001b[0m\u001b[0minference\u001b[0m\u001b[0;34m(\u001b[0m\u001b[0mchunk\u001b[0m\u001b[0;34m,\u001b[0m \u001b[0mcollect_sstats\u001b[0m\u001b[0;34m=\u001b[0m\u001b[0;32mTrue\u001b[0m\u001b[0;34m)\u001b[0m\u001b[0;34m\u001b[0m\u001b[0;34m\u001b[0m\u001b[0m\n\u001b[0m\u001b[1;32m    743\u001b[0m         \u001b[0mstate\u001b[0m\u001b[0;34m.\u001b[0m\u001b[0msstats\u001b[0m \u001b[0;34m+=\u001b[0m \u001b[0msstats\u001b[0m\u001b[0;34m\u001b[0m\u001b[0;34m\u001b[0m\u001b[0m\n\u001b[1;32m    744\u001b[0m         \u001b[0mstate\u001b[0m\u001b[0;34m.\u001b[0m\u001b[0mnumdocs\u001b[0m \u001b[0;34m+=\u001b[0m \u001b[0mgamma\u001b[0m\u001b[0;34m.\u001b[0m\u001b[0mshape\u001b[0m\u001b[0;34m[\u001b[0m\u001b[0;36m0\u001b[0m\u001b[0;34m]\u001b[0m  \u001b[0;31m# avoids calling len(chunk) on a generator\u001b[0m\u001b[0;34m\u001b[0m\u001b[0;34m\u001b[0m\u001b[0m\n",
      "\u001b[0;32m/anaconda3/lib/python3.6/site-packages/gensim/models/ldamodel.py\u001b[0m in \u001b[0;36minference\u001b[0;34m(self, chunk, collect_sstats)\u001b[0m\n\u001b[1;32m    691\u001b[0m                 \u001b[0;31m# Substituting the value of the optimal phi back into\u001b[0m\u001b[0;34m\u001b[0m\u001b[0;34m\u001b[0m\u001b[0;34m\u001b[0m\u001b[0m\n\u001b[1;32m    692\u001b[0m                 \u001b[0;31m# the update for gamma gives this update. Cf. Lee&Seung 2001.\u001b[0m\u001b[0;34m\u001b[0m\u001b[0;34m\u001b[0m\u001b[0;34m\u001b[0m\u001b[0m\n\u001b[0;32m--> 693\u001b[0;31m                 \u001b[0mgammad\u001b[0m \u001b[0;34m=\u001b[0m \u001b[0mself\u001b[0m\u001b[0;34m.\u001b[0m\u001b[0malpha\u001b[0m \u001b[0;34m+\u001b[0m \u001b[0mexpElogthetad\u001b[0m \u001b[0;34m*\u001b[0m \u001b[0mnp\u001b[0m\u001b[0;34m.\u001b[0m\u001b[0mdot\u001b[0m\u001b[0;34m(\u001b[0m\u001b[0mcts\u001b[0m \u001b[0;34m/\u001b[0m \u001b[0mphinorm\u001b[0m\u001b[0;34m,\u001b[0m \u001b[0mexpElogbetad\u001b[0m\u001b[0;34m.\u001b[0m\u001b[0mT\u001b[0m\u001b[0;34m)\u001b[0m\u001b[0;34m\u001b[0m\u001b[0;34m\u001b[0m\u001b[0m\n\u001b[0m\u001b[1;32m    694\u001b[0m                 \u001b[0mElogthetad\u001b[0m \u001b[0;34m=\u001b[0m \u001b[0mdirichlet_expectation\u001b[0m\u001b[0;34m(\u001b[0m\u001b[0mgammad\u001b[0m\u001b[0;34m)\u001b[0m\u001b[0;34m\u001b[0m\u001b[0;34m\u001b[0m\u001b[0m\n\u001b[1;32m    695\u001b[0m                 \u001b[0mexpElogthetad\u001b[0m \u001b[0;34m=\u001b[0m \u001b[0mnp\u001b[0m\u001b[0;34m.\u001b[0m\u001b[0mexp\u001b[0m\u001b[0;34m(\u001b[0m\u001b[0mElogthetad\u001b[0m\u001b[0;34m)\u001b[0m\u001b[0;34m\u001b[0m\u001b[0;34m\u001b[0m\u001b[0m\n",
      "\u001b[0;31mKeyboardInterrupt\u001b[0m: "
     ]
    }
   ],
   "source": [
    "perplexities2, coherences2 = cross_validate_topic_models(bow_corpus_np=bow_corpus_np,\n",
    "                                     dictionary=dictionary,\n",
    "                                     topic_range=topic_range,\n",
    "                                     n_splits=5\n",
    "                                    )"
   ]
  },
  {
   "cell_type": "code",
   "execution_count": 16,
   "metadata": {},
   "outputs": [],
   "source": [
    "def plot_error_bounded_scores(scores, x):\n",
    "    mean = np.mean(scores, axis=1)\n",
    "    stdev = np.std(scores, axis=1) / (scores.shape[1] * 0.5)\n",
    "    mean_plus = mean + stdev; mean_minus = mean - stdev\n",
    "    n_topics_index = np.array(list(range(len(mean)))) + 1\n",
    "\n",
    "    fig, ax = plt.subplots()\n",
    "    ax.plot(x, mean)\n",
    "    ax.plot(x, mean_plus, c='black')\n",
    "    ax.plot(x, mean_minus, c='black')\n",
    "\n",
    "\n",
    "    ax.plot([min_topics, max_topics], [max(mean), min(mean)])\n",
    "    return mean, stdev, fig, ax"
   ]
  },
  {
   "cell_type": "code",
   "execution_count": 20,
   "metadata": {},
   "outputs": [
    {
     "data": {
      "image/png": "[encoded data removed]",
      "text/plain": [
       "<matplotlib.figure.Figure at 0x1a328cd668>"
      ]
     },
     "metadata": {
      "needs_background": "light"
     },
     "output_type": "display_data"
    },
    {
     "data": {
      "image/png": "[encoded data removed]",
      "text/plain": [
       "<matplotlib.figure.Figure at 0x1a344b0e10>"
      ]
     },
     "metadata": {
      "needs_background": "light"
     },
     "output_type": "display_data"
    }
   ],
   "source": [
    "# Num of Topic ranging from 2 to 10\n",
    "_, _, fig, ax = plot_error_bounded_scores(perplexities2, topic_range)\n",
    "plt.show()\n",
    "\n",
    "_, _, fig, ax = plot_error_bounded_scores(coherences2, topic_range)\n",
    "plt.show()"
   ]
  },
  {
   "cell_type": "markdown",
   "metadata": {},
   "source": [
    "## Topic model fitting"
   ]
  },
  {
   "cell_type": "code",
   "execution_count": 13,
   "metadata": {},
   "outputs": [],
   "source": [
    "np.random.seed(25)\n",
    "\n",
    "n_topics = 30\n",
    "\n",
    "lda_model = gensim.models.LdaMulticore(\n",
    "                bow_corpus_np, num_topics=n_topics,\n",
    "                id2word=dictionary, passes=2, workers=4, eval_every=1\n",
    "            )"
   ]
  },
  {
   "cell_type": "code",
   "execution_count": 14,
   "metadata": {
    "scrolled": true
   },
   "outputs": [
    {
     "name": "stdout",
     "output_type": "stream",
     "text": [
      "\n",
      "['patient', 'infect', 'coronavirus', 'covid', 'virus', 'diseas', 'case', 'sever', 'studi', 'report']\n",
      "\n",
      "['outbreak', 'coronavirus', 'studi', 'virus', 'case', 'sarscov', 'respiratori_syndrom', 'sar', 'assay', 'posit']\n",
      "\n",
      "['case', 'sarscov', 'coronavirus', 'infect', 'diseas', 'human', 'sar', 'covid', 'patient', 'outbreak']\n",
      "\n",
      "['infect', 'covid', 'virus', 'studi', 'sarscov', 'case', 'patient', 'diseas', 'day', 'result']\n",
      "\n",
      "['virus', 'detect', 'coronavirus', 'sar', 'respiratori', 'assay', 'patient', 'sequenc', 'differ', 'infect']\n",
      "\n",
      "['virus', 'coronavirus', 'infect', 'viral', 'sar', 'protein', 'gene', 'diseas', 'studi', 'sequenc']\n",
      "\n",
      "['coronavirus', 'merscov', 'vaccin', 'emerg', 'respiratori_syndrom', 'diseas', 'infect', 'studi', 'sar', 'outbreak']\n",
      "\n",
      "['infect', 'virus', 'cell', 'coronavirus', 'viral', 'strain', 'ncov', 'protein', 'express', 'human']\n",
      "\n",
      "['protein', 'coronavirus', 'sarscov', 'virus', 'activ', 'respiratori_syndrom', 'studi', 'structur', 'human', 'sever_acut']\n",
      "\n",
      "['merscov', 'infect', 'coronavirus', 'human', 'virus', 'middl_east', 'respiratori_syndrom', 'transmiss', 'case', 'result']\n",
      "\n",
      "['virus', 'infect', 'coronavirus', 'viral', 'cell', 'structur', 'protein', 'pedv', 'studi', 'sar']\n",
      "\n",
      "['virus', 'infect', 'coronavirus', 'result', 'case', 'model', 'protein', 'outbreak', 'covid', 'viral']\n",
      "\n",
      "['ncov', 'patient', 'infect', 'diseas', 'covid', 'novel_coronavirus', 'clinic', 'outbreak', 'pneumonia', 'china']\n",
      "\n",
      "['virus', 'outbreak', 'sar', 'infect', 'coronavirus', 'vaccin', 'develop', 'respiratori_syndrom', 'human', 'epidem']\n",
      "\n",
      "['infect', 'coronavirus', 'outbreak', 'virus', 'studi', 'sarscov', 'case', 'includ', 'control', 'identifi']\n",
      "\n",
      "['covid', 'case', 'epidem', 'outbreak', 'diseas', 'coronavirus', 'infect', 'data', 'estim', 'china']\n",
      "\n",
      "['sarscov', 'virus', 'infect', 'coronavirus', 'diseas', 'viral', 'human', 'covid', 'epidem', 'patient']\n",
      "\n",
      "['protein', 'infect', 'sarscov', 'sar', 'coronavirus', 'cell', 'studi', 'express', 'patient', 'novel_coronavirus']\n",
      "\n",
      "['group', 'covid', 'patient', 'detect', 'case', 'result', 'virus', 'infect', 'diseas', 'coronavirus']\n",
      "\n",
      "['infect', 'detect', 'sampl', 'studi', 'cell', 'result', 'diseas', 'children', 'coronavirus', 'patient']\n",
      "\n",
      "['virus', 'infect', 'coronavirus', 'sarscov', 'viral', 'effect', 'protein', 'outbreak', 'respiratori_syndrom', 'case']\n",
      "\n",
      "['virus', 'studi', 'infect', 'diseas', 'coronavirus', 'fcov', 'human', 'sar', 'respiratori_syndrom', 'viral']\n",
      "\n",
      "['cell', 'sarscov', 'activ', 'virus', 'infect', 'coronavirus', 'sar', 'protein', 'vaccin', 'respons']\n",
      "\n",
      "['sar', 'virus', 'vaccin', 'infect', 'coronavirus', 'patient', 'studi', 'cell', 'respiratori_syndrom', 'protein']\n",
      "\n",
      "['coronavirus', 'virus', 'patient', 'detect', 'diseas', 'covid', 'caus', 'infect', 'human', 'respiratori']\n",
      "\n",
      "['virus', 'infect', 'viral', 'detect', 'human', 'studi', 'coronavirus', 'respiratori', 'cell', 'protein']\n",
      "\n",
      "['patient', 'case', 'infect', 'covid', 'diseas', 'pneumonia', 'result', 'hospit', 'sarscov', 'clinic']\n",
      "\n",
      "['virus', 'infect', 'patient', 'detect', 'respiratori', 'sarscov', 'sampl', 'coronavirus', 'studi', 'assay']\n",
      "\n",
      "['sarscov', 'protein', 'coronavirus', 'studi', 'vaccin', 'infect', 'cell', 'develop', 'virus', 'sever_acut']\n",
      "\n",
      "['patient', 'virus', 'viral', 'sar', 'isol', 'human', 'coronavirus', 'result', 'differ', 'diseas']\n"
     ]
    },
    {
     "data": {
      "text/plain": [
       "[(2,\n",
       "  '0.028*\"case\" + 0.023*\"sarscov\" + 0.014*\"coronavirus\" + 0.012*\"infect\" + 0.012*\"diseas\" + 0.011*\"human\" + 0.010*\"sar\" + 0.009*\"covid\" + 0.009*\"patient\" + 0.008*\"outbreak\"'),\n",
       " (20,\n",
       "  '0.019*\"virus\" + 0.017*\"infect\" + 0.015*\"coronavirus\" + 0.014*\"sarscov\" + 0.012*\"viral\" + 0.008*\"effect\" + 0.007*\"protein\" + 0.007*\"outbreak\" + 0.007*\"respiratori_syndrom\" + 0.006*\"case\"'),\n",
       " (7,\n",
       "  '0.033*\"infect\" + 0.026*\"virus\" + 0.018*\"cell\" + 0.013*\"coronavirus\" + 0.013*\"viral\" + 0.011*\"strain\" + 0.009*\"ncov\" + 0.009*\"protein\" + 0.008*\"express\" + 0.008*\"human\"'),\n",
       " (14,\n",
       "  '0.019*\"infect\" + 0.016*\"coronavirus\" + 0.011*\"outbreak\" + 0.011*\"virus\" + 0.010*\"studi\" + 0.009*\"sarscov\" + 0.008*\"case\" + 0.008*\"includ\" + 0.007*\"control\" + 0.007*\"identifi\"'),\n",
       " (16,\n",
       "  '0.034*\"sarscov\" + 0.029*\"virus\" + 0.020*\"infect\" + 0.020*\"coronavirus\" + 0.018*\"diseas\" + 0.010*\"viral\" + 0.009*\"human\" + 0.009*\"covid\" + 0.008*\"epidem\" + 0.007*\"patient\"'),\n",
       " (29,\n",
       "  '0.011*\"patient\" + 0.011*\"virus\" + 0.009*\"viral\" + 0.009*\"sar\" + 0.009*\"isol\" + 0.009*\"human\" + 0.008*\"coronavirus\" + 0.008*\"result\" + 0.007*\"differ\" + 0.006*\"diseas\"'),\n",
       " (5,\n",
       "  '0.029*\"virus\" + 0.025*\"coronavirus\" + 0.022*\"infect\" + 0.015*\"viral\" + 0.013*\"sar\" + 0.010*\"protein\" + 0.009*\"gene\" + 0.009*\"diseas\" + 0.008*\"studi\" + 0.008*\"sequenc\"'),\n",
       " (8,\n",
       "  '0.050*\"protein\" + 0.028*\"coronavirus\" + 0.026*\"sarscov\" + 0.015*\"virus\" + 0.011*\"activ\" + 0.011*\"respiratori_syndrom\" + 0.010*\"studi\" + 0.010*\"structur\" + 0.009*\"human\" + 0.009*\"sever_acut\"'),\n",
       " (10,\n",
       "  '0.023*\"virus\" + 0.016*\"infect\" + 0.013*\"coronavirus\" + 0.009*\"viral\" + 0.009*\"cell\" + 0.009*\"structur\" + 0.008*\"protein\" + 0.007*\"pedv\" + 0.007*\"studi\" + 0.007*\"sar\"'),\n",
       " (11,\n",
       "  '0.022*\"virus\" + 0.013*\"infect\" + 0.012*\"coronavirus\" + 0.010*\"result\" + 0.010*\"case\" + 0.010*\"model\" + 0.009*\"protein\" + 0.009*\"outbreak\" + 0.009*\"covid\" + 0.007*\"viral\"'),\n",
       " (1,\n",
       "  '0.014*\"outbreak\" + 0.010*\"coronavirus\" + 0.008*\"studi\" + 0.008*\"virus\" + 0.007*\"case\" + 0.007*\"sarscov\" + 0.007*\"respiratori_syndrom\" + 0.007*\"sar\" + 0.007*\"assay\" + 0.005*\"posit\"'),\n",
       " (4,\n",
       "  '0.031*\"virus\" + 0.019*\"detect\" + 0.018*\"coronavirus\" + 0.012*\"sar\" + 0.011*\"respiratori\" + 0.010*\"assay\" + 0.010*\"patient\" + 0.008*\"sequenc\" + 0.007*\"differ\" + 0.007*\"infect\"'),\n",
       " (21,\n",
       "  '0.023*\"virus\" + 0.015*\"studi\" + 0.014*\"infect\" + 0.013*\"diseas\" + 0.012*\"coronavirus\" + 0.010*\"fcov\" + 0.010*\"human\" + 0.009*\"sar\" + 0.007*\"respiratori_syndrom\" + 0.007*\"viral\"'),\n",
       " (13,\n",
       "  '0.021*\"virus\" + 0.016*\"outbreak\" + 0.012*\"sar\" + 0.011*\"infect\" + 0.010*\"coronavirus\" + 0.010*\"vaccin\" + 0.009*\"develop\" + 0.009*\"respiratori_syndrom\" + 0.009*\"human\" + 0.008*\"epidem\"'),\n",
       " (27,\n",
       "  '0.035*\"virus\" + 0.026*\"infect\" + 0.023*\"patient\" + 0.023*\"detect\" + 0.022*\"respiratori\" + 0.019*\"sarscov\" + 0.014*\"sampl\" + 0.011*\"coronavirus\" + 0.011*\"studi\" + 0.009*\"assay\"'),\n",
       " (15,\n",
       "  '0.034*\"covid\" + 0.021*\"case\" + 0.016*\"epidem\" + 0.016*\"outbreak\" + 0.014*\"diseas\" + 0.011*\"coronavirus\" + 0.010*\"infect\" + 0.010*\"data\" + 0.010*\"estim\" + 0.010*\"china\"'),\n",
       " (25,\n",
       "  '0.042*\"virus\" + 0.018*\"infect\" + 0.017*\"viral\" + 0.010*\"detect\" + 0.010*\"human\" + 0.009*\"studi\" + 0.009*\"coronavirus\" + 0.009*\"respiratori\" + 0.009*\"cell\" + 0.009*\"protein\"'),\n",
       " (12,\n",
       "  '0.032*\"ncov\" + 0.017*\"patient\" + 0.015*\"infect\" + 0.015*\"diseas\" + 0.015*\"covid\" + 0.012*\"novel_coronavirus\" + 0.011*\"clinic\" + 0.009*\"outbreak\" + 0.009*\"pneumonia\" + 0.009*\"china\"'),\n",
       " (9,\n",
       "  '0.050*\"merscov\" + 0.027*\"infect\" + 0.024*\"coronavirus\" + 0.018*\"human\" + 0.011*\"virus\" + 0.010*\"middl_east\" + 0.009*\"respiratori_syndrom\" + 0.007*\"transmiss\" + 0.006*\"case\" + 0.006*\"result\"'),\n",
       " (26,\n",
       "  '0.059*\"patient\" + 0.027*\"case\" + 0.019*\"infect\" + 0.018*\"covid\" + 0.011*\"diseas\" + 0.009*\"pneumonia\" + 0.008*\"result\" + 0.008*\"hospit\" + 0.007*\"sarscov\" + 0.007*\"clinic\"')]"
      ]
     },
     "execution_count": 14,
     "metadata": {},
     "output_type": "execute_result"
    }
   ],
   "source": [
    "topic_words = []\n",
    "n_top_words = 10\n",
    "\n",
    "for i in range(n_topics):\n",
    "    tt = lda_model.get_topic_terms(i,n_top_words)\n",
    "    topic_words.append([dictionary[pair[0]] for pair in tt])\n",
    "    \n",
    "for e, i in enumerate(topic_words):\n",
    "    print()\n",
    "    print(i)\n",
    "lda_model.print_topics(num_words=n_top_words)"
   ]
  },
  {
   "cell_type": "markdown",
   "metadata": {},
   "source": [
    " # Finding the dominant topic in each sentence"
   ]
  },
  {
   "cell_type": "markdown",
   "metadata": {},
   "source": [
    "One of the practical application of topic modeling is to determine what topic a given document is about.\n",
    "\n",
    "To find that, we find the topic number that has the highest percentage contribution in that document."
   ]
  },
  {
   "cell_type": "code",
   "execution_count": 15,
   "metadata": {},
   "outputs": [
    {
     "data": {
      "text/html": [
       "<div>\n",
       "<style scoped>\n",
       "    .dataframe tbody tr th:only-of-type {\n",
       "        vertical-align: middle;\n",
       "    }\n",
       "\n",
       "    .dataframe tbody tr th {\n",
       "        vertical-align: top;\n",
       "    }\n",
       "\n",
       "    .dataframe thead th {\n",
       "        text-align: right;\n",
       "    }\n",
       "</style>\n",
       "<table border=\"1\" class=\"dataframe\">\n",
       "  <thead>\n",
       "    <tr style=\"text-align: right;\">\n",
       "      <th></th>\n",
       "      <th>Document_No</th>\n",
       "      <th>Dominant_Topic</th>\n",
       "      <th>Topic_Perc_Contrib</th>\n",
       "      <th>Keywords</th>\n",
       "      <th>Abstract</th>\n",
       "    </tr>\n",
       "  </thead>\n",
       "  <tbody>\n",
       "    <tr>\n",
       "      <th>0</th>\n",
       "      <td>0</td>\n",
       "      <td>23.0</td>\n",
       "      <td>0.4329</td>\n",
       "      <td>sar, virus, vaccin, infect, coronavirus, patie...</td>\n",
       "      <td>abstract a competition elisa utilizing a mab d...</td>\n",
       "    </tr>\n",
       "    <tr>\n",
       "      <th>1</th>\n",
       "      <td>1</td>\n",
       "      <td>16.0</td>\n",
       "      <td>0.9764</td>\n",
       "      <td>sarscov, virus, infect, coronavirus, diseas, v...</td>\n",
       "      <td>abstract the causative agent of the respirator...</td>\n",
       "    </tr>\n",
       "    <tr>\n",
       "      <th>2</th>\n",
       "      <td>2</td>\n",
       "      <td>7.0</td>\n",
       "      <td>0.9076</td>\n",
       "      <td>infect, virus, cell, coronavirus, viral, strai...</td>\n",
       "      <td>abstract the morphology and morphogenesis of v...</td>\n",
       "    </tr>\n",
       "    <tr>\n",
       "      <th>3</th>\n",
       "      <td>3</td>\n",
       "      <td>7.0</td>\n",
       "      <td>0.6497</td>\n",
       "      <td>infect, virus, cell, coronavirus, viral, strai...</td>\n",
       "      <td>abstract expression of bovine coronavirus bcv ...</td>\n",
       "    </tr>\n",
       "    <tr>\n",
       "      <th>...</th>\n",
       "      <td>...</td>\n",
       "      <td>...</td>\n",
       "      <td>...</td>\n",
       "      <td>...</td>\n",
       "      <td>...</td>\n",
       "    </tr>\n",
       "    <tr>\n",
       "      <th>9955</th>\n",
       "      <td>9955</td>\n",
       "      <td>9.0</td>\n",
       "      <td>0.6823</td>\n",
       "      <td>merscov, infect, coronavirus, human, virus, mi...</td>\n",
       "      <td>a novel coronavirus has caused thousands of hu...</td>\n",
       "    </tr>\n",
       "    <tr>\n",
       "      <th>9956</th>\n",
       "      <td>9956</td>\n",
       "      <td>13.0</td>\n",
       "      <td>0.5772</td>\n",
       "      <td>virus, outbreak, sar, infect, coronavirus, vac...</td>\n",
       "      <td>abstract bats are the natural reservoirs of se...</td>\n",
       "    </tr>\n",
       "    <tr>\n",
       "      <th>9957</th>\n",
       "      <td>9957</td>\n",
       "      <td>5.0</td>\n",
       "      <td>0.6234</td>\n",
       "      <td>virus, coronavirus, infect, viral, sar, protei...</td>\n",
       "      <td>abstract this paper combines two advances to d...</td>\n",
       "    </tr>\n",
       "    <tr>\n",
       "      <th>9958</th>\n",
       "      <td>9958</td>\n",
       "      <td>19.0</td>\n",
       "      <td>0.9901</td>\n",
       "      <td>infect, detect, sampl, studi, cell, result, di...</td>\n",
       "      <td>abstract feline and canine coronaviruses fcov ...</td>\n",
       "    </tr>\n",
       "  </tbody>\n",
       "</table>\n",
       "<p>9959 rows × 5 columns</p>\n",
       "</div>"
      ],
      "text/plain": [
       "      Document_No  Dominant_Topic  Topic_Perc_Contrib  \\\n",
       "0               0            23.0              0.4329   \n",
       "1               1            16.0              0.9764   \n",
       "2               2             7.0              0.9076   \n",
       "3               3             7.0              0.6497   \n",
       "...           ...             ...                 ...   \n",
       "9955         9955             9.0              0.6823   \n",
       "9956         9956            13.0              0.5772   \n",
       "9957         9957             5.0              0.6234   \n",
       "9958         9958            19.0              0.9901   \n",
       "\n",
       "                                               Keywords  \\\n",
       "0     sar, virus, vaccin, infect, coronavirus, patie...   \n",
       "1     sarscov, virus, infect, coronavirus, diseas, v...   \n",
       "2     infect, virus, cell, coronavirus, viral, strai...   \n",
       "3     infect, virus, cell, coronavirus, viral, strai...   \n",
       "...                                                 ...   \n",
       "9955  merscov, infect, coronavirus, human, virus, mi...   \n",
       "9956  virus, outbreak, sar, infect, coronavirus, vac...   \n",
       "9957  virus, coronavirus, infect, viral, sar, protei...   \n",
       "9958  infect, detect, sampl, studi, cell, result, di...   \n",
       "\n",
       "                                               Abstract  \n",
       "0     abstract a competition elisa utilizing a mab d...  \n",
       "1     abstract the causative agent of the respirator...  \n",
       "2     abstract the morphology and morphogenesis of v...  \n",
       "3     abstract expression of bovine coronavirus bcv ...  \n",
       "...                                                 ...  \n",
       "9955  a novel coronavirus has caused thousands of hu...  \n",
       "9956  abstract bats are the natural reservoirs of se...  \n",
       "9957  abstract this paper combines two advances to d...  \n",
       "9958  abstract feline and canine coronaviruses fcov ...  \n",
       "\n",
       "[9959 rows x 5 columns]"
      ]
     },
     "execution_count": 15,
     "metadata": {},
     "output_type": "execute_result"
    }
   ],
   "source": [
    "def format_topics_sentences(ldamodel=lda_model, corpus=bow_corpus_np, texts=df['abstract']):\n",
    "    # Init output\n",
    "    sent_topics_df = pd.DataFrame()\n",
    "\n",
    "    # Get main topic in each document\n",
    "    for i, row in enumerate(ldamodel[corpus]):\n",
    "        row = sorted(row, key=lambda x: (x[1]), reverse=True)\n",
    "        # Get the Dominant topic, Perc Contribution and Keywords for each document\n",
    "        for j, (topic_num, prop_topic) in enumerate(row):\n",
    "            if j == 0:  # => dominant topic\n",
    "                wp = ldamodel.show_topic(topic_num)\n",
    "                topic_keywords = \", \".join([word for word, prop in wp])\n",
    "                sent_topics_df = sent_topics_df.append(pd.Series([int(topic_num), round(prop_topic,4), topic_keywords]), ignore_index=True)\n",
    "            else:\n",
    "                break\n",
    "    sent_topics_df.columns = ['Dominant_Topic', 'Perc_Contribution', 'Topic_Keywords']\n",
    "\n",
    "    # Add original text to the end of the output\n",
    "    contents = pd.Series(texts)\n",
    "    sent_topics_df = pd.concat([sent_topics_df, contents], axis=1)\n",
    "    return(sent_topics_df)\n",
    "\n",
    "\n",
    "df_topic_sents_keywords = format_topics_sentences(ldamodel=lda_model, corpus=bow_corpus_np, texts=df['abstract'])\n",
    "\n",
    "# Format\n",
    "dominant_topic_30 = df_topic_sents_keywords.reset_index()\n",
    "dominant_topic_30.columns = ['Document_No', 'Dominant_Topic', 'Topic_Perc_Contrib', 'Keywords', 'Abstract']\n",
    "\n",
    "# Show\n",
    "dominant_topic_30"
   ]
  },
  {
   "cell_type": "code",
   "execution_count": 16,
   "metadata": {},
   "outputs": [],
   "source": [
    "dominant_topic_30['abstract_COVID'] = df['abstract_COVID']\n",
    "dominant_topic_30['abstract_COVID'] = dominant_topic_30['abstract_COVID'].astype(int)"
   ]
  },
  {
   "cell_type": "code",
   "execution_count": 17,
   "metadata": {},
   "outputs": [
    {
     "data": {
      "text/plain": [
       "2000"
      ]
     },
     "execution_count": 17,
     "metadata": {},
     "output_type": "execute_result"
    }
   ],
   "source": [
    "sum(dominant_topic_30['abstract_COVID'])"
   ]
  },
  {
   "cell_type": "code",
   "execution_count": 18,
   "metadata": {},
   "outputs": [
    {
     "data": {
      "text/html": [
       "<div>\n",
       "<style scoped>\n",
       "    .dataframe tbody tr th:only-of-type {\n",
       "        vertical-align: middle;\n",
       "    }\n",
       "\n",
       "    .dataframe tbody tr th {\n",
       "        vertical-align: top;\n",
       "    }\n",
       "\n",
       "    .dataframe thead th {\n",
       "        text-align: right;\n",
       "    }\n",
       "</style>\n",
       "<table border=\"1\" class=\"dataframe\">\n",
       "  <thead>\n",
       "    <tr style=\"text-align: right;\">\n",
       "      <th></th>\n",
       "      <th>Document_No</th>\n",
       "      <th>Dominant_Topic</th>\n",
       "      <th>Topic_Perc_Contrib</th>\n",
       "      <th>Keywords</th>\n",
       "      <th>Abstract</th>\n",
       "      <th>abstract_COVID</th>\n",
       "    </tr>\n",
       "  </thead>\n",
       "  <tbody>\n",
       "    <tr>\n",
       "      <th>0</th>\n",
       "      <td>0</td>\n",
       "      <td>23.0</td>\n",
       "      <td>0.4329</td>\n",
       "      <td>sar, virus, vaccin, infect, coronavirus, patie...</td>\n",
       "      <td>abstract a competition elisa utilizing a mab d...</td>\n",
       "      <td>0</td>\n",
       "    </tr>\n",
       "    <tr>\n",
       "      <th>1</th>\n",
       "      <td>1</td>\n",
       "      <td>16.0</td>\n",
       "      <td>0.9764</td>\n",
       "      <td>sarscov, virus, infect, coronavirus, diseas, v...</td>\n",
       "      <td>abstract the causative agent of the respirator...</td>\n",
       "      <td>0</td>\n",
       "    </tr>\n",
       "    <tr>\n",
       "      <th>2</th>\n",
       "      <td>2</td>\n",
       "      <td>7.0</td>\n",
       "      <td>0.9076</td>\n",
       "      <td>infect, virus, cell, coronavirus, viral, strai...</td>\n",
       "      <td>abstract the morphology and morphogenesis of v...</td>\n",
       "      <td>0</td>\n",
       "    </tr>\n",
       "    <tr>\n",
       "      <th>3</th>\n",
       "      <td>3</td>\n",
       "      <td>7.0</td>\n",
       "      <td>0.6497</td>\n",
       "      <td>infect, virus, cell, coronavirus, viral, strai...</td>\n",
       "      <td>abstract expression of bovine coronavirus bcv ...</td>\n",
       "      <td>0</td>\n",
       "    </tr>\n",
       "    <tr>\n",
       "      <th>...</th>\n",
       "      <td>...</td>\n",
       "      <td>...</td>\n",
       "      <td>...</td>\n",
       "      <td>...</td>\n",
       "      <td>...</td>\n",
       "      <td>...</td>\n",
       "    </tr>\n",
       "    <tr>\n",
       "      <th>9955</th>\n",
       "      <td>9955</td>\n",
       "      <td>9.0</td>\n",
       "      <td>0.6823</td>\n",
       "      <td>merscov, infect, coronavirus, human, virus, mi...</td>\n",
       "      <td>a novel coronavirus has caused thousands of hu...</td>\n",
       "      <td>0</td>\n",
       "    </tr>\n",
       "    <tr>\n",
       "      <th>9956</th>\n",
       "      <td>9956</td>\n",
       "      <td>13.0</td>\n",
       "      <td>0.5772</td>\n",
       "      <td>virus, outbreak, sar, infect, coronavirus, vac...</td>\n",
       "      <td>abstract bats are the natural reservoirs of se...</td>\n",
       "      <td>0</td>\n",
       "    </tr>\n",
       "    <tr>\n",
       "      <th>9957</th>\n",
       "      <td>9957</td>\n",
       "      <td>5.0</td>\n",
       "      <td>0.6234</td>\n",
       "      <td>virus, coronavirus, infect, viral, sar, protei...</td>\n",
       "      <td>abstract this paper combines two advances to d...</td>\n",
       "      <td>0</td>\n",
       "    </tr>\n",
       "    <tr>\n",
       "      <th>9958</th>\n",
       "      <td>9958</td>\n",
       "      <td>19.0</td>\n",
       "      <td>0.9901</td>\n",
       "      <td>infect, detect, sampl, studi, cell, result, di...</td>\n",
       "      <td>abstract feline and canine coronaviruses fcov ...</td>\n",
       "      <td>0</td>\n",
       "    </tr>\n",
       "  </tbody>\n",
       "</table>\n",
       "<p>9959 rows × 6 columns</p>\n",
       "</div>"
      ],
      "text/plain": [
       "      Document_No  Dominant_Topic  Topic_Perc_Contrib  \\\n",
       "0               0            23.0              0.4329   \n",
       "1               1            16.0              0.9764   \n",
       "2               2             7.0              0.9076   \n",
       "3               3             7.0              0.6497   \n",
       "...           ...             ...                 ...   \n",
       "9955         9955             9.0              0.6823   \n",
       "9956         9956            13.0              0.5772   \n",
       "9957         9957             5.0              0.6234   \n",
       "9958         9958            19.0              0.9901   \n",
       "\n",
       "                                               Keywords  \\\n",
       "0     sar, virus, vaccin, infect, coronavirus, patie...   \n",
       "1     sarscov, virus, infect, coronavirus, diseas, v...   \n",
       "2     infect, virus, cell, coronavirus, viral, strai...   \n",
       "3     infect, virus, cell, coronavirus, viral, strai...   \n",
       "...                                                 ...   \n",
       "9955  merscov, infect, coronavirus, human, virus, mi...   \n",
       "9956  virus, outbreak, sar, infect, coronavirus, vac...   \n",
       "9957  virus, coronavirus, infect, viral, sar, protei...   \n",
       "9958  infect, detect, sampl, studi, cell, result, di...   \n",
       "\n",
       "                                               Abstract  abstract_COVID  \n",
       "0     abstract a competition elisa utilizing a mab d...               0  \n",
       "1     abstract the causative agent of the respirator...               0  \n",
       "2     abstract the morphology and morphogenesis of v...               0  \n",
       "3     abstract expression of bovine coronavirus bcv ...               0  \n",
       "...                                                 ...             ...  \n",
       "9955  a novel coronavirus has caused thousands of hu...               0  \n",
       "9956  abstract bats are the natural reservoirs of se...               0  \n",
       "9957  abstract this paper combines two advances to d...               0  \n",
       "9958  abstract feline and canine coronaviruses fcov ...               0  \n",
       "\n",
       "[9959 rows x 6 columns]"
      ]
     },
     "execution_count": 18,
     "metadata": {},
     "output_type": "execute_result"
    }
   ],
   "source": [
    "dominant_topic_30"
   ]
  },
  {
   "cell_type": "markdown",
   "metadata": {},
   "source": [
    "# Output file "
   ]
  },
  {
   "cell_type": "code",
   "execution_count": 22,
   "metadata": {},
   "outputs": [],
   "source": [
    "dominant_topic_30.to_csv(\"big_data/dominant_topic_30.csv\")"
   ]
  },
  {
   "cell_type": "markdown",
   "metadata": {},
   "source": [
    "# Visualizations"
   ]
  },
  {
   "cell_type": "code",
   "execution_count": 19,
   "metadata": {},
   "outputs": [
    {
     "name": "stdout",
     "output_type": "stream",
     "text": [
      "9959\n",
      "9891\n"
     ]
    }
   ],
   "source": [
    "metadata_dt_analysis = copy.deepcopy(df)\n",
    "metadata_dt_analysis['Dominant_Topic'] = dominant_topic_30['Dominant_Topic']\n",
    "metadata_dt_analysis['Dominant_Topic'] = metadata_dt_analysis['Dominant_Topic'].astype(int)\n",
    "print(len(metadata_dt_analysis))\n",
    "\n",
    "\n",
    "metadata_dt_analysis['converted_datetime'] = pd.to_datetime(metadata_dt_analysis['publish_time'], errors='coerce') # if format fails to parse, return NaT\n",
    "metadata_dt_analysis = metadata_dt_analysis.sort_values('converted_datetime')\n",
    "metadata_dt_analysis = metadata_dt_analysis[pd.isnull(metadata_dt_analysis['converted_datetime']) == False] # drop abstracts w/ null\n",
    "metadata_dt_analysis = metadata_dt_analysis[metadata_dt_analysis['converted_datetime'] <= data_datetime] # \n",
    "print(len(metadata_dt_analysis))"
   ]
  },
  {
   "cell_type": "code",
   "execution_count": 31,
   "metadata": {},
   "outputs": [
    {
     "data": {
      "text/plain": [
       "<matplotlib.legend.Legend at 0x122163afdd8>"
      ]
     },
     "execution_count": 31,
     "metadata": {},
     "output_type": "execute_result"
    },
    {
     "data": {
      "image/png": "[encoded data removed]",
      "text/plain": [
       "<Figure size 432x288 with 1 Axes>"
      ]
     },
     "metadata": {
      "needs_background": "light"
     },
     "output_type": "display_data"
    }
   ],
   "source": [
    "fig, ax = plt.subplots()\n",
    "plt.bar(np.arange(0, max(metadata_dt_analysis['Dominant_Topic'])),\n",
    "        np.bincount(metadata_dt_analysis['Dominant_Topic'], minlength=max(metadata_dt_analysis['Dominant_Topic']))[1:], \n",
    "        label='Non-COVID-19 Abstracts')\n",
    "subset_COVID = metadata_dt_analysis[metadata_dt_analysis['abstract_COVID']]\n",
    "plt.bar(np.arange(0, max(subset_COVID['Dominant_Topic'])),\n",
    "        np.bincount(subset_COVID['Dominant_Topic'], minlength=max(subset_COVID['Dominant_Topic']))[1:], \n",
    "        label='COVID-19 Abstracts')\n",
    "plt.xlabel('Topic ID', size=12)\n",
    "plt.ylabel('Count of Abstracts', size=12)\n",
    "# plt.title('Distribution of Abstracts Across Topics', size=14)\n",
    "fig.savefig('Paper/Figures/6.png', dpi=dpi)\n",
    "plt.legend()"
   ]
  },
  {
   "cell_type": "code",
   "execution_count": 32,
   "metadata": {},
   "outputs": [
    {
     "data": {
      "image/png": "[encoded data removed]",
      "text/plain": [
       "<Figure size 432x288 with 1 Axes>"
      ]
     },
     "metadata": {
      "needs_background": "light"
     },
     "output_type": "display_data"
    }
   ],
   "source": [
    "abstract_cnts = np.bincount(metadata_dt_analysis['Dominant_Topic'],\n",
    "                    minlength=max(metadata_dt_analysis['Dominant_Topic']))[1:]\n",
    "abstract_cnts = abstract_cnts / sum(abstract_cnts) * 100\n",
    "\n",
    "fig, ax = plt.subplots()\n",
    "plt.bar(np.arange(0, max(metadata_dt_analysis['Dominant_Topic'])),\n",
    "        abstract_cnts, \n",
    "        label='Non-SARS-CoV-2', width=0.4)\n",
    "\n",
    "abstract_cnts = np.bincount(subset_COVID['Dominant_Topic'], minlength=max(subset_COVID['Dominant_Topic']))[1:]\n",
    "abstract_cnts = abstract_cnts / sum(abstract_cnts) * 100\n",
    "subset_COVID = metadata_dt_analysis[metadata_dt_analysis['abstract_COVID']]\n",
    "plt.bar(np.arange(0, max(subset_COVID['Dominant_Topic'])) + .4,\n",
    "        abstract_cnts, \n",
    "        label='SARS-CoV-2', width=0.4)\n",
    "plt.xlabel('Topic ID', size=12)\n",
    "plt.ylabel('Percent Distribution of CoV Category', size=12)\n",
    "# plt.title('Distribution of Abstracts Across Topics', size=14)\n",
    "plt.legend(title='CoV Abstracts Category')\n",
    "# fig.savefig('Paper/Figures/6.png', dpi=dpi)\n",
    "plt.show()"
   ]
  },
  {
   "cell_type": "code",
   "execution_count": 37,
   "metadata": {},
   "outputs": [
    {
     "name": "stderr",
     "output_type": "stream",
     "text": [
      "C:\\Users\\vldoa\\Anaconda3\\lib\\site-packages\\ipykernel_launcher.py:3: UserWarning: Boolean Series key will be reindexed to match DataFrame index.\n",
      "  This is separate from the ipykernel package so we can avoid doing imports until\n"
     ]
    }
   ],
   "source": [
    "subset_COVID = metadata_dt_analysis[\n",
    "    metadata_dt_analysis['abstract_COVID'] &\n",
    "    (subset_COVID['converted_datetime'] > datetime.datetime(2020, 1, 1))]"
   ]
  },
  {
   "cell_type": "code",
   "execution_count": 38,
   "metadata": {},
   "outputs": [],
   "source": [
    "topics, c = np.unique(subset_COVID['Dominant_Topic'], return_counts=True)\n",
    "topics = topics[np.argsort(c)[::-1]]; c = c[np.argsort(c)[::-1]]\n",
    "\n",
    "n_major = 2\n",
    "major_topics = topics[0:n_major]"
   ]
  },
  {
   "cell_type": "code",
   "execution_count": 39,
   "metadata": {},
   "outputs": [
    {
     "data": {
      "text/plain": [
       "(array([737456., 737470., 737485., 737499., 737516.]),\n",
       " <a list of 5 Text xticklabel objects>)"
      ]
     },
     "execution_count": 39,
     "metadata": {},
     "output_type": "execute_result"
    },
    {
     "data": {
      "image/png": "[encoded data removed]",
      "text/plain": [
       "<Figure size 432x288 with 1 Axes>"
      ]
     },
     "metadata": {
      "needs_background": "light"
     },
     "output_type": "display_data"
    }
   ],
   "source": [
    "\n",
    "boolean_major_topics = subset_COVID['Dominant_Topic'].isin(major_topics)\n",
    "\n",
    "y = np.arange(1, sum(boolean_major_topics) + 1)\n",
    "plt.plot(subset_COVID[boolean_major_topics]['converted_datetime'], y)\n",
    "\n",
    "y = np.arange(1, sum(boolean_major_topics == False) + 1)\n",
    "plt.plot(subset_COVID[boolean_major_topics==False]['converted_datetime'], y)\n",
    "plt.xticks(rotation=45)\n",
    "\n",
    "# plt.yscale('log')"
   ]
  },
  {
   "cell_type": "markdown",
   "metadata": {},
   "source": [
    "Biomolecular; other\n",
    "3, 5, 7, 8, 10, 17\n",
    "Biomolecular; anti-viral work\n",
    "16, 22 , 23\n",
    "Clinical studies\n",
    "0, 18, 26\n",
    "Interaction with non-human species\n",
    "4, 21, 24\n",
    "Outbreaks\n",
    "2, 13, 14, 20\n",
    "Responding to outbreaks\n",
    "11, 12, 15\n",
    "Viral detection\n",
    "19, 25, 27\n",
    "Other\n",
    "1, 6, 9, 28, 29"
   ]
  },
  {
   "cell_type": "code",
   "execution_count": 40,
   "metadata": {},
   "outputs": [],
   "source": [
    "t_biomolecular_other = [3, 5, 7, 8, 10, 17]\n",
    "t_biomolecular_antiviral = [16, 22 , 23]\n",
    "t_clinical = [0, 18, 26]\n",
    "t_non_human = [4, 21, 24]\n",
    "# t_responding = []\n",
    "t_outbreaks = [11, 12, 15, 2, 13, 14, 20]\n",
    "t_detection = [19, 25, 27]\n",
    "t_other = [1, 6, 9, 28, 29]\n",
    "\n",
    "t_all = [t_biomolecular_other, t_biomolecular_antiviral, t_clinical, t_non_human,\n",
    "         t_outbreaks, t_detection, t_other]\n",
    "t_all_names = ['Biomolecular, general', 'Biomolecular, antiviral', 'Patients & healthcare services', \n",
    "               'Non-human species', 'Outbreak & response', 'Viral detection', 'Other']"
   ]
  },
  {
   "cell_type": "code",
   "execution_count": 41,
   "metadata": {},
   "outputs": [
    {
     "data": {
      "image/png": "[encoded data removed]",
      "text/plain": [
       "<Figure size 432x288 with 1 Axes>"
      ]
     },
     "metadata": {
      "needs_background": "light"
     },
     "output_type": "display_data"
    },
    {
     "data": {
      "image/png": "[encoded data removed]",
      "text/plain": [
       "<Figure size 432x288 with 1 Axes>"
      ]
     },
     "metadata": {
      "needs_background": "light"
     },
     "output_type": "display_data"
    }
   ],
   "source": [
    "sums_all, sums_covid = [], []\n",
    "for t, lst in enumerate(t_all):\n",
    "    boolean = metadata_dt_analysis['Dominant_Topic'].isin(lst)\n",
    "    sums_all.append(sum(boolean))\n",
    "    boolean = metadata_dt_analysis[metadata_dt_analysis['abstract_COVID']]['Dominant_Topic'].isin(lst)\n",
    "    sums_covid.append(sum(boolean))\n",
    "    \n",
    "plt.bar(np.arange(0, len(t_all)),\n",
    "        sums_all, \n",
    "        label='Non-COVID-19 Abstracts')\n",
    "plt.bar(np.arange(0, len(t_all)),\n",
    "        sums_covid, \n",
    "        label='COVID-19 Abstracts')\n",
    "plt.xticks(np.arange(len(t_all)), t_all_names, rotation=90)\n",
    "plt.ylabel('Count of Abstracts', size=12)\n",
    "plt.xlabel('Topic Family', size=12)\n",
    "plt.title('Abstracts Across Topic Families', size=14)\n",
    "plt.legend()\n",
    "plt.show()\n",
    "\n",
    "\n",
    "## By percentage\n",
    "sums_all, sums_covid = [], []\n",
    "for t, lst in enumerate(t_all):\n",
    "    boolean = metadata_dt_analysis['Dominant_Topic'].isin(lst)\n",
    "    sums_all.append(sum(boolean))\n",
    "    boolean = metadata_dt_analysis[metadata_dt_analysis['abstract_COVID']]['Dominant_Topic'].isin(lst)\n",
    "    sums_covid.append(sum(boolean))\n",
    "    \n",
    "sums_all = np.array(sums_all)\n",
    "sums_covid = np.array(sums_covid)\n",
    "    \n",
    "sums_all = sums_all - sums_covid # get non-COVID only\n",
    "sums_covid = np.array(sums_covid) * 100 / sum(sums_covid)\n",
    "sums_all = np.array(sums_all) * 100 / sum(sums_all)\n",
    "\n",
    "    \n",
    "plt.bar(np.arange(0, len(t_all)),\n",
    "        sums_all, \n",
    "        label='Non-SARS-CoV-2 Abstracts', width=0.25)\n",
    "plt.bar(np.arange(0, len(t_all)) + 0.25,\n",
    "        sums_covid, \n",
    "        label='SARS-CoV-2 Abstracts', width=0.25)\n",
    "plt.xticks(np.arange(len(t_all)), t_all_names, rotation=90)\n",
    "plt.ylabel('Percent Distribution of CoV Category', size=12)\n",
    "plt.xlabel('Topic Family', size=12)\n",
    "plt.title('Abstracts Across Topic Families', size=14)\n",
    "plt.legend(title='CoV Abstracts Category')\n",
    "plt.show()"
   ]
  },
  {
   "cell_type": "code",
   "execution_count": 56,
   "metadata": {},
   "outputs": [
    {
     "data": {
      "image/png": "[encoded data removed]",
      "text/plain": [
       "<Figure size 318.96x318.96 with 1 Axes>"
      ]
     },
     "metadata": {
      "needs_background": "light"
     },
     "output_type": "display_data"
    }
   ],
   "source": [
    "sums_all, sums_covid = [], []\n",
    "fig, ax = plt.subplots(figsize=(4.43, 4.43))\n",
    "for t, lst in enumerate(t_all):\n",
    "    boolean = subset_COVID['Dominant_Topic'].isin(lst)\n",
    "    sums_covid.append(sum(boolean))\n",
    "    plt.plot(subset_COVID['converted_datetime'], np.cumsum(boolean), label = t_all_names[t])\n",
    "plt.xticks(rotation=30)\n",
    "\n",
    "leg = ax.legend(title='Topic Family')\n",
    "plt.setp(leg.get_title(),fontsize='x-large')\n",
    "# get the individual lines inside legend and set line width\n",
    "for line in leg.get_lines():\n",
    "    line.set_linewidth(4)\n",
    "    \n",
    "plt.ylabel('Count of Abstracts', size=12)\n",
    "plt.xlabel('Date', size=12)\n",
    "plt.text(0.025, 0.375, 'C', transform=ax.transAxes, fontsize=28, fontweight='bold', va='top')\n",
    "# plt.title('Topic Families Over Time in COVID-19 Abstracts', size=14)\n",
    "# plt.yscale('log')\n",
    "plt.gcf().subplots_adjust(bottom=0.20)\n",
    "plt.savefig('Paper/Figures/7c.png', dpi=dpi)"
   ]
  },
  {
   "cell_type": "code",
   "execution_count": null,
   "metadata": {},
   "outputs": [],
   "source": [
    "plt.bar(np.arange(0, max(metadata_dt_analysis['Dominant_Topic'])),\n",
    "        np.bincount(metadata_dt_analysis['Dominant_Topic'], minlength=max(metadata_dt_analysis['Dominant_Topic']))[1:], \n",
    "        label='Non-COVID-19 Abstracts')\n",
    "subset = metadata_dt_analysis[metadata_dt_analysis['abstract_COVID']]\n",
    "plt.bar(np.arange(0, max(subset['Dominant_Topic'])),\n",
    "        np.bincount(subset['Dominant_Topic'], minlength=max(subset['Dominant_Topic']))[1:], \n",
    "        label='COVID-19 Abstracts')\n",
    "plt.xlabel('Topic ID', size=12)\n",
    "plt.ylabel('Count of Abstracts', size=12)\n",
    "plt.title('Distribution of Abstracts Across Topics', size=14)\n",
    "plt.legend()"
   ]
  },
  {
   "cell_type": "code",
   "execution_count": 97,
   "metadata": {},
   "outputs": [
    {
     "data": {
      "image/png": "[encoded data removed]",
      "text/plain": [
       "<Figure size 432x288 with 1 Axes>"
      ]
     },
     "metadata": {
      "needs_background": "light"
     },
     "output_type": "display_data"
    }
   ],
   "source": [
    "major_topics_n = topics[0:5]\n",
    "labels = [\n",
    "    'Public health management',\n",
    "    'Clinical manifestations',\n",
    "    'Clinical studies',\n",
    "    '',\n",
    "    '',\n",
    "]\n",
    "\n",
    "for t in major_topics_n:\n",
    "    boolean = (subset_COVID['Dominant_Topic'] == t)\n",
    "    y = np.arange(1, sum(boolean) + 1)\n",
    "    plt.plot(subset_COVID[boolean]['converted_datetime'], y)\n",
    "\n",
    "plt.xticks(rotation=45)\n",
    "\n",
    "plt.yscale('log')\n",
    "\n",
    "plt.xlabel('Date', size=12)\n",
    "plt.ylabel('Count of Abstracts (log scale)', size=12)\n",
    "plt.title('Abstracts Over Time', size=14)\n",
    "plt.legend()"
   ]
  },
  {
   "cell_type": "markdown",
   "metadata": {},
   "source": [
    "# COVID Distribution"
   ]
  },
  {
   "cell_type": "code",
   "execution_count": 50,
   "metadata": {},
   "outputs": [],
   "source": [
    "topics_distribution = dominant_topic_30.groupby(['Dominant_Topic']).agg({'abstract_COVID': 'sum'})\n",
    "\n",
    "# topic_COVID_presentage = topics_distribution.groupby(level=0).apply(lambda x:\n",
    "                                                 #100 * x / float(x.count()))\n",
    "topic_tot = dominant_topic_30.groupby(['Dominant_Topic']).agg({'abstract_COVID': 'count'})"
   ]
  },
  {
   "cell_type": "code",
   "execution_count": 51,
   "metadata": {},
   "outputs": [],
   "source": [
    "covid_distribution = pd.merge(topics_distribution,topic_tot, on = \"Dominant_Topic\")"
   ]
  },
  {
   "cell_type": "code",
   "execution_count": 52,
   "metadata": {},
   "outputs": [],
   "source": [
    "covid_distribution['COVID_Percentage'] = covid_distribution['abstract_COVID_x']/covid_distribution['abstract_COVID_y']"
   ]
  },
  {
   "cell_type": "code",
   "execution_count": 53,
   "metadata": {
    "scrolled": true
   },
   "outputs": [
    {
     "data": {
      "text/html": [
       "<div>\n",
       "<style scoped>\n",
       "    .dataframe tbody tr th:only-of-type {\n",
       "        vertical-align: middle;\n",
       "    }\n",
       "\n",
       "    .dataframe tbody tr th {\n",
       "        vertical-align: top;\n",
       "    }\n",
       "\n",
       "    .dataframe thead th {\n",
       "        text-align: right;\n",
       "    }\n",
       "</style>\n",
       "<table border=\"1\" class=\"dataframe\">\n",
       "  <thead>\n",
       "    <tr style=\"text-align: right;\">\n",
       "      <th></th>\n",
       "      <th>abstract_COVID_x</th>\n",
       "      <th>abstract_COVID_y</th>\n",
       "      <th>COVID_Percentage</th>\n",
       "    </tr>\n",
       "    <tr>\n",
       "      <th>Dominant_Topic</th>\n",
       "      <th></th>\n",
       "      <th></th>\n",
       "      <th></th>\n",
       "    </tr>\n",
       "  </thead>\n",
       "  <tbody>\n",
       "    <tr>\n",
       "      <th>0.0</th>\n",
       "      <td>150</td>\n",
       "      <td>458</td>\n",
       "      <td>0.327511</td>\n",
       "    </tr>\n",
       "    <tr>\n",
       "      <th>1.0</th>\n",
       "      <td>6</td>\n",
       "      <td>43</td>\n",
       "      <td>0.139535</td>\n",
       "    </tr>\n",
       "    <tr>\n",
       "      <th>2.0</th>\n",
       "      <td>56</td>\n",
       "      <td>160</td>\n",
       "      <td>0.350000</td>\n",
       "    </tr>\n",
       "    <tr>\n",
       "      <th>3.0</th>\n",
       "      <td>75</td>\n",
       "      <td>160</td>\n",
       "      <td>0.468750</td>\n",
       "    </tr>\n",
       "    <tr>\n",
       "      <th>...</th>\n",
       "      <td>...</td>\n",
       "      <td>...</td>\n",
       "      <td>...</td>\n",
       "    </tr>\n",
       "    <tr>\n",
       "      <th>26.0</th>\n",
       "      <td>407</td>\n",
       "      <td>815</td>\n",
       "      <td>0.499387</td>\n",
       "    </tr>\n",
       "    <tr>\n",
       "      <th>27.0</th>\n",
       "      <td>35</td>\n",
       "      <td>640</td>\n",
       "      <td>0.054688</td>\n",
       "    </tr>\n",
       "    <tr>\n",
       "      <th>28.0</th>\n",
       "      <td>24</td>\n",
       "      <td>254</td>\n",
       "      <td>0.094488</td>\n",
       "    </tr>\n",
       "    <tr>\n",
       "      <th>29.0</th>\n",
       "      <td>5</td>\n",
       "      <td>55</td>\n",
       "      <td>0.090909</td>\n",
       "    </tr>\n",
       "  </tbody>\n",
       "</table>\n",
       "<p>30 rows × 3 columns</p>\n",
       "</div>"
      ],
      "text/plain": [
       "                abstract_COVID_x  abstract_COVID_y  COVID_Percentage\n",
       "Dominant_Topic                                                      \n",
       "0.0                          150               458          0.327511\n",
       "1.0                            6                43          0.139535\n",
       "2.0                           56               160          0.350000\n",
       "3.0                           75               160          0.468750\n",
       "...                          ...               ...               ...\n",
       "26.0                         407               815          0.499387\n",
       "27.0                          35               640          0.054688\n",
       "28.0                          24               254          0.094488\n",
       "29.0                           5                55          0.090909\n",
       "\n",
       "[30 rows x 3 columns]"
      ]
     },
     "execution_count": 53,
     "metadata": {},
     "output_type": "execute_result"
    }
   ],
   "source": [
    "covid_distribution"
   ]
  },
  {
   "cell_type": "code",
   "execution_count": 54,
   "metadata": {},
   "outputs": [
    {
     "data": {
      "text/html": [
       "<div>\n",
       "<style scoped>\n",
       "    .dataframe tbody tr th:only-of-type {\n",
       "        vertical-align: middle;\n",
       "    }\n",
       "\n",
       "    .dataframe tbody tr th {\n",
       "        vertical-align: top;\n",
       "    }\n",
       "\n",
       "    .dataframe thead th {\n",
       "        text-align: right;\n",
       "    }\n",
       "</style>\n",
       "<table border=\"1\" class=\"dataframe\">\n",
       "  <thead>\n",
       "    <tr style=\"text-align: right;\">\n",
       "      <th></th>\n",
       "      <th>abstract_COVID</th>\n",
       "      <th>total</th>\n",
       "      <th>COVID_Percentage</th>\n",
       "    </tr>\n",
       "    <tr>\n",
       "      <th>Dominant_Topic</th>\n",
       "      <th></th>\n",
       "      <th></th>\n",
       "      <th></th>\n",
       "    </tr>\n",
       "  </thead>\n",
       "  <tbody>\n",
       "    <tr>\n",
       "      <th>0.0</th>\n",
       "      <td>150</td>\n",
       "      <td>458</td>\n",
       "      <td>0.327511</td>\n",
       "    </tr>\n",
       "    <tr>\n",
       "      <th>1.0</th>\n",
       "      <td>6</td>\n",
       "      <td>43</td>\n",
       "      <td>0.139535</td>\n",
       "    </tr>\n",
       "    <tr>\n",
       "      <th>2.0</th>\n",
       "      <td>56</td>\n",
       "      <td>160</td>\n",
       "      <td>0.350000</td>\n",
       "    </tr>\n",
       "    <tr>\n",
       "      <th>3.0</th>\n",
       "      <td>75</td>\n",
       "      <td>160</td>\n",
       "      <td>0.468750</td>\n",
       "    </tr>\n",
       "    <tr>\n",
       "      <th>...</th>\n",
       "      <td>...</td>\n",
       "      <td>...</td>\n",
       "      <td>...</td>\n",
       "    </tr>\n",
       "    <tr>\n",
       "      <th>26.0</th>\n",
       "      <td>407</td>\n",
       "      <td>815</td>\n",
       "      <td>0.499387</td>\n",
       "    </tr>\n",
       "    <tr>\n",
       "      <th>27.0</th>\n",
       "      <td>35</td>\n",
       "      <td>640</td>\n",
       "      <td>0.054688</td>\n",
       "    </tr>\n",
       "    <tr>\n",
       "      <th>28.0</th>\n",
       "      <td>24</td>\n",
       "      <td>254</td>\n",
       "      <td>0.094488</td>\n",
       "    </tr>\n",
       "    <tr>\n",
       "      <th>29.0</th>\n",
       "      <td>5</td>\n",
       "      <td>55</td>\n",
       "      <td>0.090909</td>\n",
       "    </tr>\n",
       "  </tbody>\n",
       "</table>\n",
       "<p>30 rows × 3 columns</p>\n",
       "</div>"
      ],
      "text/plain": [
       "                abstract_COVID  total  COVID_Percentage\n",
       "Dominant_Topic                                         \n",
       "0.0                        150    458          0.327511\n",
       "1.0                          6     43          0.139535\n",
       "2.0                         56    160          0.350000\n",
       "3.0                         75    160          0.468750\n",
       "...                        ...    ...               ...\n",
       "26.0                       407    815          0.499387\n",
       "27.0                        35    640          0.054688\n",
       "28.0                        24    254          0.094488\n",
       "29.0                         5     55          0.090909\n",
       "\n",
       "[30 rows x 3 columns]"
      ]
     },
     "execution_count": 54,
     "metadata": {},
     "output_type": "execute_result"
    }
   ],
   "source": [
    "covid_distribution.rename(columns={\"abstract_COVID_x\": \"abstract_COVID\", \"abstract_COVID_y\": \"total\"})"
   ]
  },
  {
   "cell_type": "code",
   "execution_count": 55,
   "metadata": {},
   "outputs": [],
   "source": [
    "covid_distribution.to_csv(\"big_data/covid_distribution_30.csv\")"
   ]
  }
 ],
 "metadata": {
  "kernelspec": {
   "display_name": "Python 3",
   "language": "python",
   "name": "python3"
  },
  "language_info": {
   "codemirror_mode": {
    "name": "ipython",
    "version": 3
   },
   "file_extension": ".py",
   "mimetype": "text/x-python",
   "name": "python",
   "nbconvert_exporter": "python",
   "pygments_lexer": "ipython3",
   "version": "3.7.3"
  }
 },
 "nbformat": 4,
 "nbformat_minor": 2
}
