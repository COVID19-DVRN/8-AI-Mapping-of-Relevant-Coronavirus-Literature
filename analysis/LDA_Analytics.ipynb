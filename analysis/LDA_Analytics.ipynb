{
 "cells": [
  {
   "cell_type": "code",
   "execution_count": 1,
   "metadata": {},
   "outputs": [],
   "source": [
    "import os\n",
    "os.chdir('..')\n",
    "metadata_path = 'big_data/metadata_20-05-28.csv'"
   ]
  },
  {
   "cell_type": "code",
   "execution_count": 2,
   "metadata": {},
   "outputs": [],
   "source": [
    "import datetime\n",
    "data_datetime = datetime.datetime(2020, 5, 28)"
   ]
  },
  {
   "cell_type": "markdown",
   "metadata": {},
   "source": [
    "# Packages and presets"
   ]
  },
  {
   "cell_type": "code",
   "execution_count": 3,
   "metadata": {},
   "outputs": [],
   "source": [
    "import gensim\n",
    "\n",
    "# for preprocessing\n",
    "from gensim.utils import simple_preprocess\n",
    "from gensim.parsing.preprocessing import STOPWORDS\n",
    "from nltk.stem import WordNetLemmatizer, SnowballStemmer\n",
    "\n",
    "# for bigrams\n",
    "from gensim.models import Phrases\n",
    "from gensim.models.phrases import Phraser\n",
    "from nltk.stem.porter import *\n",
    "import nltk\n",
    "\n",
    "# nltk.download('wordnet')\n",
    "from nltk.corpus import wordnet\n",
    "from gensim import corpora, models\n",
    "from pprint import pprint\n",
    "\n",
    "# auxiliary\n",
    "import numpy as np\n",
    "import pandas as pd\n",
    "pd.set_option('display.max_rows', 8)\n",
    "import copy\n",
    "# !date\n",
    "\n",
    "#Plotting\n",
    "import matplotlib.pyplot as plt\n",
    "import seaborn as sns"
   ]
  },
  {
   "cell_type": "markdown",
   "metadata": {},
   "source": [
    "# Functions"
   ]
  },
  {
   "cell_type": "code",
   "execution_count": 4,
   "metadata": {},
   "outputs": [],
   "source": [
    "import nlp.preprocessing as prep\n",
    "\n",
    "dpi = 300 # figure resolution"
   ]
  },
  {
   "cell_type": "markdown",
   "metadata": {},
   "source": [
    "# Load, preprocess data"
   ]
  },
  {
   "cell_type": "code",
   "execution_count": 5,
   "metadata": {
    "scrolled": true
   },
   "outputs": [
    {
     "name": "stderr",
     "output_type": "stream",
     "text": [
      "C:\\Users\\vldoa\\Anaconda3\\lib\\site-packages\\IPython\\core\\interactiveshell.py:3063: DtypeWarning: Columns (13,14) have mixed types.Specify dtype option on import or set low_memory=False.\n",
      "  interactivity=interactivity, compiler=compiler, result=result)\n"
     ]
    }
   ],
   "source": [
    "df = pd.read_csv(metadata_path)\n",
    "df = df[pd.isnull(df['abstract']) == False].reset_index(drop=True)"
   ]
  },
  {
   "cell_type": "code",
   "execution_count": 6,
   "metadata": {},
   "outputs": [],
   "source": [
    "df = df[df['abstract'].str.lower().str.contains(\n",
    "     \"covid-19|coronavirus|coronavirus|corona virus|2019-ncov|sars-cov|mers-cov|severe acute respiratory syndrome|middle east respiratory syndrome\") | \n",
    "         df['abstract'].str.contains(\"MERS\")\n",
    "         ]"
   ]
  },
  {
   "cell_type": "code",
   "execution_count": 7,
   "metadata": {},
   "outputs": [],
   "source": [
    "covid_article_indexes = np.argwhere(np.array(df['abstract'].str.contains('COVID|2019-nCoV|SARS-CoV-2'))).T[0]\n",
    "df['abstract_COVID'] = df['abstract'].str.contains('COVID|2019-nCoV|SARS-CoV-2')\n",
    "mers_article_indexes = np.argwhere(np.array(df['abstract'].str.contains('MER|middle east| Middle East'))).T[0]\n",
    "sars_article_indexes = np.argwhere(np.array(df['abstract'].str.contains('SARS'))).T[0]\n",
    "df['abstract'] =df['abstract'].str.lower()\n",
    "df['abstract'] = df['abstract'].str.replace('[^\\w\\s]','')\n",
    "df.reset_index(drop=True, inplace=True)"
   ]
  },
  {
   "cell_type": "code",
   "execution_count": 8,
   "metadata": {},
   "outputs": [
    {
     "data": {
      "text/plain": [
       "18412"
      ]
     },
     "execution_count": 8,
     "metadata": {},
     "output_type": "execute_result"
    }
   ],
   "source": [
    "count = sum(df['abstract_COVID'] )\n",
    "count"
   ]
  },
  {
   "cell_type": "markdown",
   "metadata": {},
   "source": [
    "# NLP Gensim"
   ]
  },
  {
   "cell_type": "markdown",
   "metadata": {},
   "source": [
    "**Notes**: Working LDA guide pulled from this website (https://towardsdatascience.com/topic-modeling-and-latent-dirichlet-allocation-in-python-9bf156893c24 ). Sklearn's LDA perplexity metric has a bug that makes it unusable."
   ]
  },
  {
   "cell_type": "markdown",
   "metadata": {},
   "source": [
    "## Data prep"
   ]
  },
  {
   "cell_type": "code",
   "execution_count": 9,
   "metadata": {},
   "outputs": [],
   "source": [
    "# function to perform lemmatize and stem preprocessing steps on the data set.\n",
    "preprocessor = prep.Preprocessor(df['abstract'])\n",
    "preprocessor.preprocess(lemmatize=True, stopwords=['abstract'], min_token_length=3)"
   ]
  },
  {
   "cell_type": "code",
   "execution_count": 10,
   "metadata": {},
   "outputs": [],
   "source": [
    "preprocessor.get_bigrams_from_preprocessed()"
   ]
  },
  {
   "cell_type": "code",
   "execution_count": 11,
   "metadata": {
    "scrolled": true
   },
   "outputs": [
    {
     "name": "stdout",
     "output_type": "stream",
     "text": [
      "0 activ\n",
      "1 antigen\n",
      "2 basi\n",
      "3 bind_neisseria\n",
      "4 ceacam\n",
      "5 ceacam_homophil\n",
      "6 compos_iglik\n",
      "7 crystal_structur\n",
      "8 discuss\n",
      "9 domain\n",
      "10 encompass_virusbind\n",
      "\n",
      " 221637 unique words. \n",
      "\n",
      "81450 unique words after extremes filtered. \n",
      "\n",
      "\n",
      "Word 0 (\"activ\") appears 3 time.\n",
      "Word 26 (\"protein\") appears 1 time.\n",
      "Word 64 (\"molecular\") appears 1 time.\n",
      "Word 81 (\"studi\") appears 2 time.\n",
      "Word 115 (\"examin\") appears 2 time.\n",
      "Word 122 (\"group\") appears 1 time.\n",
      "Word 144 (\"patient\") appears 4 time.\n",
      "Word 145 (\"peopl\") appears 1 time.\n",
      "Word 148 (\"popul\") appears 2 time.\n",
      "Word 157 (\"respiratori_syndrom\") appears 1 time.\n",
      "Word 161 (\"sar\") appears 1 time.\n",
      "Word 162 (\"screen\") appears 2 time.\n",
      "Word 165 (\"select\") appears 1 time.\n",
      "Word 169 (\"signific\") appears 1 time.\n",
      "Word 173 (\"suscept\") appears 2 time.\n",
      "Word 180 (\"test\") appears 1 time.\n",
      "Word 190 (\"chang\") appears 2 time.\n",
      "Word 209 (\"identifi\") appears 1 time.\n",
      "Word 217 (\"measur\") appears 1 time.\n",
      "Word 259 (\"differ\") appears 1 time.\n",
      "Word 271 (\"inhibitor\") appears 1 time.\n",
      "Word 367 (\"detect\") appears 1 time.\n",
      "Word 401 (\"chines\") appears 1 time.\n",
      "Word 693 (\"investig\") appears 1 time.\n",
      "Word 923 (\"purpos\") appears 2 time.\n",
      "Word 1009 (\"agent\") appears 1 time.\n",
      "Word 1142 (\"sensit\") appears 1 time.\n",
      "Word 1334 (\"collect\") appears 1 time.\n",
      "Word 1627 (\"blood\") appears 2 time.\n",
      "Word 2687 (\"blood_sampl\") appears 1 time.\n",
      "Word 2895 (\"marker\") appears 1 time.\n",
      "Word 3128 (\"aetiolog_postsar\") appears 1 time.\n",
      "Word 3129 (\"apcr_sensit\") appears 1 time.\n",
      "Word 3130 (\"aptt_atiii\") appears 1 time.\n",
      "Word 3131 (\"assay_elisa\") appears 1 time.\n",
      "Word 3132 (\"atiii_apcr\") appears 1 time.\n",
      "Word 3133 (\"atiii_plasminogen\") appears 1 time.\n",
      "Word 3134 (\"coagul_fibrinolysi\") appears 1 time.\n",
      "Word 3135 (\"enzymelink_immunosorb\") appears 1 time.\n",
      "Word 3136 (\"factorvwf_ddimer\") appears 1 time.\n",
      "Word 3137 (\"fibrinogen_homocystein\") appears 1 time.\n",
      "Word 3138 (\"note\") appears 1 time.\n",
      "Word 3139 (\"obvious_aptt\") appears 1 time.\n",
      "Word 3140 (\"osteonecrosi\") appears 2 time.\n",
      "Word 3141 (\"partial_thromboplastin\") appears 1 time.\n",
      "Word 3142 (\"plasminogen_willebrand\") appears 1 time.\n",
      "Word 3143 (\"postsar\") appears 1 time.\n",
      "Word 3144 (\"postsar_healthi\") appears 1 time.\n",
      "Word 3145 (\"postsever_acut\") appears 1 time.\n",
      "Word 3146 (\"protein_antithrombin\") appears 1 time.\n",
      "Word 3147 (\"resist_apcr\") appears 1 time.\n",
      "Word 3148 (\"time_aptt\") appears 1 time.\n",
      "\n",
      " Corpus TF-IDF preview:\n",
      "[(0, 0.10138367792012676),\n",
      " (1, 0.07270405957207929),\n",
      " (2, 0.09255412834732439),\n",
      " (3, 0.23161845300927347),\n",
      " (4, 0.1872795265473287),\n",
      " (5, 0.22201386560514336),\n",
      " (6, 0.23161845300927347),\n",
      " (7, 0.12115171373244223),\n",
      " (8, 0.06332698548880317),\n",
      " (9, 0.08236652807322963),\n",
      " (10, 0.23161845300927347),\n",
      " (11, 0.08097396633647332),\n",
      " (12, 0.22201386560514336),\n",
      " (13, 0.23622936361011615),\n",
      " (14, 0.22201386560514336),\n",
      " (15, 0.06189263670375746),\n",
      " (16, 0.23161845300927347),\n",
      " (17, 0.04119592462260211),\n",
      " (18, 0.09869890999465251),\n",
      " (19, 0.14989574428667632),\n",
      " (20, 0.09115937019449108),\n",
      " (21, 0.3975603035540173),\n",
      " (22, 0.10927589549149898),\n",
      " (23, 0.23161845300927347),\n",
      " (24, 0.09396514951002614),\n",
      " (25, 0.1409262573152344),\n",
      " (26, 0.04808449241813839),\n",
      " (27, 0.23161845300927347),\n",
      " (28, 0.041291664091583906),\n",
      " (29, 0.07763481724755626),\n",
      " (30, 0.03450205665426341),\n",
      " (31, 0.23161845300927347),\n",
      " (32, 0.1659418505447438),\n",
      " (33, 0.1442369140510912),\n",
      " (34, 0.1237120780984954),\n",
      " (35, 0.08767949447830978),\n",
      " (36, 0.047548088244554046)]\n"
     ]
    }
   ],
   "source": [
    "preprocessor.create_nlp_items_from_preprocessed_df(no_below=2, verbose=True)\n",
    "\n",
    "dictionary, bow_corpus, tfidf, corpus_tfidf, tfidf_sparse = (preprocessor.dictionary_,\n",
    "                                                             preprocessor.bow_corpus_,\n",
    "                                                             preprocessor.tfidf_,\n",
    "                                                             preprocessor.corpus_tfidf_,\n",
    "                                                             preprocessor.tfidf_sparse_)"
   ]
  },
  {
   "cell_type": "markdown",
   "metadata": {},
   "source": [
    "## Topic model testing"
   ]
  },
  {
   "cell_type": "code",
   "execution_count": 12,
   "metadata": {},
   "outputs": [],
   "source": [
    "bow_corpus_np = np.array(bow_corpus)"
   ]
  },
  {
   "cell_type": "code",
   "execution_count": 13,
   "metadata": {},
   "outputs": [],
   "source": [
    "def cross_validate_topic_models(bow_corpus_np, dictionary, topic_range, n_splits):\n",
    "    from gensim.models.coherencemodel import CoherenceModel\n",
    "    # Cross-validate perplexity\n",
    "    perplexities, coherences = [], []\n",
    "    for n in topic_range:\n",
    "        splits = np.random.choice(range(n_splits), size=len(bow_corpus_np))\n",
    "\n",
    "        perplexities_n, coherences_n = [], []\n",
    "        print(n)\n",
    "        for s in range(n_splits):\n",
    "            training = bow_corpus_np[np.argwhere(splits != s).T[0]]\n",
    "            test = bow_corpus_np[np.argwhere(splits == s).T[0]]\n",
    "\n",
    "            lda_model = gensim.models.LdaMulticore(\n",
    "                            training, num_topics=n,\n",
    "                            id2word=dictionary, passes=2\n",
    "                        )\n",
    "            \n",
    "            perplexity = lda_model.log_perplexity(test)\n",
    "            cm = CoherenceModel(model=lda_model, texts=test, dictionary=dictionary, coherence='c_v')\n",
    "            coherence = cm.get_coherence()\n",
    "\n",
    "            perplexities_n.append(perplexity); coherences_n.append(coherence)\n",
    "            print('-')\n",
    "            \n",
    "        perplexities.append(perplexities_n); coherences.append(coherences_n)\n",
    "        print('Perplexities: ' + str(np.mean(perplexities_n)) + ' +/- ' + \n",
    "              str(np.std(perplexities_n) / n_splits ** 0.5))\n",
    "        print('Coherences: ' + str(np.mean(coherences_n)) + ' +/- ' + \n",
    "              str(np.std(coherences_n) / n_splits ** 0.5))\n",
    "\n",
    "    return np.array(perplexities), np.array(coherences)"
   ]
  },
  {
   "cell_type": "code",
   "execution_count": 244,
   "metadata": {},
   "outputs": [],
   "source": [
    "min_topics = 5\n",
    "max_topics = 100\n",
    "step = 10\n",
    "topic_range = range(min_topics, max_topics, step)"
   ]
  },
  {
   "cell_type": "code",
   "execution_count": 245,
   "metadata": {
    "scrolled": true
   },
   "outputs": [
    {
     "name": "stdout",
     "output_type": "stream",
     "text": [
      "5\n"
     ]
    },
    {
     "name": "stderr",
     "output_type": "stream",
     "text": [
      "/anaconda3/lib/python3.6/site-packages/gensim/topic_coherence/direct_confirmation_measure.py:202: RuntimeWarning: invalid value encountered in true_divide\n",
      "  numerator = (co_occur_count / num_docs) + EPSILON\n",
      "/anaconda3/lib/python3.6/site-packages/gensim/topic_coherence/direct_confirmation_measure.py:203: RuntimeWarning: invalid value encountered in true_divide\n",
      "  denominator = (w_prime_count / num_docs) * (w_star_count / num_docs)\n",
      "/anaconda3/lib/python3.6/site-packages/gensim/topic_coherence/direct_confirmation_measure.py:198: RuntimeWarning: invalid value encountered in true_divide\n",
      "  co_doc_prob = co_occur_count / num_docs\n"
     ]
    },
    {
     "name": "stdout",
     "output_type": "stream",
     "text": [
      "-\n",
      "-\n"
     ]
    },
    {
     "ename": "KeyboardInterrupt",
     "evalue": "",
     "output_type": "error",
     "traceback": [
      "\u001b[0;31m---------------------------------------------------------------------------\u001b[0m",
      "\u001b[0;31mKeyboardInterrupt\u001b[0m                         Traceback (most recent call last)",
      "\u001b[0;32m<ipython-input-245-a24a9a705f55>\u001b[0m in \u001b[0;36m<module>\u001b[0;34m()\u001b[0m\n\u001b[1;32m      2\u001b[0m                                      \u001b[0mdictionary\u001b[0m\u001b[0;34m=\u001b[0m\u001b[0mdictionary\u001b[0m\u001b[0;34m,\u001b[0m\u001b[0;34m\u001b[0m\u001b[0;34m\u001b[0m\u001b[0m\n\u001b[1;32m      3\u001b[0m                                      \u001b[0mtopic_range\u001b[0m\u001b[0;34m=\u001b[0m\u001b[0mtopic_range\u001b[0m\u001b[0;34m,\u001b[0m\u001b[0;34m\u001b[0m\u001b[0;34m\u001b[0m\u001b[0m\n\u001b[0;32m----> 4\u001b[0;31m                                      \u001b[0mn_splits\u001b[0m\u001b[0;34m=\u001b[0m\u001b[0;36m5\u001b[0m\u001b[0;34m\u001b[0m\u001b[0;34m\u001b[0m\u001b[0m\n\u001b[0m\u001b[1;32m      5\u001b[0m                                     )\n",
      "\u001b[0;32m<ipython-input-243-2d6de70fa9a2>\u001b[0m in \u001b[0;36mcross_validate_topic_models\u001b[0;34m(bow_corpus_np, dictionary, topic_range, n_splits)\u001b[0m\n\u001b[1;32m     14\u001b[0m             lda_model = gensim.models.ldamodel.LdaModel(corpus=training,\n\u001b[1;32m     15\u001b[0m                             \u001b[0mnum_topics\u001b[0m\u001b[0;34m=\u001b[0m\u001b[0mn\u001b[0m\u001b[0;34m,\u001b[0m\u001b[0;34m\u001b[0m\u001b[0;34m\u001b[0m\u001b[0m\n\u001b[0;32m---> 16\u001b[0;31m                             id2word=dictionary, passes=2)\n\u001b[0m\u001b[1;32m     17\u001b[0m \u001b[0;34m\u001b[0m\u001b[0m\n\u001b[1;32m     18\u001b[0m             \u001b[0mperplexity\u001b[0m \u001b[0;34m=\u001b[0m \u001b[0mlda_model\u001b[0m\u001b[0;34m.\u001b[0m\u001b[0mlog_perplexity\u001b[0m\u001b[0;34m(\u001b[0m\u001b[0mtest\u001b[0m\u001b[0;34m)\u001b[0m\u001b[0;34m\u001b[0m\u001b[0;34m\u001b[0m\u001b[0m\n",
      "\u001b[0;32m/anaconda3/lib/python3.6/site-packages/gensim/models/ldamodel.py\u001b[0m in \u001b[0;36m__init__\u001b[0;34m(self, corpus, num_topics, id2word, distributed, chunksize, passes, update_every, alpha, eta, decay, offset, eval_every, iterations, gamma_threshold, minimum_probability, random_state, ns_conf, minimum_phi_value, per_word_topics, callbacks, dtype)\u001b[0m\n\u001b[1;32m    517\u001b[0m         \u001b[0;32mif\u001b[0m \u001b[0mcorpus\u001b[0m \u001b[0;32mis\u001b[0m \u001b[0;32mnot\u001b[0m \u001b[0;32mNone\u001b[0m\u001b[0;34m:\u001b[0m\u001b[0;34m\u001b[0m\u001b[0;34m\u001b[0m\u001b[0m\n\u001b[1;32m    518\u001b[0m             \u001b[0muse_numpy\u001b[0m \u001b[0;34m=\u001b[0m \u001b[0mself\u001b[0m\u001b[0;34m.\u001b[0m\u001b[0mdispatcher\u001b[0m \u001b[0;32mis\u001b[0m \u001b[0;32mnot\u001b[0m \u001b[0;32mNone\u001b[0m\u001b[0;34m\u001b[0m\u001b[0;34m\u001b[0m\u001b[0m\n\u001b[0;32m--> 519\u001b[0;31m             \u001b[0mself\u001b[0m\u001b[0;34m.\u001b[0m\u001b[0mupdate\u001b[0m\u001b[0;34m(\u001b[0m\u001b[0mcorpus\u001b[0m\u001b[0;34m,\u001b[0m \u001b[0mchunks_as_numpy\u001b[0m\u001b[0;34m=\u001b[0m\u001b[0muse_numpy\u001b[0m\u001b[0;34m)\u001b[0m\u001b[0;34m\u001b[0m\u001b[0;34m\u001b[0m\u001b[0m\n\u001b[0m\u001b[1;32m    520\u001b[0m \u001b[0;34m\u001b[0m\u001b[0m\n\u001b[1;32m    521\u001b[0m     \u001b[0;32mdef\u001b[0m \u001b[0minit_dir_prior\u001b[0m\u001b[0;34m(\u001b[0m\u001b[0mself\u001b[0m\u001b[0;34m,\u001b[0m \u001b[0mprior\u001b[0m\u001b[0;34m,\u001b[0m \u001b[0mname\u001b[0m\u001b[0;34m)\u001b[0m\u001b[0;34m:\u001b[0m\u001b[0;34m\u001b[0m\u001b[0;34m\u001b[0m\u001b[0m\n",
      "\u001b[0;32m/anaconda3/lib/python3.6/site-packages/gensim/models/ldamodel.py\u001b[0m in \u001b[0;36mupdate\u001b[0;34m(self, corpus, chunksize, decay, offset, passes, update_every, eval_every, iterations, gamma_threshold, chunks_as_numpy)\u001b[0m\n\u001b[1;32m    978\u001b[0m                         \u001b[0mpass_\u001b[0m\u001b[0;34m,\u001b[0m \u001b[0mchunk_no\u001b[0m \u001b[0;34m*\u001b[0m \u001b[0mchunksize\u001b[0m \u001b[0;34m+\u001b[0m \u001b[0mlen\u001b[0m\u001b[0;34m(\u001b[0m\u001b[0mchunk\u001b[0m\u001b[0;34m)\u001b[0m\u001b[0;34m,\u001b[0m \u001b[0mlencorpus\u001b[0m\u001b[0;34m\u001b[0m\u001b[0;34m\u001b[0m\u001b[0m\n\u001b[1;32m    979\u001b[0m                     )\n\u001b[0;32m--> 980\u001b[0;31m                     \u001b[0mgammat\u001b[0m \u001b[0;34m=\u001b[0m \u001b[0mself\u001b[0m\u001b[0;34m.\u001b[0m\u001b[0mdo_estep\u001b[0m\u001b[0;34m(\u001b[0m\u001b[0mchunk\u001b[0m\u001b[0;34m,\u001b[0m \u001b[0mother\u001b[0m\u001b[0;34m)\u001b[0m\u001b[0;34m\u001b[0m\u001b[0;34m\u001b[0m\u001b[0m\n\u001b[0m\u001b[1;32m    981\u001b[0m \u001b[0;34m\u001b[0m\u001b[0m\n\u001b[1;32m    982\u001b[0m                     \u001b[0;32mif\u001b[0m \u001b[0mself\u001b[0m\u001b[0;34m.\u001b[0m\u001b[0moptimize_alpha\u001b[0m\u001b[0;34m:\u001b[0m\u001b[0;34m\u001b[0m\u001b[0;34m\u001b[0m\u001b[0m\n",
      "\u001b[0;32m/anaconda3/lib/python3.6/site-packages/gensim/models/ldamodel.py\u001b[0m in \u001b[0;36mdo_estep\u001b[0;34m(self, chunk, state)\u001b[0m\n\u001b[1;32m    740\u001b[0m         \u001b[0;32mif\u001b[0m \u001b[0mstate\u001b[0m \u001b[0;32mis\u001b[0m \u001b[0;32mNone\u001b[0m\u001b[0;34m:\u001b[0m\u001b[0;34m\u001b[0m\u001b[0;34m\u001b[0m\u001b[0m\n\u001b[1;32m    741\u001b[0m             \u001b[0mstate\u001b[0m \u001b[0;34m=\u001b[0m \u001b[0mself\u001b[0m\u001b[0;34m.\u001b[0m\u001b[0mstate\u001b[0m\u001b[0;34m\u001b[0m\u001b[0;34m\u001b[0m\u001b[0m\n\u001b[0;32m--> 742\u001b[0;31m         \u001b[0mgamma\u001b[0m\u001b[0;34m,\u001b[0m \u001b[0msstats\u001b[0m \u001b[0;34m=\u001b[0m \u001b[0mself\u001b[0m\u001b[0;34m.\u001b[0m\u001b[0minference\u001b[0m\u001b[0;34m(\u001b[0m\u001b[0mchunk\u001b[0m\u001b[0;34m,\u001b[0m \u001b[0mcollect_sstats\u001b[0m\u001b[0;34m=\u001b[0m\u001b[0;32mTrue\u001b[0m\u001b[0;34m)\u001b[0m\u001b[0;34m\u001b[0m\u001b[0;34m\u001b[0m\u001b[0m\n\u001b[0m\u001b[1;32m    743\u001b[0m         \u001b[0mstate\u001b[0m\u001b[0;34m.\u001b[0m\u001b[0msstats\u001b[0m \u001b[0;34m+=\u001b[0m \u001b[0msstats\u001b[0m\u001b[0;34m\u001b[0m\u001b[0;34m\u001b[0m\u001b[0m\n\u001b[1;32m    744\u001b[0m         \u001b[0mstate\u001b[0m\u001b[0;34m.\u001b[0m\u001b[0mnumdocs\u001b[0m \u001b[0;34m+=\u001b[0m \u001b[0mgamma\u001b[0m\u001b[0;34m.\u001b[0m\u001b[0mshape\u001b[0m\u001b[0;34m[\u001b[0m\u001b[0;36m0\u001b[0m\u001b[0;34m]\u001b[0m  \u001b[0;31m# avoids calling len(chunk) on a generator\u001b[0m\u001b[0;34m\u001b[0m\u001b[0;34m\u001b[0m\u001b[0m\n",
      "\u001b[0;32m/anaconda3/lib/python3.6/site-packages/gensim/models/ldamodel.py\u001b[0m in \u001b[0;36minference\u001b[0;34m(self, chunk, collect_sstats)\u001b[0m\n\u001b[1;32m    691\u001b[0m                 \u001b[0;31m# Substituting the value of the optimal phi back into\u001b[0m\u001b[0;34m\u001b[0m\u001b[0;34m\u001b[0m\u001b[0;34m\u001b[0m\u001b[0m\n\u001b[1;32m    692\u001b[0m                 \u001b[0;31m# the update for gamma gives this update. Cf. Lee&Seung 2001.\u001b[0m\u001b[0;34m\u001b[0m\u001b[0;34m\u001b[0m\u001b[0;34m\u001b[0m\u001b[0m\n\u001b[0;32m--> 693\u001b[0;31m                 \u001b[0mgammad\u001b[0m \u001b[0;34m=\u001b[0m \u001b[0mself\u001b[0m\u001b[0;34m.\u001b[0m\u001b[0malpha\u001b[0m \u001b[0;34m+\u001b[0m \u001b[0mexpElogthetad\u001b[0m \u001b[0;34m*\u001b[0m \u001b[0mnp\u001b[0m\u001b[0;34m.\u001b[0m\u001b[0mdot\u001b[0m\u001b[0;34m(\u001b[0m\u001b[0mcts\u001b[0m \u001b[0;34m/\u001b[0m \u001b[0mphinorm\u001b[0m\u001b[0;34m,\u001b[0m \u001b[0mexpElogbetad\u001b[0m\u001b[0;34m.\u001b[0m\u001b[0mT\u001b[0m\u001b[0;34m)\u001b[0m\u001b[0;34m\u001b[0m\u001b[0;34m\u001b[0m\u001b[0m\n\u001b[0m\u001b[1;32m    694\u001b[0m                 \u001b[0mElogthetad\u001b[0m \u001b[0;34m=\u001b[0m \u001b[0mdirichlet_expectation\u001b[0m\u001b[0;34m(\u001b[0m\u001b[0mgammad\u001b[0m\u001b[0;34m)\u001b[0m\u001b[0;34m\u001b[0m\u001b[0;34m\u001b[0m\u001b[0m\n\u001b[1;32m    695\u001b[0m                 \u001b[0mexpElogthetad\u001b[0m \u001b[0;34m=\u001b[0m \u001b[0mnp\u001b[0m\u001b[0;34m.\u001b[0m\u001b[0mexp\u001b[0m\u001b[0;34m(\u001b[0m\u001b[0mElogthetad\u001b[0m\u001b[0;34m)\u001b[0m\u001b[0;34m\u001b[0m\u001b[0;34m\u001b[0m\u001b[0m\n",
      "\u001b[0;31mKeyboardInterrupt\u001b[0m: "
     ]
    }
   ],
   "source": [
    "perplexities2, coherences2 = cross_validate_topic_models(bow_corpus_np=bow_corpus_np,\n",
    "                                     dictionary=dictionary,\n",
    "                                     topic_range=topic_range,\n",
    "                                     n_splits=5\n",
    "                                    )"
   ]
  },
  {
   "cell_type": "code",
   "execution_count": 16,
   "metadata": {},
   "outputs": [],
   "source": [
    "def plot_error_bounded_scores(scores, x):\n",
    "    mean = np.mean(scores, axis=1)\n",
    "    stdev = np.std(scores, axis=1) / (scores.shape[1] * 0.5)\n",
    "    mean_plus = mean + stdev; mean_minus = mean - stdev\n",
    "    n_topics_index = np.array(list(range(len(mean)))) + 1\n",
    "\n",
    "    fig, ax = plt.subplots()\n",
    "    ax.plot(x, mean)\n",
    "    ax.plot(x, mean_plus, c='black')\n",
    "    ax.plot(x, mean_minus, c='black')\n",
    "\n",
    "\n",
    "    ax.plot([min_topics, max_topics], [max(mean), min(mean)])\n",
    "    return mean, stdev, fig, ax"
   ]
  },
  {
   "cell_type": "code",
   "execution_count": 20,
   "metadata": {},
   "outputs": [
    {
     "data": {
      "image/png": "[encoded data removed]",
      "text/plain": [
       "<matplotlib.figure.Figure at 0x1a328cd668>"
      ]
     },
     "metadata": {
      "needs_background": "light"
     },
     "output_type": "display_data"
    },
    {
     "data": {
      "image/png": "[encoded data removed]",
      "text/plain": [
       "<matplotlib.figure.Figure at 0x1a344b0e10>"
      ]
     },
     "metadata": {
      "needs_background": "light"
     },
     "output_type": "display_data"
    }
   ],
   "source": [
    "# Num of Topic ranging from 2 to 10\n",
    "_, _, fig, ax = plot_error_bounded_scores(perplexities2, topic_range)\n",
    "plt.show()\n",
    "\n",
    "_, _, fig, ax = plot_error_bounded_scores(coherences2, topic_range)\n",
    "plt.show()"
   ]
  },
  {
   "cell_type": "markdown",
   "metadata": {},
   "source": [
    "## Topic model fitting"
   ]
  },
  {
   "cell_type": "code",
   "execution_count": 13,
   "metadata": {},
   "outputs": [],
   "source": [
    "np.random.seed(25)\n",
    "\n",
    "n_topics = 30\n",
    "\n",
    "lda_model = gensim.models.LdaMulticore(\n",
    "                bow_corpus_np, num_topics=n_topics,\n",
    "                id2word=dictionary, passes=2, workers=4, eval_every=1\n",
    "            )"
   ]
  },
  {
   "cell_type": "code",
   "execution_count": 14,
   "metadata": {
    "scrolled": true
   },
   "outputs": [
    {
     "name": "stdout",
     "output_type": "stream",
     "text": [
      "0\n",
      "['patient', 'covid', 'pandem', 'diseas', 'nurs', 'infect', 'coronavirus', 'care', 'ncov', 'treatment']\n",
      "1\n",
      "['protein', 'coronavirus', 'virus', 'sarscov', 'cell', 'infect', 'viral', 'studi', 'structur', 'express']\n",
      "2\n",
      "['infect', 'covid', 'patient', 'cell', 'virus', 'activ', 'pandem', 'sar', 'coronavirus', 'diseas']\n",
      "3\n",
      "['pdcov', 'infect', 'protein', 'coronavirus', 'virus', 'strain', 'cell', 'result', 'studi', 'recombin']\n",
      "4\n",
      "['coronavirus', 'cell', 'infect', 'activ', 'virus', 'human', 'viral', 'studi', 'cat', 'respons']\n",
      "5\n",
      "['sar', 'case', 'infect', 'coronavirus', 'respiratori_syndrom', 'patient', 'virus', 'transmiss', 'sever_acut', 'diseas']\n",
      "6\n",
      "['covid', 'sarscov', 'diseas', 'outbreak', 'countri', 'patient', 'studi', 'case', 'result', 'method']\n",
      "7\n",
      "['covid', 'diseas', 'mortal', 'associ', 'patient', 'coronavirus', 'infect', 'risk', 'sever', 'hospit']\n",
      "8\n",
      "['infect', 'sarscov', 'virus', 'viral', 'diseas', 'coronavirus', 'covid', 'caus', 'develop', 'human']\n",
      "9\n",
      "['sarscov', 'covid', 'coronavirus', 'virus', 'diseas', 'includ', 'test', 'hcov', 'result', 'detect']\n",
      "10\n",
      "['covid', 'case', 'diseas', 'student', 'infect', 'sar', 'pandem', 'method', 'infecti_diseas', 'health']\n",
      "11\n",
      "['merscov', 'virus', 'human', 'detect', 'infect', 'pedv', 'coronavirus', 'antibodi', 'result', 'camel']\n",
      "12\n",
      "['covid', 'pandem', 'patient', 'risk', 'diseas', 'test', 'increas', 'coronavirus', 'infect', 'associ']\n",
      "13\n",
      "['covid', 'patient', 'infect', 'sarscov', 'diseas', 'pandem', 'case', 'coronavirus', 'care', 'report']\n",
      "14\n",
      "['patient', 'covid', 'case', 'test', 'symptom', 'clinic', 'infect', 'posit', 'sarscov', 'result']\n",
      "15\n",
      "['sarscov', 'coronavirus', 'merscov', 'human', 'virus', 'respiratori_syndrom', 'infect', 'covid', 'studi', 'diseas']\n",
      "16\n",
      "['model', 'covid', 'infect', 'epidem', 'data', 'countri', 'spread', 'diseas', 'case', 'number']\n",
      "17\n",
      "['vaccin', 'covid', 'diseas', 'coronavirus', 'public_health', 'respiratori_syndrom', 'sarscov', 'emerg', 'develop', 'pandem']\n",
      "18\n",
      "['virus', 'infect', 'coronavirus', 'sequenc', 'viral', 'genom', 'sarscov', 'replic', 'mutat', 'result']\n",
      "19\n",
      "['virus', 'infect', 'detect', 'respiratori', 'coronavirus', 'studi', 'sampl', 'pathogen', 'viral', 'result']\n",
      "20\n",
      "['patient', 'covid', 'sever', 'diseas', 'treatment', 'studi', 'sarscov', 'hospit', 'result', 'group']\n",
      "21\n",
      "['covid', 'patient', 'infect', 'virus', 'diseas', 'coronavirus', 'sarscov', 'clinic', 'children', 'develop']\n",
      "22\n",
      "['patient', 'covid', 'test', 'coronavirus', 'result', 'studi', 'infect', 'clinic', 'sampl', 'detect']\n",
      "23\n",
      "['covid', 'case', 'death', 'number', 'data', 'infect', 'estim', 'result', 'diseas', 'epidem']\n",
      "24\n",
      "['covid', 'pandem', 'studi', 'provid', 'health', 'inform', 'research', 'patient', 'respons', 'result']\n",
      "25\n",
      "['pandem', 'outbreak', 'covid', 'patient', 'coronavirus', 'provid', 'care', 'manag', 'experi', 'diseas']\n",
      "26\n",
      "['covid', 'sarscov', 'coronavirus', 'cell', 'infect', 'fusion', 'diseas', 'virus', 'patient', 'result']\n",
      "27\n",
      "['infect', 'virus', 'sarscov', 'cell', 'covid', 'human', 'coronavirus', 'patient', 'viral', 'studi']\n",
      "28\n",
      "['infect', 'activ', 'viral', 'increas', 'virus', 'tgev', 'studi', 'covid', 'cell', 'strain']\n",
      "29\n",
      "['infect', 'outbreak', 'merscov', 'case', 'studi', 'diseas', 'effect', 'control', 'result', 'mer']\n"
     ]
    },
    {
     "data": {
      "text/plain": [
       "[(23,\n",
       "  '0.035*\"covid\" + 0.027*\"case\" + 0.017*\"death\" + 0.014*\"number\" + 0.014*\"data\" + 0.012*\"infect\" + 0.011*\"estim\" + 0.010*\"result\" + 0.010*\"diseas\" + 0.010*\"epidem\"'),\n",
       " (12,\n",
       "  '0.047*\"covid\" + 0.014*\"pandem\" + 0.014*\"patient\" + 0.013*\"risk\" + 0.013*\"diseas\" + 0.012*\"test\" + 0.007*\"increas\" + 0.007*\"coronavirus\" + 0.007*\"infect\" + 0.006*\"associ\"'),\n",
       " (20,\n",
       "  '0.073*\"patient\" + 0.038*\"covid\" + 0.018*\"sever\" + 0.018*\"diseas\" + 0.013*\"treatment\" + 0.009*\"studi\" + 0.009*\"sarscov\" + 0.009*\"hospit\" + 0.009*\"result\" + 0.009*\"group\"'),\n",
       " (14,\n",
       "  '0.049*\"patient\" + 0.032*\"covid\" + 0.024*\"case\" + 0.016*\"test\" + 0.014*\"symptom\" + 0.013*\"clinic\" + 0.013*\"infect\" + 0.012*\"posit\" + 0.012*\"sarscov\" + 0.011*\"result\"'),\n",
       " (4,\n",
       "  '0.025*\"coronavirus\" + 0.020*\"cell\" + 0.017*\"infect\" + 0.014*\"activ\" + 0.013*\"virus\" + 0.009*\"human\" + 0.008*\"viral\" + 0.008*\"studi\" + 0.008*\"cat\" + 0.008*\"respons\"'),\n",
       " (7,\n",
       "  '0.041*\"covid\" + 0.013*\"diseas\" + 0.012*\"mortal\" + 0.012*\"associ\" + 0.011*\"patient\" + 0.009*\"coronavirus\" + 0.009*\"infect\" + 0.009*\"risk\" + 0.008*\"sever\" + 0.008*\"hospit\"'),\n",
       " (27,\n",
       "  '0.024*\"infect\" + 0.018*\"virus\" + 0.014*\"sarscov\" + 0.010*\"cell\" + 0.009*\"covid\" + 0.008*\"human\" + 0.008*\"coronavirus\" + 0.006*\"patient\" + 0.006*\"viral\" + 0.005*\"studi\"'),\n",
       " (16,\n",
       "  '0.024*\"model\" + 0.023*\"covid\" + 0.015*\"infect\" + 0.012*\"epidem\" + 0.012*\"data\" + 0.010*\"countri\" + 0.010*\"spread\" + 0.010*\"diseas\" + 0.009*\"case\" + 0.008*\"number\"'),\n",
       " (24,\n",
       "  '0.031*\"covid\" + 0.018*\"pandem\" + 0.010*\"studi\" + 0.009*\"provid\" + 0.007*\"health\" + 0.007*\"inform\" + 0.007*\"research\" + 0.007*\"patient\" + 0.006*\"respons\" + 0.006*\"result\"'),\n",
       " (28,\n",
       "  '0.018*\"infect\" + 0.013*\"activ\" + 0.009*\"viral\" + 0.009*\"increas\" + 0.009*\"virus\" + 0.007*\"tgev\" + 0.006*\"studi\" + 0.006*\"covid\" + 0.006*\"cell\" + 0.005*\"strain\"'),\n",
       " (17,\n",
       "  '0.034*\"vaccin\" + 0.025*\"covid\" + 0.025*\"diseas\" + 0.019*\"coronavirus\" + 0.010*\"public_health\" + 0.009*\"respiratori_syndrom\" + 0.009*\"sarscov\" + 0.009*\"emerg\" + 0.009*\"develop\" + 0.009*\"pandem\"'),\n",
       " (26,\n",
       "  '0.015*\"covid\" + 0.012*\"sarscov\" + 0.011*\"coronavirus\" + 0.010*\"cell\" + 0.007*\"infect\" + 0.006*\"fusion\" + 0.006*\"diseas\" + 0.006*\"virus\" + 0.006*\"patient\" + 0.006*\"result\"'),\n",
       " (21,\n",
       "  '0.017*\"covid\" + 0.016*\"patient\" + 0.015*\"infect\" + 0.009*\"virus\" + 0.008*\"diseas\" + 0.008*\"coronavirus\" + 0.007*\"sarscov\" + 0.007*\"clinic\" + 0.007*\"children\" + 0.007*\"develop\"'),\n",
       " (22,\n",
       "  '0.032*\"patient\" + 0.016*\"covid\" + 0.012*\"test\" + 0.010*\"coronavirus\" + 0.010*\"result\" + 0.009*\"studi\" + 0.009*\"infect\" + 0.008*\"clinic\" + 0.008*\"sampl\" + 0.008*\"detect\"'),\n",
       " (15,\n",
       "  '0.051*\"sarscov\" + 0.022*\"coronavirus\" + 0.019*\"merscov\" + 0.016*\"human\" + 0.015*\"virus\" + 0.010*\"respiratori_syndrom\" + 0.010*\"infect\" + 0.009*\"covid\" + 0.009*\"studi\" + 0.008*\"diseas\"'),\n",
       " (29,\n",
       "  '0.022*\"infect\" + 0.018*\"outbreak\" + 0.013*\"merscov\" + 0.011*\"case\" + 0.011*\"studi\" + 0.008*\"diseas\" + 0.008*\"effect\" + 0.007*\"control\" + 0.007*\"result\" + 0.007*\"mer\"'),\n",
       " (19,\n",
       "  '0.042*\"virus\" + 0.024*\"infect\" + 0.021*\"detect\" + 0.019*\"respiratori\" + 0.016*\"coronavirus\" + 0.013*\"studi\" + 0.012*\"sampl\" + 0.009*\"pathogen\" + 0.009*\"viral\" + 0.008*\"result\"'),\n",
       " (8,\n",
       "  '0.039*\"infect\" + 0.020*\"sarscov\" + 0.018*\"virus\" + 0.016*\"viral\" + 0.012*\"diseas\" + 0.012*\"coronavirus\" + 0.012*\"covid\" + 0.011*\"caus\" + 0.009*\"develop\" + 0.009*\"human\"'),\n",
       " (11,\n",
       "  '0.030*\"merscov\" + 0.022*\"virus\" + 0.014*\"human\" + 0.013*\"detect\" + 0.013*\"infect\" + 0.012*\"pedv\" + 0.012*\"coronavirus\" + 0.010*\"antibodi\" + 0.010*\"result\" + 0.009*\"camel\"'),\n",
       " (25,\n",
       "  '0.015*\"pandem\" + 0.014*\"outbreak\" + 0.013*\"covid\" + 0.008*\"patient\" + 0.007*\"coronavirus\" + 0.007*\"provid\" + 0.006*\"care\" + 0.006*\"manag\" + 0.006*\"experi\" + 0.005*\"diseas\"')]"
      ]
     },
     "execution_count": 14,
     "metadata": {},
     "output_type": "execute_result"
    }
   ],
   "source": [
    "topic_words = []\n",
    "n_top_words = 10\n",
    "\n",
    "for i in range(n_topics):\n",
    "    tt = lda_model.get_topic_terms(i,n_top_words)\n",
    "    topic_words.append([dictionary[pair[0]] for pair in tt])\n",
    "    \n",
    "for e, i in enumerate(topic_words):\n",
    "    print(e)\n",
    "    print(i)\n",
    "lda_model.print_topics(num_words=n_top_words)"
   ]
  },
  {
   "cell_type": "markdown",
   "metadata": {},
   "source": [
    " # Finding the dominant topic in each sentence"
   ]
  },
  {
   "cell_type": "markdown",
   "metadata": {},
   "source": [
    "One of the practical application of topic modeling is to determine what topic a given document is about.\n",
    "\n",
    "To find that, we find the topic number that has the highest percentage contribution in that document."
   ]
  },
  {
   "cell_type": "code",
   "execution_count": 31,
   "metadata": {
    "scrolled": true
   },
   "outputs": [
    {
     "name": "stdout",
     "output_type": "stream",
     "text": [
      "0.01\n",
      "0.02\n",
      "0.03\n",
      "0.04\n",
      "0.05\n",
      "0.060000000000000005\n",
      "0.07\n",
      "0.08\n",
      "0.09\n",
      "0.09999999999999999\n",
      "0.10999999999999999\n",
      "0.11999999999999998\n",
      "0.12999999999999998\n",
      "0.13999999999999999\n",
      "0.15\n",
      "0.16\n",
      "0.17\n",
      "0.18000000000000002\n",
      "0.19000000000000003\n",
      "0.20000000000000004\n",
      "0.21000000000000005\n",
      "0.22000000000000006\n",
      "0.23000000000000007\n",
      "0.24000000000000007\n",
      "0.25000000000000006\n",
      "0.26000000000000006\n",
      "0.2700000000000001\n",
      "0.2800000000000001\n",
      "0.2900000000000001\n",
      "0.3000000000000001\n",
      "0.3100000000000001\n",
      "0.3200000000000001\n",
      "0.3300000000000001\n",
      "0.34000000000000014\n",
      "0.35000000000000014\n",
      "0.36000000000000015\n",
      "0.37000000000000016\n",
      "0.38000000000000017\n",
      "0.3900000000000002\n",
      "0.4000000000000002\n",
      "0.4100000000000002\n",
      "0.4200000000000002\n",
      "0.4300000000000002\n",
      "0.4400000000000002\n",
      "0.45000000000000023\n",
      "0.46000000000000024\n",
      "0.47000000000000025\n",
      "0.48000000000000026\n",
      "0.49000000000000027\n",
      "0.5000000000000002\n",
      "0.5100000000000002\n",
      "0.5200000000000002\n",
      "0.5300000000000002\n",
      "0.5400000000000003\n",
      "0.5500000000000003\n",
      "0.5600000000000003\n",
      "0.5700000000000003\n",
      "0.5800000000000003\n",
      "0.5900000000000003\n",
      "0.6000000000000003\n",
      "0.6100000000000003\n",
      "0.6200000000000003\n",
      "0.6300000000000003\n",
      "0.6400000000000003\n",
      "0.6500000000000004\n",
      "0.6600000000000004\n",
      "0.6700000000000004\n",
      "0.6800000000000004\n",
      "0.6900000000000004\n",
      "0.7000000000000004\n",
      "0.7100000000000004\n",
      "0.7200000000000004\n",
      "0.7300000000000004\n",
      "0.7400000000000004\n",
      "0.7500000000000004\n",
      "0.7600000000000005\n",
      "0.7700000000000005\n",
      "0.7800000000000005\n",
      "0.7900000000000005\n",
      "0.8000000000000005\n",
      "0.8100000000000005\n",
      "0.8200000000000005\n",
      "0.8300000000000005\n",
      "0.8400000000000005\n",
      "0.8500000000000005\n",
      "0.8600000000000005\n",
      "0.8700000000000006\n",
      "0.8800000000000006\n",
      "0.8900000000000006\n",
      "0.9000000000000006\n",
      "0.9100000000000006\n",
      "0.9200000000000006\n",
      "0.9300000000000006\n",
      "0.9400000000000006\n",
      "0.9500000000000006\n",
      "0.9600000000000006\n",
      "0.9700000000000006\n",
      "0.9800000000000006\n",
      "0.9900000000000007\n",
      "1.0000000000000007\n"
     ]
    },
    {
     "data": {
      "text/html": [
       "<div>\n",
       "<style scoped>\n",
       "    .dataframe tbody tr th:only-of-type {\n",
       "        vertical-align: middle;\n",
       "    }\n",
       "\n",
       "    .dataframe tbody tr th {\n",
       "        vertical-align: top;\n",
       "    }\n",
       "\n",
       "    .dataframe thead th {\n",
       "        text-align: right;\n",
       "    }\n",
       "</style>\n",
       "<table border=\"1\" class=\"dataframe\">\n",
       "  <thead>\n",
       "    <tr style=\"text-align: right;\">\n",
       "      <th></th>\n",
       "      <th>Document_No</th>\n",
       "      <th>Dominant_Topic</th>\n",
       "      <th>Topic_Perc_Contrib</th>\n",
       "      <th>Keywords</th>\n",
       "    </tr>\n",
       "  </thead>\n",
       "  <tbody>\n",
       "    <tr>\n",
       "      <th>0</th>\n",
       "      <td>0</td>\n",
       "      <td>1.0</td>\n",
       "      <td>0.6119</td>\n",
       "      <td>protein, coronavirus, virus, sarscov, cell, in...</td>\n",
       "    </tr>\n",
       "    <tr>\n",
       "      <th>1</th>\n",
       "      <td>1</td>\n",
       "      <td>1.0</td>\n",
       "      <td>0.6486</td>\n",
       "      <td>protein, coronavirus, virus, sarscov, cell, in...</td>\n",
       "    </tr>\n",
       "    <tr>\n",
       "      <th>2</th>\n",
       "      <td>2</td>\n",
       "      <td>5.0</td>\n",
       "      <td>0.9295</td>\n",
       "      <td>sar, case, infect, coronavirus, respiratori_sy...</td>\n",
       "    </tr>\n",
       "    <tr>\n",
       "      <th>3</th>\n",
       "      <td>3</td>\n",
       "      <td>5.0</td>\n",
       "      <td>0.5678</td>\n",
       "      <td>sar, case, infect, coronavirus, respiratori_sy...</td>\n",
       "    </tr>\n",
       "    <tr>\n",
       "      <th>...</th>\n",
       "      <td>...</td>\n",
       "      <td>...</td>\n",
       "      <td>...</td>\n",
       "      <td>...</td>\n",
       "    </tr>\n",
       "    <tr>\n",
       "      <th>35277</th>\n",
       "      <td>35277</td>\n",
       "      <td>15.0</td>\n",
       "      <td>0.5952</td>\n",
       "      <td>sarscov, coronavirus, merscov, human, virus, r...</td>\n",
       "    </tr>\n",
       "    <tr>\n",
       "      <th>35278</th>\n",
       "      <td>35278</td>\n",
       "      <td>13.0</td>\n",
       "      <td>0.3585</td>\n",
       "      <td>covid, patient, infect, sarscov, diseas, pande...</td>\n",
       "    </tr>\n",
       "    <tr>\n",
       "      <th>35279</th>\n",
       "      <td>35279</td>\n",
       "      <td>4.0</td>\n",
       "      <td>0.5869</td>\n",
       "      <td>coronavirus, cell, infect, activ, virus, human...</td>\n",
       "    </tr>\n",
       "    <tr>\n",
       "      <th>35280</th>\n",
       "      <td>35280</td>\n",
       "      <td>5.0</td>\n",
       "      <td>0.4688</td>\n",
       "      <td>sar, case, infect, coronavirus, respiratori_sy...</td>\n",
       "    </tr>\n",
       "  </tbody>\n",
       "</table>\n",
       "<p>35281 rows × 4 columns</p>\n",
       "</div>"
      ],
      "text/plain": [
       "       Document_No  Dominant_Topic  Topic_Perc_Contrib  \\\n",
       "0                0             1.0              0.6119   \n",
       "1                1             1.0              0.6486   \n",
       "2                2             5.0              0.9295   \n",
       "3                3             5.0              0.5678   \n",
       "...            ...             ...                 ...   \n",
       "35277        35277            15.0              0.5952   \n",
       "35278        35278            13.0              0.3585   \n",
       "35279        35279             4.0              0.5869   \n",
       "35280        35280             5.0              0.4688   \n",
       "\n",
       "                                                Keywords  \n",
       "0      protein, coronavirus, virus, sarscov, cell, in...  \n",
       "1      protein, coronavirus, virus, sarscov, cell, in...  \n",
       "2      sar, case, infect, coronavirus, respiratori_sy...  \n",
       "3      sar, case, infect, coronavirus, respiratori_sy...  \n",
       "...                                                  ...  \n",
       "35277  sarscov, coronavirus, merscov, human, virus, r...  \n",
       "35278  covid, patient, infect, sarscov, diseas, pande...  \n",
       "35279  coronavirus, cell, infect, activ, virus, human...  \n",
       "35280  sar, case, infect, coronavirus, respiratori_sy...  \n",
       "\n",
       "[35281 rows x 4 columns]"
      ]
     },
     "execution_count": 31,
     "metadata": {},
     "output_type": "execute_result"
    }
   ],
   "source": [
    "def format_topics_sentences(ldamodel=lda_model, corpus=bow_corpus_np, texts=df['abstract'], increment=0.01):\n",
    "    # Init output\n",
    "    sent_topics_df = pd.DataFrame()\n",
    "\n",
    "    # Get main topic in each document\n",
    "    checkpoint=0\n",
    "    for i, row in enumerate(ldamodel[corpus]):\n",
    "        row = sorted(row, key=lambda x: (x[1]), reverse=True)\n",
    "        # Get the Dominant topic, Perc Contribution and Keywords for each document\n",
    "        for j, (topic_num, prop_topic) in enumerate(row):\n",
    "            if j == 0:  # => dominant topic\n",
    "                wp = ldamodel.show_topic(topic_num)\n",
    "                topic_keywords = \", \".join([word for word, prop in wp])\n",
    "                sent_topics_df = sent_topics_df.append(pd.Series([int(topic_num), round(prop_topic,4), topic_keywords]), ignore_index=True)\n",
    "            else:\n",
    "                break\n",
    "        if i / len(ldamodel[corpus]) > checkpoint:\n",
    "            checkpoint += increment\n",
    "            print(checkpoint)\n",
    "    sent_topics_df.columns = ['Dominant_Topic', 'Perc_Contribution', 'Topic_Keywords']\n",
    "\n",
    "    # Add original text to the end of the output\n",
    "#     contents = pd.Series(texts)\n",
    "#     sent_topics_df = pd.concat([sent_topics_df, contents], axis=1)\n",
    "    return sent_topics_df\n",
    "\n",
    "\n",
    "df_topic_sents_keywords = format_topics_sentences(ldamodel=lda_model, corpus=bow_corpus_np, texts=df['abstract'])\n",
    "\n",
    "# Format\n",
    "dominant_topic_30 = df_topic_sents_keywords.reset_index()\n",
    "dominant_topic_30.columns = ['Document_No', 'Dominant_Topic', 'Topic_Perc_Contrib', 'Keywords']\n",
    "\n",
    "# Show\n",
    "dominant_topic_30"
   ]
  },
  {
   "cell_type": "code",
   "execution_count": 45,
   "metadata": {},
   "outputs": [],
   "source": [
    "dominant_topic_30['Abstract'] = df['abstract']\n",
    "dominant_topic_30['abstract_COVID'] = df['abstract_COVID']\n",
    "dominant_topic_30['abstract_COVID'] = dominant_topic_30['abstract_COVID'].astype(int)\n",
    "dominant_topic_30['publish_time'] = df['publish_time']"
   ]
  },
  {
   "cell_type": "code",
   "execution_count": 46,
   "metadata": {},
   "outputs": [
    {
     "data": {
      "text/html": [
       "<div>\n",
       "<style scoped>\n",
       "    .dataframe tbody tr th:only-of-type {\n",
       "        vertical-align: middle;\n",
       "    }\n",
       "\n",
       "    .dataframe tbody tr th {\n",
       "        vertical-align: top;\n",
       "    }\n",
       "\n",
       "    .dataframe thead th {\n",
       "        text-align: right;\n",
       "    }\n",
       "</style>\n",
       "<table border=\"1\" class=\"dataframe\">\n",
       "  <thead>\n",
       "    <tr style=\"text-align: right;\">\n",
       "      <th></th>\n",
       "      <th>Document_No</th>\n",
       "      <th>Dominant_Topic</th>\n",
       "      <th>Topic_Perc_Contrib</th>\n",
       "      <th>Keywords</th>\n",
       "      <th>Abstract</th>\n",
       "      <th>abstract_COVID</th>\n",
       "      <th>publish_time</th>\n",
       "    </tr>\n",
       "  </thead>\n",
       "  <tbody>\n",
       "    <tr>\n",
       "      <th>0</th>\n",
       "      <td>0</td>\n",
       "      <td>1.0</td>\n",
       "      <td>0.6119</td>\n",
       "      <td>protein, coronavirus, virus, sarscov, cell, in...</td>\n",
       "      <td>ceacam1 is a member of the carcinoembryonic an...</td>\n",
       "      <td>0</td>\n",
       "      <td>2002-05-01</td>\n",
       "    </tr>\n",
       "    <tr>\n",
       "      <th>1</th>\n",
       "      <td>1</td>\n",
       "      <td>1.0</td>\n",
       "      <td>0.6486</td>\n",
       "      <td>protein, coronavirus, virus, sarscov, cell, in...</td>\n",
       "      <td>the key enzyme in coronavirus polyprotein proc...</td>\n",
       "      <td>0</td>\n",
       "      <td>2002-07-01</td>\n",
       "    </tr>\n",
       "    <tr>\n",
       "      <th>2</th>\n",
       "      <td>2</td>\n",
       "      <td>5.0</td>\n",
       "      <td>0.9295</td>\n",
       "      <td>sar, case, infect, coronavirus, respiratori_sy...</td>\n",
       "      <td>background the human leukocyte antigen hla sys...</td>\n",
       "      <td>0</td>\n",
       "      <td>2003-09-12</td>\n",
       "    </tr>\n",
       "    <tr>\n",
       "      <th>3</th>\n",
       "      <td>3</td>\n",
       "      <td>5.0</td>\n",
       "      <td>0.5678</td>\n",
       "      <td>sar, case, infect, coronavirus, respiratori_sy...</td>\n",
       "      <td>background an epidemic of a severe acute respi...</td>\n",
       "      <td>0</td>\n",
       "      <td>2003-09-10</td>\n",
       "    </tr>\n",
       "    <tr>\n",
       "      <th>...</th>\n",
       "      <td>...</td>\n",
       "      <td>...</td>\n",
       "      <td>...</td>\n",
       "      <td>...</td>\n",
       "      <td>...</td>\n",
       "      <td>...</td>\n",
       "      <td>...</td>\n",
       "    </tr>\n",
       "    <tr>\n",
       "      <th>35277</th>\n",
       "      <td>35277</td>\n",
       "      <td>15.0</td>\n",
       "      <td>0.5952</td>\n",
       "      <td>sarscov, coronavirus, merscov, human, virus, r...</td>\n",
       "      <td>the major mechanism of antibodymediated neutra...</td>\n",
       "      <td>0</td>\n",
       "      <td>2018-07-10</td>\n",
       "    </tr>\n",
       "    <tr>\n",
       "      <th>35278</th>\n",
       "      <td>35278</td>\n",
       "      <td>13.0</td>\n",
       "      <td>0.3585</td>\n",
       "      <td>covid, patient, infect, sarscov, diseas, pande...</td>\n",
       "      <td>abstract background coronavirus disease covid1...</td>\n",
       "      <td>1</td>\n",
       "      <td>2020-05-20</td>\n",
       "    </tr>\n",
       "    <tr>\n",
       "      <th>35279</th>\n",
       "      <td>35279</td>\n",
       "      <td>4.0</td>\n",
       "      <td>0.5869</td>\n",
       "      <td>coronavirus, cell, infect, activ, virus, human...</td>\n",
       "      <td>coronaviruses covs such as human coronavirus n...</td>\n",
       "      <td>0</td>\n",
       "      <td>2017-10-23</td>\n",
       "    </tr>\n",
       "    <tr>\n",
       "      <th>35280</th>\n",
       "      <td>35280</td>\n",
       "      <td>5.0</td>\n",
       "      <td>0.4688</td>\n",
       "      <td>sar, case, infect, coronavirus, respiratori_sy...</td>\n",
       "      <td>in the current issue of osong public health an...</td>\n",
       "      <td>1</td>\n",
       "      <td>2020-02-29</td>\n",
       "    </tr>\n",
       "  </tbody>\n",
       "</table>\n",
       "<p>35281 rows × 7 columns</p>\n",
       "</div>"
      ],
      "text/plain": [
       "       Document_No  Dominant_Topic  Topic_Perc_Contrib  \\\n",
       "0                0             1.0              0.6119   \n",
       "1                1             1.0              0.6486   \n",
       "2                2             5.0              0.9295   \n",
       "3                3             5.0              0.5678   \n",
       "...            ...             ...                 ...   \n",
       "35277        35277            15.0              0.5952   \n",
       "35278        35278            13.0              0.3585   \n",
       "35279        35279             4.0              0.5869   \n",
       "35280        35280             5.0              0.4688   \n",
       "\n",
       "                                                Keywords  \\\n",
       "0      protein, coronavirus, virus, sarscov, cell, in...   \n",
       "1      protein, coronavirus, virus, sarscov, cell, in...   \n",
       "2      sar, case, infect, coronavirus, respiratori_sy...   \n",
       "3      sar, case, infect, coronavirus, respiratori_sy...   \n",
       "...                                                  ...   \n",
       "35277  sarscov, coronavirus, merscov, human, virus, r...   \n",
       "35278  covid, patient, infect, sarscov, diseas, pande...   \n",
       "35279  coronavirus, cell, infect, activ, virus, human...   \n",
       "35280  sar, case, infect, coronavirus, respiratori_sy...   \n",
       "\n",
       "                                                Abstract  abstract_COVID  \\\n",
       "0      ceacam1 is a member of the carcinoembryonic an...               0   \n",
       "1      the key enzyme in coronavirus polyprotein proc...               0   \n",
       "2      background the human leukocyte antigen hla sys...               0   \n",
       "3      background an epidemic of a severe acute respi...               0   \n",
       "...                                                  ...             ...   \n",
       "35277  the major mechanism of antibodymediated neutra...               0   \n",
       "35278  abstract background coronavirus disease covid1...               1   \n",
       "35279  coronaviruses covs such as human coronavirus n...               0   \n",
       "35280  in the current issue of osong public health an...               1   \n",
       "\n",
       "      publish_time  \n",
       "0       2002-05-01  \n",
       "1       2002-07-01  \n",
       "2       2003-09-12  \n",
       "3       2003-09-10  \n",
       "...            ...  \n",
       "35277   2018-07-10  \n",
       "35278   2020-05-20  \n",
       "35279   2017-10-23  \n",
       "35280   2020-02-29  \n",
       "\n",
       "[35281 rows x 7 columns]"
      ]
     },
     "execution_count": 46,
     "metadata": {},
     "output_type": "execute_result"
    }
   ],
   "source": [
    "dominant_topic_30"
   ]
  },
  {
   "cell_type": "markdown",
   "metadata": {},
   "source": [
    "# Output file "
   ]
  },
  {
   "cell_type": "code",
   "execution_count": 49,
   "metadata": {},
   "outputs": [],
   "source": [
    "dominant_topic_30.to_csv(\"big_data/dominant_topic_30.csv\", index=False)"
   ]
  },
  {
   "cell_type": "markdown",
   "metadata": {},
   "source": [
    "# Visualizations"
   ]
  },
  {
   "cell_type": "code",
   "execution_count": 54,
   "metadata": {},
   "outputs": [
    {
     "name": "stdout",
     "output_type": "stream",
     "text": [
      "35281\n",
      "35113\n"
     ]
    }
   ],
   "source": [
    "metadata_dt_analysis = copy.deepcopy(dominant_topic_30)\n",
    "metadata_dt_analysis['Dominant_Topic'] = metadata_dt_analysis['Dominant_Topic'].fillna(0).astype(int)\n",
    "metadata_dt_analysis['abstract_COVID'] = metadata_dt_analysis['abstract_COVID'].astype('bool')\n",
    "print(len(metadata_dt_analysis))\n",
    "\n",
    "\n",
    "metadata_dt_analysis['converted_datetime'] = pd.to_datetime(metadata_dt_analysis['publish_time'], errors='coerce') # if format fails to parse, return NaT\n",
    "metadata_dt_analysis = metadata_dt_analysis.sort_values('converted_datetime')\n",
    "metadata_dt_analysis = metadata_dt_analysis[pd.isnull(metadata_dt_analysis['converted_datetime']) == False] # drop abstracts w/ null\n",
    "metadata_dt_analysis = metadata_dt_analysis[metadata_dt_analysis['converted_datetime'] <= data_datetime] # \n",
    "print(len(metadata_dt_analysis))"
   ]
  },
  {
   "cell_type": "code",
   "execution_count": 56,
   "metadata": {},
   "outputs": [
    {
     "data": {
      "text/plain": [
       "<matplotlib.legend.Legend at 0x28516784fd0>"
      ]
     },
     "execution_count": 56,
     "metadata": {},
     "output_type": "execute_result"
    },
    {
     "data": {
      "image/png": "[encoded data removed]",
      "text/plain": [
       "<Figure size 432x288 with 1 Axes>"
      ]
     },
     "metadata": {
      "needs_background": "light"
     },
     "output_type": "display_data"
    }
   ],
   "source": [
    "fig, ax = plt.subplots()\n",
    "plt.bar(np.arange(0, max(metadata_dt_analysis['Dominant_Topic'])),\n",
    "        np.bincount(metadata_dt_analysis['Dominant_Topic'], minlength=max(metadata_dt_analysis['Dominant_Topic']))[1:], \n",
    "        label='Non-COVID-19 Abstracts')\n",
    "subset_COVID = metadata_dt_analysis[metadata_dt_analysis['abstract_COVID']]\n",
    "plt.bar(np.arange(0, max(subset_COVID['Dominant_Topic'])),\n",
    "        np.bincount(subset_COVID['Dominant_Topic'], minlength=max(subset_COVID['Dominant_Topic']))[1:], \n",
    "        label='COVID-19 Abstracts')\n",
    "plt.xlabel('Topic ID', size=12)\n",
    "plt.ylabel('Count of Abstracts', size=12)\n",
    "# plt.title('Distribution of Abstracts Across Topics', size=14)\n",
    "# fig.savefig('Paper/Figures/6.png', dpi=dpi)\n",
    "plt.legend()"
   ]
  },
  {
   "cell_type": "code",
   "execution_count": 59,
   "metadata": {},
   "outputs": [
    {
     "data": {
      "image/png": "[encoded data removed]",
      "text/plain": [
       "<Figure size 432x288 with 1 Axes>"
      ]
     },
     "metadata": {
      "needs_background": "light"
     },
     "output_type": "display_data"
    }
   ],
   "source": [
    "abstract_cnts = np.bincount(metadata_dt_analysis['Dominant_Topic'][metadata_dt_analysis['abstract_COVID'] == 0] ,\n",
    "                    minlength=max(metadata_dt_analysis['Dominant_Topic'][metadata_dt_analysis['abstract_COVID'] == 0]))[1:]\n",
    "abstract_cnts = abstract_cnts / sum(abstract_cnts) * 100\n",
    "\n",
    "fig, ax = plt.subplots()\n",
    "plt.bar(np.arange(0, max(metadata_dt_analysis['Dominant_Topic'])) + 1,\n",
    "        abstract_cnts, \n",
    "        label='Non-SARS-CoV-2', width=0.4)\n",
    "\n",
    "abstract_cnts = np.bincount(subset_COVID['Dominant_Topic'], minlength=max(subset_COVID['Dominant_Topic']))[1:]\n",
    "abstract_cnts = abstract_cnts / sum(abstract_cnts) * 100\n",
    "subset_COVID = metadata_dt_analysis[metadata_dt_analysis['abstract_COVID']]\n",
    "plt.bar(np.arange(0, max(subset_COVID['Dominant_Topic'])) + 1 + .4,\n",
    "        abstract_cnts, \n",
    "        label='SARS-CoV-2', width=0.4)\n",
    "plt.xlabel('Topic ID', size=12)\n",
    "plt.ylabel('Percent Distribution of CoV Category', size=12)\n",
    "# plt.title('Distribution of Abstracts Across Topics', size=14)\n",
    "plt.legend(title='CoV Abstracts Category')\n",
    "fig.savefig('Paper/Figures/5.png', dpi=dpi)\n",
    "plt.show()"
   ]
  },
  {
   "cell_type": "code",
   "execution_count": 60,
   "metadata": {},
   "outputs": [
    {
     "name": "stderr",
     "output_type": "stream",
     "text": [
      "C:\\Users\\vldoa\\Anaconda3\\lib\\site-packages\\ipykernel_launcher.py:3: UserWarning: Boolean Series key will be reindexed to match DataFrame index.\n",
      "  This is separate from the ipykernel package so we can avoid doing imports until\n"
     ]
    }
   ],
   "source": [
    "subset_COVID = metadata_dt_analysis[\n",
    "    metadata_dt_analysis['abstract_COVID'] &\n",
    "    (subset_COVID['converted_datetime'] > datetime.datetime(2020, 1, 1))]"
   ]
  },
  {
   "cell_type": "code",
   "execution_count": 61,
   "metadata": {},
   "outputs": [],
   "source": [
    "topics, c = np.unique(subset_COVID['Dominant_Topic'], return_counts=True)\n",
    "topics = topics[np.argsort(c)[::-1]]; c = c[np.argsort(c)[::-1]]\n",
    "\n",
    "n_major = 2\n",
    "major_topics = topics[0:n_major]"
   ]
  },
  {
   "cell_type": "code",
   "execution_count": 62,
   "metadata": {},
   "outputs": [
    {
     "data": {
      "text/plain": [
       "(array([737446., 737456., 737477., 737485., 737506., 737516., 737537.,\n",
       "        737546., 737567., 737577.]),\n",
       " <a list of 10 Text xticklabel objects>)"
      ]
     },
     "execution_count": 62,
     "metadata": {},
     "output_type": "execute_result"
    },
    {
     "data": {
      "image/png": "[encoded data removed]",
      "text/plain": [
       "<Figure size 432x288 with 1 Axes>"
      ]
     },
     "metadata": {
      "needs_background": "light"
     },
     "output_type": "display_data"
    }
   ],
   "source": [
    "\n",
    "boolean_major_topics = subset_COVID['Dominant_Topic'].isin(major_topics)\n",
    "\n",
    "y = np.arange(1, sum(boolean_major_topics) + 1)\n",
    "plt.plot(subset_COVID[boolean_major_topics]['converted_datetime'], y)\n",
    "\n",
    "y = np.arange(1, sum(boolean_major_topics == False) + 1)\n",
    "plt.plot(subset_COVID[boolean_major_topics==False]['converted_datetime'], y)\n",
    "plt.xticks(rotation=45)\n",
    "\n",
    "# plt.yscale('log')"
   ]
  },
  {
   "cell_type": "markdown",
   "metadata": {},
   "source": [
    "Biomolecular; other\n",
    "3, 5, 7, 8, 10, 17\n",
    "Biomolecular; anti-viral work\n",
    "16, 22 , 23\n",
    "Clinical studies\n",
    "0, 18, 26\n",
    "Interaction with non-human species\n",
    "4, 21, 24\n",
    "Outbreaks\n",
    "2, 13, 14, 20\n",
    "Responding to outbreaks\n",
    "11, 12, 15\n",
    "Viral detection\n",
    "19, 25, 27\n",
    "Other\n",
    "1, 6, 9, 28, 29"
   ]
  },
  {
   "cell_type": "code",
   "execution_count": 69,
   "metadata": {},
   "outputs": [],
   "source": [
    "t_outbreak_publichealth = [25, 29, 13, 24, 5]\n",
    "t_outbreak_reporting = [23, 6, 7, 12, 10, 16, 21]\n",
    "t_testing = [14, 22]\n",
    "t_testing_or_transmission = [27, 9]\n",
    "t_treatments = [0, 20, 17]\n",
    "t_microbiology_general = [1, 26, 28, 19, 18, 3] # 18 and 3 are each specific but misc. topics\n",
    "t_microbiology_transmission = [2, 4, 15, 11, 8]\n",
    "t_microbiology_misc = [18, 3]\n",
    "\n",
    "t_all = [t_outbreak_publichealth, t_outbreak_reporting, t_testing, t_testing_or_transmission,\n",
    "         t_treatments, t_microbiology_general, t_microbiology_transmission]\n",
    "t_all_names = ['Outbreaks, Public Health', 'Outbreaks, General Reporting', 'Testing', \n",
    "               'Testing or Transmission', 'Vaccine Needs, Patient Care, and Therapeutics',\n",
    "               'Microbiology, General', 'Microbiology, Transmission',]"
   ]
  },
  {
   "cell_type": "code",
   "execution_count": 70,
   "metadata": {},
   "outputs": [
    {
     "data": {
      "text/plain": [
       "array([13, 20, 24, 16, 14, 23, 15, 17, 22, 29,  8, 12,  5,  1,  0,  4,  7,\n",
       "        6,  9, 18,  2, 25, 21, 10, 19, 27, 26, 28,  3, 11])"
      ]
     },
     "execution_count": 70,
     "metadata": {},
     "output_type": "execute_result"
    }
   ],
   "source": [
    "t, c = np.unique(metadata_dt_analysis['Dominant_Topic'][metadata_dt_analysis['abstract_COVID']==True], return_counts=True)\n",
    "t = t[np.argsort(c)[::-1]]\n",
    "t"
   ]
  },
  {
   "cell_type": "code",
   "execution_count": 71,
   "metadata": {},
   "outputs": [
    {
     "data": {
      "text/plain": [
       "0.3896847321504856"
      ]
     },
     "execution_count": 71,
     "metadata": {},
     "output_type": "execute_result"
    }
   ],
   "source": [
    "np.sum(metadata_dt_analysis['Dominant_Topic'].isin(t[0:5])) / len(metadata_dt_analysis)"
   ]
  },
  {
   "cell_type": "code",
   "execution_count": 72,
   "metadata": {},
   "outputs": [
    {
     "data": {
      "image/png": "[encoded data removed]",
      "text/plain": [
       "<Figure size 432x288 with 1 Axes>"
      ]
     },
     "metadata": {
      "needs_background": "light"
     },
     "output_type": "display_data"
    },
    {
     "data": {
      "image/png": "[encoded data removed]",
      "text/plain": [
       "<Figure size 432x288 with 1 Axes>"
      ]
     },
     "metadata": {
      "needs_background": "light"
     },
     "output_type": "display_data"
    }
   ],
   "source": [
    "sums_all, sums_covid = [], []\n",
    "for t, lst in enumerate(t_all):\n",
    "    boolean = metadata_dt_analysis['Dominant_Topic'].isin(lst)\n",
    "    sums_all.append(sum(boolean))\n",
    "    boolean = metadata_dt_analysis[metadata_dt_analysis['abstract_COVID']]['Dominant_Topic'].isin(lst)\n",
    "    sums_covid.append(sum(boolean))\n",
    "    \n",
    "plt.bar(np.arange(0, len(t_all)),\n",
    "        sums_all, \n",
    "        label='Non-COVID-19 Abstracts')\n",
    "plt.bar(np.arange(0, len(t_all)),\n",
    "        sums_covid, \n",
    "        label='COVID-19 Abstracts')\n",
    "plt.xticks(np.arange(len(t_all)), t_all_names, rotation=90)\n",
    "plt.ylabel('Count of Abstracts', size=12)\n",
    "plt.xlabel('Topic Family', size=12)\n",
    "plt.title('Abstracts Across Topic Families', size=14)\n",
    "plt.legend()\n",
    "plt.show()\n",
    "\n",
    "\n",
    "## By percentage\n",
    "sums_all, sums_covid = [], []\n",
    "for t, lst in enumerate(t_all):\n",
    "    boolean = metadata_dt_analysis['Dominant_Topic'].isin(lst)\n",
    "    sums_all.append(sum(boolean))\n",
    "    boolean = metadata_dt_analysis[metadata_dt_analysis['abstract_COVID']]['Dominant_Topic'].isin(lst)\n",
    "    sums_covid.append(sum(boolean))\n",
    "    \n",
    "sums_all = np.array(sums_all)\n",
    "sums_covid = np.array(sums_covid)\n",
    "    \n",
    "sums_all = sums_all - sums_covid # get non-COVID only\n",
    "sums_covid = np.array(sums_covid) * 100 / sum(sums_covid)\n",
    "sums_all = np.array(sums_all) * 100 / sum(sums_all)\n",
    "\n",
    "    \n",
    "plt.bar(np.arange(0, len(t_all)),\n",
    "        sums_all, \n",
    "        label='Non-SARS-CoV-2 Abstracts', width=0.25)\n",
    "plt.bar(np.arange(0, len(t_all)) + 0.25,\n",
    "        sums_covid, \n",
    "        label='SARS-CoV-2 Abstracts', width=0.25)\n",
    "plt.xticks(np.arange(len(t_all)), t_all_names, rotation=90)\n",
    "plt.ylabel('Percent Distribution of CoV Category', size=12)\n",
    "plt.xlabel('Topic Family', size=12)\n",
    "plt.title('Abstracts Across Topic Families', size=14)\n",
    "plt.legend(title='CoV Abstracts Category')\n",
    "plt.show()"
   ]
  },
  {
   "cell_type": "code",
   "execution_count": 73,
   "metadata": {},
   "outputs": [
    {
     "data": {
      "image/png": "[encoded data removed]",
      "text/plain": [
       "<Figure size 504x504 with 1 Axes>"
      ]
     },
     "metadata": {
      "needs_background": "light"
     },
     "output_type": "display_data"
    }
   ],
   "source": [
    "# drop abstracts at 2020 jan 1 due to datetime issues, then normalize later\n",
    "subset_COVID2 = subset_COVID[subset_COVID['converted_datetime'] > datetime.datetime(2020,1,1)]\n",
    "norm_factor = len(subset_COVID) / len(subset_COVID2)\n",
    "\n",
    "sums_all, sums_covid = [], []\n",
    "fig, ax = plt.subplots(figsize=(7, 7))\n",
    "\n",
    "covid_normalizer_df = metadata_dt_analysis[metadata_dt_analysis['abstract_COVID']] # use this to normalize cumsums for abstracts with just 2020 as date\n",
    "x = 0\n",
    "for t, lst in enumerate(t_all):\n",
    "    boolean = subset_COVID2['Dominant_Topic'].isin(lst)\n",
    "    normalize_boolean = covid_normalizer_df['Dominant_Topic'].isin(lst)\n",
    "    norm_factor = np.sum(normalize_boolean) / np.sum(boolean)\n",
    "    sums_covid.append(sum(boolean) * norm_factor)\n",
    "    x += sum(boolean) * norm_factor\n",
    "    plt.plot(subset_COVID2['converted_datetime'], np.cumsum(boolean) * norm_factor, label = t_all_names[t])\n",
    "plt.xticks([datetime.datetime(2020, 2, 1), datetime.datetime(2020, 2, 15), \n",
    "            datetime.datetime(2020, 3, 1), datetime.datetime(2020, 3, 15), \n",
    "            datetime.datetime(2020, 4, 1), datetime.datetime(2020, 4, 15), \n",
    "            datetime.datetime(2020, 5, 1), datetime.datetime(2020, 5, 15), \n",
    "            datetime.datetime(2020, 6, 1)\n",
    "           ], rotation=45)\n",
    "\n",
    "leg = ax.legend(title='Topic Family')\n",
    "plt.setp(leg.get_title(),fontsize='x-large')\n",
    "# get the individual lines inside legend and set line width\n",
    "for line in leg.get_lines():\n",
    "    line.set_linewidth(4)\n",
    "    \n",
    "plt.ylabel('Count of Abstracts', size=12)\n",
    "plt.xlabel('Date', size=12)\n",
    "plt.text(0.05, 0.575, 'B', transform=ax.transAxes, fontsize=28, fontweight='bold', va='top')\n",
    "# plt.title('Topic Families Over Time in COVID-19 Abstracts', size=14)\n",
    "# plt.yscale('log')\n",
    "plt.gcf().subplots_adjust(bottom=0.20)\n",
    "plt.savefig('Paper/Figures/6b.png', dpi=dpi)"
   ]
  },
  {
   "cell_type": "code",
   "execution_count": null,
   "metadata": {},
   "outputs": [],
   "source": [
    "plt.bar(np.arange(0, max(metadata_dt_analysis['Dominant_Topic'])),\n",
    "        np.bincount(metadata_dt_analysis['Dominant_Topic'], minlength=max(metadata_dt_analysis['Dominant_Topic']))[1:], \n",
    "        label='Non-COVID-19 Abstracts')\n",
    "subset = metadata_dt_analysis[metadata_dt_analysis['abstract_COVID']]\n",
    "plt.bar(np.arange(0, max(subset['Dominant_Topic'])),\n",
    "        np.bincount(subset['Dominant_Topic'], minlength=max(subset['Dominant_Topic']))[1:], \n",
    "        label='COVID-19 Abstracts')\n",
    "plt.xlabel('Topic ID', size=12)\n",
    "plt.ylabel('Count of Abstracts', size=12)\n",
    "plt.title('Distribution of Abstracts Across Topics', size=14)\n",
    "plt.legend()"
   ]
  },
  {
   "cell_type": "code",
   "execution_count": 97,
   "metadata": {},
   "outputs": [
    {
     "data": {
      "image/png": "[encoded data removed]",
      "text/plain": [
       "<Figure size 432x288 with 1 Axes>"
      ]
     },
     "metadata": {
      "needs_background": "light"
     },
     "output_type": "display_data"
    }
   ],
   "source": [
    "major_topics_n = topics[0:5]\n",
    "labels = [\n",
    "    'Public health management',\n",
    "    'Clinical manifestations',\n",
    "    'Clinical studies',\n",
    "    '',\n",
    "    '',\n",
    "]\n",
    "\n",
    "for t in major_topics_n:\n",
    "    boolean = (subset_COVID['Dominant_Topic'] == t)\n",
    "    y = np.arange(1, sum(boolean) + 1)\n",
    "    plt.plot(subset_COVID[boolean]['converted_datetime'], y)\n",
    "\n",
    "plt.xticks(rotation=45)\n",
    "\n",
    "plt.yscale('log')\n",
    "\n",
    "plt.xlabel('Date', size=12)\n",
    "plt.ylabel('Count of Abstracts (log scale)', size=12)\n",
    "plt.title('Abstracts Over Time', size=14)\n",
    "plt.legend()"
   ]
  },
  {
   "cell_type": "markdown",
   "metadata": {},
   "source": [
    "# COVID Distribution"
   ]
  },
  {
   "cell_type": "code",
   "execution_count": 50,
   "metadata": {},
   "outputs": [],
   "source": [
    "topics_distribution = dominant_topic_30.groupby(['Dominant_Topic']).agg({'abstract_COVID': 'sum'})\n",
    "\n",
    "# topic_COVID_presentage = topics_distribution.groupby(level=0).apply(lambda x:\n",
    "                                                 #100 * x / float(x.count()))\n",
    "topic_tot = dominant_topic_30.groupby(['Dominant_Topic']).agg({'abstract_COVID': 'count'})"
   ]
  },
  {
   "cell_type": "code",
   "execution_count": 51,
   "metadata": {},
   "outputs": [],
   "source": [
    "covid_distribution = pd.merge(topics_distribution,topic_tot, on = \"Dominant_Topic\")"
   ]
  },
  {
   "cell_type": "code",
   "execution_count": 52,
   "metadata": {},
   "outputs": [],
   "source": [
    "covid_distribution['COVID_Percentage'] = covid_distribution['abstract_COVID_x']/covid_distribution['abstract_COVID_y']"
   ]
  },
  {
   "cell_type": "code",
   "execution_count": 53,
   "metadata": {
    "scrolled": true
   },
   "outputs": [
    {
     "data": {
      "text/html": [
       "<div>\n",
       "<style scoped>\n",
       "    .dataframe tbody tr th:only-of-type {\n",
       "        vertical-align: middle;\n",
       "    }\n",
       "\n",
       "    .dataframe tbody tr th {\n",
       "        vertical-align: top;\n",
       "    }\n",
       "\n",
       "    .dataframe thead th {\n",
       "        text-align: right;\n",
       "    }\n",
       "</style>\n",
       "<table border=\"1\" class=\"dataframe\">\n",
       "  <thead>\n",
       "    <tr style=\"text-align: right;\">\n",
       "      <th></th>\n",
       "      <th>abstract_COVID_x</th>\n",
       "      <th>abstract_COVID_y</th>\n",
       "      <th>COVID_Percentage</th>\n",
       "    </tr>\n",
       "    <tr>\n",
       "      <th>Dominant_Topic</th>\n",
       "      <th></th>\n",
       "      <th></th>\n",
       "      <th></th>\n",
       "    </tr>\n",
       "  </thead>\n",
       "  <tbody>\n",
       "    <tr>\n",
       "      <th>0.0</th>\n",
       "      <td>150</td>\n",
       "      <td>458</td>\n",
       "      <td>0.327511</td>\n",
       "    </tr>\n",
       "    <tr>\n",
       "      <th>1.0</th>\n",
       "      <td>6</td>\n",
       "      <td>43</td>\n",
       "      <td>0.139535</td>\n",
       "    </tr>\n",
       "    <tr>\n",
       "      <th>2.0</th>\n",
       "      <td>56</td>\n",
       "      <td>160</td>\n",
       "      <td>0.350000</td>\n",
       "    </tr>\n",
       "    <tr>\n",
       "      <th>3.0</th>\n",
       "      <td>75</td>\n",
       "      <td>160</td>\n",
       "      <td>0.468750</td>\n",
       "    </tr>\n",
       "    <tr>\n",
       "      <th>...</th>\n",
       "      <td>...</td>\n",
       "      <td>...</td>\n",
       "      <td>...</td>\n",
       "    </tr>\n",
       "    <tr>\n",
       "      <th>26.0</th>\n",
       "      <td>407</td>\n",
       "      <td>815</td>\n",
       "      <td>0.499387</td>\n",
       "    </tr>\n",
       "    <tr>\n",
       "      <th>27.0</th>\n",
       "      <td>35</td>\n",
       "      <td>640</td>\n",
       "      <td>0.054688</td>\n",
       "    </tr>\n",
       "    <tr>\n",
       "      <th>28.0</th>\n",
       "      <td>24</td>\n",
       "      <td>254</td>\n",
       "      <td>0.094488</td>\n",
       "    </tr>\n",
       "    <tr>\n",
       "      <th>29.0</th>\n",
       "      <td>5</td>\n",
       "      <td>55</td>\n",
       "      <td>0.090909</td>\n",
       "    </tr>\n",
       "  </tbody>\n",
       "</table>\n",
       "<p>30 rows × 3 columns</p>\n",
       "</div>"
      ],
      "text/plain": [
       "                abstract_COVID_x  abstract_COVID_y  COVID_Percentage\n",
       "Dominant_Topic                                                      \n",
       "0.0                          150               458          0.327511\n",
       "1.0                            6                43          0.139535\n",
       "2.0                           56               160          0.350000\n",
       "3.0                           75               160          0.468750\n",
       "...                          ...               ...               ...\n",
       "26.0                         407               815          0.499387\n",
       "27.0                          35               640          0.054688\n",
       "28.0                          24               254          0.094488\n",
       "29.0                           5                55          0.090909\n",
       "\n",
       "[30 rows x 3 columns]"
      ]
     },
     "execution_count": 53,
     "metadata": {},
     "output_type": "execute_result"
    }
   ],
   "source": [
    "covid_distribution"
   ]
  },
  {
   "cell_type": "code",
   "execution_count": 54,
   "metadata": {},
   "outputs": [
    {
     "data": {
      "text/html": [
       "<div>\n",
       "<style scoped>\n",
       "    .dataframe tbody tr th:only-of-type {\n",
       "        vertical-align: middle;\n",
       "    }\n",
       "\n",
       "    .dataframe tbody tr th {\n",
       "        vertical-align: top;\n",
       "    }\n",
       "\n",
       "    .dataframe thead th {\n",
       "        text-align: right;\n",
       "    }\n",
       "</style>\n",
       "<table border=\"1\" class=\"dataframe\">\n",
       "  <thead>\n",
       "    <tr style=\"text-align: right;\">\n",
       "      <th></th>\n",
       "      <th>abstract_COVID</th>\n",
       "      <th>total</th>\n",
       "      <th>COVID_Percentage</th>\n",
       "    </tr>\n",
       "    <tr>\n",
       "      <th>Dominant_Topic</th>\n",
       "      <th></th>\n",
       "      <th></th>\n",
       "      <th></th>\n",
       "    </tr>\n",
       "  </thead>\n",
       "  <tbody>\n",
       "    <tr>\n",
       "      <th>0.0</th>\n",
       "      <td>150</td>\n",
       "      <td>458</td>\n",
       "      <td>0.327511</td>\n",
       "    </tr>\n",
       "    <tr>\n",
       "      <th>1.0</th>\n",
       "      <td>6</td>\n",
       "      <td>43</td>\n",
       "      <td>0.139535</td>\n",
       "    </tr>\n",
       "    <tr>\n",
       "      <th>2.0</th>\n",
       "      <td>56</td>\n",
       "      <td>160</td>\n",
       "      <td>0.350000</td>\n",
       "    </tr>\n",
       "    <tr>\n",
       "      <th>3.0</th>\n",
       "      <td>75</td>\n",
       "      <td>160</td>\n",
       "      <td>0.468750</td>\n",
       "    </tr>\n",
       "    <tr>\n",
       "      <th>...</th>\n",
       "      <td>...</td>\n",
       "      <td>...</td>\n",
       "      <td>...</td>\n",
       "    </tr>\n",
       "    <tr>\n",
       "      <th>26.0</th>\n",
       "      <td>407</td>\n",
       "      <td>815</td>\n",
       "      <td>0.499387</td>\n",
       "    </tr>\n",
       "    <tr>\n",
       "      <th>27.0</th>\n",
       "      <td>35</td>\n",
       "      <td>640</td>\n",
       "      <td>0.054688</td>\n",
       "    </tr>\n",
       "    <tr>\n",
       "      <th>28.0</th>\n",
       "      <td>24</td>\n",
       "      <td>254</td>\n",
       "      <td>0.094488</td>\n",
       "    </tr>\n",
       "    <tr>\n",
       "      <th>29.0</th>\n",
       "      <td>5</td>\n",
       "      <td>55</td>\n",
       "      <td>0.090909</td>\n",
       "    </tr>\n",
       "  </tbody>\n",
       "</table>\n",
       "<p>30 rows × 3 columns</p>\n",
       "</div>"
      ],
      "text/plain": [
       "                abstract_COVID  total  COVID_Percentage\n",
       "Dominant_Topic                                         \n",
       "0.0                        150    458          0.327511\n",
       "1.0                          6     43          0.139535\n",
       "2.0                         56    160          0.350000\n",
       "3.0                         75    160          0.468750\n",
       "...                        ...    ...               ...\n",
       "26.0                       407    815          0.499387\n",
       "27.0                        35    640          0.054688\n",
       "28.0                        24    254          0.094488\n",
       "29.0                         5     55          0.090909\n",
       "\n",
       "[30 rows x 3 columns]"
      ]
     },
     "execution_count": 54,
     "metadata": {},
     "output_type": "execute_result"
    }
   ],
   "source": [
    "covid_distribution.rename(columns={\"abstract_COVID_x\": \"abstract_COVID\", \"abstract_COVID_y\": \"total\"})"
   ]
  },
  {
   "cell_type": "code",
   "execution_count": 55,
   "metadata": {},
   "outputs": [],
   "source": [
    "covid_distribution.to_csv(\"big_data/covid_distribution_30.csv\")"
   ]
  }
 ],
 "metadata": {
  "kernelspec": {
   "display_name": "Python 3",
   "language": "python",
   "name": "python3"
  },
  "language_info": {
   "codemirror_mode": {
    "name": "ipython",
    "version": 3
   },
   "file_extension": ".py",
   "mimetype": "text/x-python",
   "name": "python",
   "nbconvert_exporter": "python",
   "pygments_lexer": "ipython3",
   "version": "3.7.3"
  }
 },
 "nbformat": 4,
 "nbformat_minor": 2
}
